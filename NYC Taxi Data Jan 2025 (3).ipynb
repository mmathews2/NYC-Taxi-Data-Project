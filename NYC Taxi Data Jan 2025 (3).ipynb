{
 "cells": [
  {
   "cell_type": "markdown",
   "metadata": {
    "application/vnd.databricks.v1+cell": {
     "cellMetadata": {
      "byteLimit": 2048000,
      "rowLimit": 10000
     },
     "inputWidgets": {},
     "nuid": "96816ed7-b08a-4ca3-abb9-f99880c3535d",
     "showTitle": false,
     "tableResultSettingsMap": {},
     "title": ""
    }
   },
   "source": [
    "\n",
    "## Overview\n",
    "\n",
    "This notebook will show you how to create and query a table or DataFrame that you uploaded to DBFS. [DBFS](https://docs.databricks.com/user-guide/dbfs-databricks-file-system.html) is a Databricks File System that allows you to store data for querying inside of Databricks. This notebook assumes that you have a file already inside of DBFS that you would like to read from.\n",
    "\n",
    "This notebook is written in **Python** so the default cell type is Python. However, you can use different languages by using the `%LANGUAGE` syntax. Python, Scala, SQL, and R are all supported."
   ]
  },
  {
   "cell_type": "markdown",
   "metadata": {
    "application/vnd.databricks.v1+cell": {
     "cellMetadata": {
      "byteLimit": 2048000,
      "rowLimit": 10000
     },
     "inputWidgets": {},
     "nuid": "2725021e-82eb-4ac1-9f8d-8fef80cd93c6",
     "showTitle": false,
     "tableResultSettingsMap": {},
     "title": ""
    }
   },
   "source": [
    "**Data Background:**"
   ]
  },
  {
   "cell_type": "markdown",
   "metadata": {
    "application/vnd.databricks.v1+cell": {
     "cellMetadata": {
      "byteLimit": 2048000,
      "rowLimit": 10000
     },
     "inputWidgets": {},
     "nuid": "4e94ed70-b177-4782-9cfa-a6eb9b7b7223",
     "showTitle": false,
     "tableResultSettingsMap": {},
     "title": ""
    }
   },
   "source": [
    "**Importing the File:**"
   ]
  },
  {
   "cell_type": "code",
   "execution_count": 0,
   "metadata": {
    "application/vnd.databricks.v1+cell": {
     "cellMetadata": {
      "byteLimit": 2048000,
      "rowLimit": 10000
     },
     "inputWidgets": {},
     "nuid": "6482be4c-f067-47c9-b0ac-35c938b94601",
     "showTitle": false,
     "tableResultSettingsMap": {},
     "title": ""
    }
   },
   "outputs": [
    {
     "output_type": "stream",
     "name": "stdout",
     "output_type": "stream",
     "text": [
      "root\n |-- VendorID: integer (nullable = true)\n |-- tpep_pickup_datetime: timestamp_ntz (nullable = true)\n |-- tpep_dropoff_datetime: timestamp_ntz (nullable = true)\n |-- passenger_count: long (nullable = true)\n |-- trip_distance: double (nullable = true)\n |-- RatecodeID: long (nullable = true)\n |-- store_and_fwd_flag: string (nullable = true)\n |-- PULocationID: integer (nullable = true)\n |-- DOLocationID: integer (nullable = true)\n |-- payment_type: long (nullable = true)\n |-- fare_amount: double (nullable = true)\n |-- extra: double (nullable = true)\n |-- mta_tax: double (nullable = true)\n |-- tip_amount: double (nullable = true)\n |-- tolls_amount: double (nullable = true)\n |-- improvement_surcharge: double (nullable = true)\n |-- total_amount: double (nullable = true)\n |-- congestion_surcharge: double (nullable = true)\n |-- Airport_fee: double (nullable = true)\n\n+--------+--------------------+---------------------+---------------+-------------+----------+------------------+------------+------------+------------+-----------+-----+-------+----------+------------+---------------------+------------+--------------------+-----------+\n|VendorID|tpep_pickup_datetime|tpep_dropoff_datetime|passenger_count|trip_distance|RatecodeID|store_and_fwd_flag|PULocationID|DOLocationID|payment_type|fare_amount|extra|mta_tax|tip_amount|tolls_amount|improvement_surcharge|total_amount|congestion_surcharge|Airport_fee|\n+--------+--------------------+---------------------+---------------+-------------+----------+------------------+------------+------------+------------+-----------+-----+-------+----------+------------+---------------------+------------+--------------------+-----------+\n|       1| 2025-01-01 00:18:38|  2025-01-01 00:26:59|              1|          1.6|         1|                 N|         229|         237|           1|       10.0|  3.5|    0.5|       3.0|         0.0|                  1.0|        18.0|                 2.5|        0.0|\n|       1| 2025-01-01 00:32:40|  2025-01-01 00:35:13|              1|          0.5|         1|                 N|         236|         237|           1|        5.1|  3.5|    0.5|      2.02|         0.0|                  1.0|       12.12|                 2.5|        0.0|\n|       1| 2025-01-01 00:44:04|  2025-01-01 00:46:01|              1|          0.6|         1|                 N|         141|         141|           1|        5.1|  3.5|    0.5|       2.0|         0.0|                  1.0|        12.1|                 2.5|        0.0|\n|       2| 2025-01-01 00:14:27|  2025-01-01 00:20:01|              3|         0.52|         1|                 N|         244|         244|           2|        7.2|  1.0|    0.5|       0.0|         0.0|                  1.0|         9.7|                 0.0|        0.0|\n|       2| 2025-01-01 00:21:34|  2025-01-01 00:25:06|              3|         0.66|         1|                 N|         244|         116|           2|        5.8|  1.0|    0.5|       0.0|         0.0|                  1.0|         8.3|                 0.0|        0.0|\n+--------+--------------------+---------------------+---------------+-------------+----------+------------------+------------+------------+------------+-----------+-----+-------+----------+------------+---------------------+------------+--------------------+-----------+\nonly showing top 5 rows\n\n"
     ]
    }
   ],
   "source": [
    "# Load January 2025 NYC Yellow Taxi Data\n",
    "file_location = \"/FileStore/tables/yellow_tripdata_2025_01.parquet\"\n",
    "\n",
    "# Read Parquet file using Spark\n",
    "df = spark.read.parquet(file_location)\n",
    "\n",
    "# Print the schema to understand structure\n",
    "df.printSchema()\n",
    "\n",
    "# Preview the first 5 rows\n",
    "df.show(5)\n"
   ]
  },
  {
   "cell_type": "markdown",
   "metadata": {
    "application/vnd.databricks.v1+cell": {
     "cellMetadata": {
      "byteLimit": 2048000,
      "rowLimit": 10000
     },
     "inputWidgets": {},
     "nuid": "3b6acd3e-370c-4312-867f-b490ce8f6866",
     "showTitle": false,
     "tableResultSettingsMap": {},
     "title": ""
    }
   },
   "source": [
    "**SQL View of Data - Understanding the Data to prep for cleaning**"
   ]
  },
  {
   "cell_type": "code",
   "execution_count": 0,
   "metadata": {
    "application/vnd.databricks.v1+cell": {
     "cellMetadata": {
      "byteLimit": 2048000,
      "rowLimit": 10000
     },
     "inputWidgets": {},
     "nuid": "bd82bb99-1479-4d5c-be10-8c36df0f1d44",
     "showTitle": false,
     "tableResultSettingsMap": {},
     "title": ""
    }
   },
   "outputs": [],
   "source": [
    "# DataFrame as a temporary SQL table\n",
    "df.createOrReplaceTempView(\"nyc_taxi_raw\")"
   ]
  },
  {
   "cell_type": "code",
   "execution_count": 0,
   "metadata": {
    "application/vnd.databricks.v1+cell": {
     "cellMetadata": {
      "byteLimit": 2048000,
      "implicitDf": true,
      "rowLimit": 10000
     },
     "inputWidgets": {},
     "nuid": "b5f66379-6f7f-42ec-8e82-d0e0926a1721",
     "showTitle": false,
     "tableResultSettingsMap": {},
     "title": ""
    }
   },
   "outputs": [
    {
     "output_type": "display_data",
     "data": {
      "text/html": [
       "<style scoped>\n",
       "  .table-result-container {\n",
       "    max-height: 300px;\n",
       "    overflow: auto;\n",
       "  }\n",
       "  table, th, td {\n",
       "    border: 1px solid black;\n",
       "    border-collapse: collapse;\n",
       "  }\n",
       "  th, td {\n",
       "    padding: 5px;\n",
       "  }\n",
       "  th {\n",
       "    text-align: left;\n",
       "  }\n",
       "</style><div class='table-result-container'><table class='table-result'><thead style='background-color: white'><tr><th>tpep_pickup_datetime</th><th>tpep_dropoff_datetime</th><th>passenger_count</th><th>trip_distance</th><th>fare_amount</th><th>payment_type</th></tr></thead><tbody><tr><td>2025-01-01T00:18:38</td><td>2025-01-01T00:26:59</td><td>1</td><td>1.6</td><td>10.0</td><td>1</td></tr><tr><td>2025-01-01T00:32:40</td><td>2025-01-01T00:35:13</td><td>1</td><td>0.5</td><td>5.1</td><td>1</td></tr><tr><td>2025-01-01T00:44:04</td><td>2025-01-01T00:46:01</td><td>1</td><td>0.6</td><td>5.1</td><td>1</td></tr><tr><td>2025-01-01T00:14:27</td><td>2025-01-01T00:20:01</td><td>3</td><td>0.52</td><td>7.2</td><td>2</td></tr><tr><td>2025-01-01T00:21:34</td><td>2025-01-01T00:25:06</td><td>3</td><td>0.66</td><td>5.8</td><td>2</td></tr><tr><td>2025-01-01T00:48:24</td><td>2025-01-01T01:08:26</td><td>2</td><td>2.63</td><td>19.1</td><td>2</td></tr><tr><td>2025-01-01T00:14:47</td><td>2025-01-01T00:16:15</td><td>0</td><td>0.4</td><td>4.4</td><td>1</td></tr><tr><td>2025-01-01T00:39:27</td><td>2025-01-01T00:51:51</td><td>0</td><td>1.6</td><td>12.1</td><td>1</td></tr><tr><td>2025-01-01T00:53:43</td><td>2025-01-01T01:13:23</td><td>0</td><td>2.8</td><td>19.1</td><td>1</td></tr><tr><td>2025-01-01T00:00:02</td><td>2025-01-01T00:09:36</td><td>1</td><td>1.71</td><td>11.4</td><td>2</td></tr><tr><td>2025-01-01T00:20:28</td><td>2025-01-01T00:28:04</td><td>1</td><td>2.29</td><td>11.4</td><td>2</td></tr><tr><td>2025-01-01T00:33:58</td><td>2025-01-01T00:37:23</td><td>1</td><td>0.56</td><td>5.8</td><td>1</td></tr><tr><td>2025-01-01T00:42:40</td><td>2025-01-01T00:55:38</td><td>3</td><td>1.99</td><td>14.2</td><td>2</td></tr><tr><td>2025-01-01T00:30:07</td><td>2025-01-01T00:36:48</td><td>1</td><td>1.1</td><td>7.9</td><td>2</td></tr><tr><td>2025-01-01T00:39:55</td><td>2025-01-01T01:13:59</td><td>1</td><td>3.2</td><td>26.1</td><td>1</td></tr><tr><td>2025-01-01T00:16:54</td><td>2025-01-01T00:35:12</td><td>3</td><td>2.5</td><td>17.7</td><td>2</td></tr><tr><td>2025-01-01T00:43:10</td><td>2025-01-01T01:00:03</td><td>1</td><td>1.9</td><td>16.3</td><td>1</td></tr><tr><td>2025-01-01T00:01:41</td><td>2025-01-01T00:07:14</td><td>1</td><td>0.71</td><td>-7.2</td><td>2</td></tr><tr><td>2025-01-01T00:01:41</td><td>2025-01-01T00:07:14</td><td>1</td><td>0.71</td><td>7.2</td><td>2</td></tr><tr><td>2025-01-01T00:33:12</td><td>2025-01-01T00:50:14</td><td>2</td><td>1.2</td><td>15.6</td><td>1</td></tr><tr><td>2025-01-01T00:05:49</td><td>2025-01-01T00:20:00</td><td>2</td><td>3.45</td><td>17.7</td><td>1</td></tr><tr><td>2025-01-01T00:34:40</td><td>2025-01-01T00:51:19</td><td>2</td><td>1.19</td><td>14.9</td><td>1</td></tr><tr><td>2025-01-01T00:55:54</td><td>2025-01-01T01:00:38</td><td>1</td><td>0.69</td><td>-6.5</td><td>4</td></tr><tr><td>2025-01-01T00:55:54</td><td>2025-01-01T01:00:38</td><td>1</td><td>0.69</td><td>6.5</td><td>4</td></tr><tr><td>2025-01-01T00:17:44</td><td>2025-01-01T00:22:52</td><td>1</td><td>1.0</td><td>7.2</td><td>1</td></tr></tbody></table></div>"
      ]
     },
     "metadata": {
      "application/vnd.databricks.v1+output": {
       "addedWidgets": {},
       "aggData": [],
       "aggError": "",
       "aggOverflow": false,
       "aggSchema": [],
       "aggSeriesLimitReached": false,
       "aggType": "",
       "arguments": {},
       "columnCustomDisplayInfos": {},
       "data": [
        [
         "2025-01-01T00:18:38",
         "2025-01-01T00:26:59",
         1,
         1.6,
         10.0,
         1
        ],
        [
         "2025-01-01T00:32:40",
         "2025-01-01T00:35:13",
         1,
         0.5,
         5.1,
         1
        ],
        [
         "2025-01-01T00:44:04",
         "2025-01-01T00:46:01",
         1,
         0.6,
         5.1,
         1
        ],
        [
         "2025-01-01T00:14:27",
         "2025-01-01T00:20:01",
         3,
         0.52,
         7.2,
         2
        ],
        [
         "2025-01-01T00:21:34",
         "2025-01-01T00:25:06",
         3,
         0.66,
         5.8,
         2
        ],
        [
         "2025-01-01T00:48:24",
         "2025-01-01T01:08:26",
         2,
         2.63,
         19.1,
         2
        ],
        [
         "2025-01-01T00:14:47",
         "2025-01-01T00:16:15",
         0,
         0.4,
         4.4,
         1
        ],
        [
         "2025-01-01T00:39:27",
         "2025-01-01T00:51:51",
         0,
         1.6,
         12.1,
         1
        ],
        [
         "2025-01-01T00:53:43",
         "2025-01-01T01:13:23",
         0,
         2.8,
         19.1,
         1
        ],
        [
         "2025-01-01T00:00:02",
         "2025-01-01T00:09:36",
         1,
         1.71,
         11.4,
         2
        ],
        [
         "2025-01-01T00:20:28",
         "2025-01-01T00:28:04",
         1,
         2.29,
         11.4,
         2
        ],
        [
         "2025-01-01T00:33:58",
         "2025-01-01T00:37:23",
         1,
         0.56,
         5.8,
         1
        ],
        [
         "2025-01-01T00:42:40",
         "2025-01-01T00:55:38",
         3,
         1.99,
         14.2,
         2
        ],
        [
         "2025-01-01T00:30:07",
         "2025-01-01T00:36:48",
         1,
         1.1,
         7.9,
         2
        ],
        [
         "2025-01-01T00:39:55",
         "2025-01-01T01:13:59",
         1,
         3.2,
         26.1,
         1
        ],
        [
         "2025-01-01T00:16:54",
         "2025-01-01T00:35:12",
         3,
         2.5,
         17.7,
         2
        ],
        [
         "2025-01-01T00:43:10",
         "2025-01-01T01:00:03",
         1,
         1.9,
         16.3,
         1
        ],
        [
         "2025-01-01T00:01:41",
         "2025-01-01T00:07:14",
         1,
         0.71,
         -7.2,
         2
        ],
        [
         "2025-01-01T00:01:41",
         "2025-01-01T00:07:14",
         1,
         0.71,
         7.2,
         2
        ],
        [
         "2025-01-01T00:33:12",
         "2025-01-01T00:50:14",
         2,
         1.2,
         15.6,
         1
        ],
        [
         "2025-01-01T00:05:49",
         "2025-01-01T00:20:00",
         2,
         3.45,
         17.7,
         1
        ],
        [
         "2025-01-01T00:34:40",
         "2025-01-01T00:51:19",
         2,
         1.19,
         14.9,
         1
        ],
        [
         "2025-01-01T00:55:54",
         "2025-01-01T01:00:38",
         1,
         0.69,
         -6.5,
         4
        ],
        [
         "2025-01-01T00:55:54",
         "2025-01-01T01:00:38",
         1,
         0.69,
         6.5,
         4
        ],
        [
         "2025-01-01T00:17:44",
         "2025-01-01T00:22:52",
         1,
         1.0,
         7.2,
         1
        ]
       ],
       "datasetInfos": [],
       "dbfsResultPath": null,
       "isJsonSchema": true,
       "metadata": {
        "createTempViewForImplicitDf": true,
        "dataframeName": "_sqldf",
        "executionCount": 3
       },
       "overflow": false,
       "plotOptions": {
        "customPlotOptions": {},
        "displayType": "table",
        "pivotAggregation": null,
        "pivotColumns": null,
        "xColumns": null,
        "yColumns": null
       },
       "removedWidgets": [],
       "schema": [
        {
         "metadata": "{}",
         "name": "tpep_pickup_datetime",
         "type": "\"timestamp_ntz\""
        },
        {
         "metadata": "{}",
         "name": "tpep_dropoff_datetime",
         "type": "\"timestamp_ntz\""
        },
        {
         "metadata": "{}",
         "name": "passenger_count",
         "type": "\"long\""
        },
        {
         "metadata": "{}",
         "name": "trip_distance",
         "type": "\"double\""
        },
        {
         "metadata": "{}",
         "name": "fare_amount",
         "type": "\"double\""
        },
        {
         "metadata": "{}",
         "name": "payment_type",
         "type": "\"long\""
        }
       ],
       "type": "table"
      }
     },
     "output_type": "display_data"
    }
   ],
   "source": [
    "%sql\n",
    "SELECT\n",
    "tpep_pickup_datetime,\n",
    "tpep_dropoff_datetime,\n",
    "passenger_count,\n",
    "trip_distance,\n",
    "fare_amount,\n",
    "payment_type\n",
    "FROM nyc_taxi_raw\n",
    "LIMIT 25\n"
   ]
  },
  {
   "cell_type": "code",
   "execution_count": 0,
   "metadata": {
    "application/vnd.databricks.v1+cell": {
     "cellMetadata": {
      "byteLimit": 2048000,
      "implicitDf": true,
      "rowLimit": 10000
     },
     "inputWidgets": {},
     "nuid": "1bf89509-f903-46d4-9a47-d085fc9e4e63",
     "showTitle": false,
     "tableResultSettingsMap": {},
     "title": ""
    }
   },
   "outputs": [
    {
     "output_type": "display_data",
     "data": {
      "text/html": [
       "<style scoped>\n",
       "  .table-result-container {\n",
       "    max-height: 300px;\n",
       "    overflow: auto;\n",
       "  }\n",
       "  table, th, td {\n",
       "    border: 1px solid black;\n",
       "    border-collapse: collapse;\n",
       "  }\n",
       "  th, td {\n",
       "    padding: 5px;\n",
       "  }\n",
       "  th {\n",
       "    text-align: left;\n",
       "  }\n",
       "</style><div class='table-result-container'><table class='table-result'><thead style='background-color: white'><tr><th>trip_distance</th><th>fare_amount</th><th>passenger_count</th></tr></thead><tbody><tr><td>0.0</td><td>20.06</td><td>1</td></tr><tr><td>0.0</td><td>12.0</td><td>1</td></tr><tr><td>0.0</td><td>30.0</td><td>3</td></tr><tr><td>0.0</td><td>50.5</td><td>1</td></tr><tr><td>0.0</td><td>20.0</td><td>4</td></tr><tr><td>0.0</td><td>3.0</td><td>0</td></tr><tr><td>0.0</td><td>5.0</td><td>1</td></tr><tr><td>0.0</td><td>20.0</td><td>4</td></tr><tr><td>0.0</td><td>3.0</td><td>1</td></tr><tr><td>0.0</td><td>85.0</td><td>4</td></tr><tr><td>0.0</td><td>3.0</td><td>1</td></tr><tr><td>0.0</td><td>53.5</td><td>1</td></tr><tr><td>0.0</td><td>3.7</td><td>1</td></tr><tr><td>0.0</td><td>40.5</td><td>1</td></tr><tr><td>0.0</td><td>3.0</td><td>1</td></tr><tr><td>0.0</td><td>79.0</td><td>3</td></tr><tr><td>0.0</td><td>79.5</td><td>2</td></tr><tr><td>0.0</td><td>13.5</td><td>2</td></tr><tr><td>0.0</td><td>7.2</td><td>2</td></tr><tr><td>0.0</td><td>28.9</td><td>3</td></tr><tr><td>0.0</td><td>24.1</td><td>2</td></tr><tr><td>0.0</td><td>20.0</td><td>1</td></tr><tr><td>0.0</td><td>20.0</td><td>1</td></tr><tr><td>0.0</td><td>6.5</td><td>3</td></tr><tr><td>0.0</td><td>3.0</td><td>1</td></tr></tbody></table></div>"
      ]
     },
     "metadata": {
      "application/vnd.databricks.v1+output": {
       "addedWidgets": {},
       "aggData": [],
       "aggError": "",
       "aggOverflow": false,
       "aggSchema": [],
       "aggSeriesLimitReached": false,
       "aggType": "",
       "arguments": {},
       "columnCustomDisplayInfos": {},
       "data": [
        [
         0.0,
         20.06,
         1
        ],
        [
         0.0,
         12.0,
         1
        ],
        [
         0.0,
         30.0,
         3
        ],
        [
         0.0,
         50.5,
         1
        ],
        [
         0.0,
         20.0,
         4
        ],
        [
         0.0,
         3.0,
         0
        ],
        [
         0.0,
         5.0,
         1
        ],
        [
         0.0,
         20.0,
         4
        ],
        [
         0.0,
         3.0,
         1
        ],
        [
         0.0,
         85.0,
         4
        ],
        [
         0.0,
         3.0,
         1
        ],
        [
         0.0,
         53.5,
         1
        ],
        [
         0.0,
         3.7,
         1
        ],
        [
         0.0,
         40.5,
         1
        ],
        [
         0.0,
         3.0,
         1
        ],
        [
         0.0,
         79.0,
         3
        ],
        [
         0.0,
         79.5,
         2
        ],
        [
         0.0,
         13.5,
         2
        ],
        [
         0.0,
         7.2,
         2
        ],
        [
         0.0,
         28.9,
         3
        ],
        [
         0.0,
         24.1,
         2
        ],
        [
         0.0,
         20.0,
         1
        ],
        [
         0.0,
         20.0,
         1
        ],
        [
         0.0,
         6.5,
         3
        ],
        [
         0.0,
         3.0,
         1
        ]
       ],
       "datasetInfos": [],
       "dbfsResultPath": null,
       "isJsonSchema": true,
       "metadata": {
        "createTempViewForImplicitDf": true,
        "dataframeName": "_sqldf",
        "executionCount": 4
       },
       "overflow": false,
       "plotOptions": {
        "customPlotOptions": {},
        "displayType": "table",
        "pivotAggregation": null,
        "pivotColumns": null,
        "xColumns": null,
        "yColumns": null
       },
       "removedWidgets": [],
       "schema": [
        {
         "metadata": "{}",
         "name": "trip_distance",
         "type": "\"double\""
        },
        {
         "metadata": "{}",
         "name": "fare_amount",
         "type": "\"double\""
        },
        {
         "metadata": "{}",
         "name": "passenger_count",
         "type": "\"long\""
        }
       ],
       "type": "table"
      }
     },
     "output_type": "display_data"
    }
   ],
   "source": [
    "%sql\n",
    "SELECT trip_distance, fare_amount, passenger_count\n",
    "FROM nyc_taxi_raw\n",
    "WHERE trip_distance <= 0\n",
    "LIMIT 25\n",
    "\n"
   ]
  },
  {
   "cell_type": "code",
   "execution_count": 0,
   "metadata": {
    "application/vnd.databricks.v1+cell": {
     "cellMetadata": {
      "byteLimit": 2048000,
      "implicitDf": true,
      "rowLimit": 10000
     },
     "inputWidgets": {},
     "nuid": "737f842e-057d-4ba6-bd39-36e1edb661ef",
     "showTitle": false,
     "tableResultSettingsMap": {},
     "title": ""
    }
   },
   "outputs": [
    {
     "output_type": "display_data",
     "data": {
      "text/html": [
       "<style scoped>\n",
       "  .table-result-container {\n",
       "    max-height: 300px;\n",
       "    overflow: auto;\n",
       "  }\n",
       "  table, th, td {\n",
       "    border: 1px solid black;\n",
       "    border-collapse: collapse;\n",
       "  }\n",
       "  th, td {\n",
       "    padding: 5px;\n",
       "  }\n",
       "  th {\n",
       "    text-align: left;\n",
       "  }\n",
       "</style><div class='table-result-container'><table class='table-result'><thead style='background-color: white'><tr><th>fare_amount</th><th>trip_distance</th><th>passenger_count</th></tr></thead><tbody><tr><td>-900.0</td><td>0.1</td><td>1</td></tr><tr><td>-850.0</td><td>0.0</td><td>1</td></tr><tr><td>-826.2</td><td>132.27</td><td>1</td></tr><tr><td>-700.0</td><td>0.0</td><td>1</td></tr><tr><td>-700.0</td><td>0.0</td><td>1</td></tr><tr><td>-700.0</td><td>0.0</td><td>1</td></tr><tr><td>-700.0</td><td>0.35</td><td>1</td></tr><tr><td>-700.0</td><td>0.0</td><td>4</td></tr><tr><td>-634.4</td><td>78.94</td><td>4</td></tr><tr><td>-600.0</td><td>0.0</td><td>1</td></tr><tr><td>-600.0</td><td>0.0</td><td>3</td></tr><tr><td>-595.2</td><td>87.92</td><td>1</td></tr><tr><td>-579.8</td><td>81.14</td><td>2</td></tr><tr><td>-550.0</td><td>131.88</td><td>1</td></tr><tr><td>-541.3</td><td>86.55</td><td>1</td></tr><tr><td>-502.8</td><td>86.88</td><td>1</td></tr><tr><td>-500.0</td><td>0.0</td><td>1</td></tr><tr><td>-500.0</td><td>0.0</td><td>1</td></tr><tr><td>-499.0</td><td>0.0</td><td>1</td></tr><tr><td>-499.0</td><td>0.0</td><td>1</td></tr><tr><td>-494.0</td><td>0.0</td><td>1</td></tr><tr><td>-455.55</td><td>61.7</td><td>1</td></tr><tr><td>-425.1</td><td>74.1</td><td>1</td></tr><tr><td>-425.0</td><td>115.47</td><td>1</td></tr><tr><td>-420.9</td><td>63.45</td><td>2</td></tr></tbody></table></div>"
      ]
     },
     "metadata": {
      "application/vnd.databricks.v1+output": {
       "addedWidgets": {},
       "aggData": [],
       "aggError": "",
       "aggOverflow": false,
       "aggSchema": [],
       "aggSeriesLimitReached": false,
       "aggType": "",
       "arguments": {},
       "columnCustomDisplayInfos": {},
       "data": [
        [
         -900.0,
         0.1,
         1
        ],
        [
         -850.0,
         0.0,
         1
        ],
        [
         -826.2,
         132.27,
         1
        ],
        [
         -700.0,
         0.0,
         1
        ],
        [
         -700.0,
         0.0,
         1
        ],
        [
         -700.0,
         0.0,
         1
        ],
        [
         -700.0,
         0.35,
         1
        ],
        [
         -700.0,
         0.0,
         4
        ],
        [
         -634.4,
         78.94,
         4
        ],
        [
         -600.0,
         0.0,
         1
        ],
        [
         -600.0,
         0.0,
         3
        ],
        [
         -595.2,
         87.92,
         1
        ],
        [
         -579.8,
         81.14,
         2
        ],
        [
         -550.0,
         131.88,
         1
        ],
        [
         -541.3,
         86.55,
         1
        ],
        [
         -502.8,
         86.88,
         1
        ],
        [
         -500.0,
         0.0,
         1
        ],
        [
         -500.0,
         0.0,
         1
        ],
        [
         -499.0,
         0.0,
         1
        ],
        [
         -499.0,
         0.0,
         1
        ],
        [
         -494.0,
         0.0,
         1
        ],
        [
         -455.55,
         61.7,
         1
        ],
        [
         -425.1,
         74.1,
         1
        ],
        [
         -425.0,
         115.47,
         1
        ],
        [
         -420.9,
         63.45,
         2
        ]
       ],
       "datasetInfos": [],
       "dbfsResultPath": null,
       "isJsonSchema": true,
       "metadata": {
        "createTempViewForImplicitDf": true,
        "dataframeName": "_sqldf",
        "executionCount": 5
       },
       "overflow": false,
       "plotOptions": {
        "customPlotOptions": {},
        "displayType": "table",
        "pivotAggregation": null,
        "pivotColumns": null,
        "xColumns": null,
        "yColumns": null
       },
       "removedWidgets": [],
       "schema": [
        {
         "metadata": "{}",
         "name": "fare_amount",
         "type": "\"double\""
        },
        {
         "metadata": "{}",
         "name": "trip_distance",
         "type": "\"double\""
        },
        {
         "metadata": "{}",
         "name": "passenger_count",
         "type": "\"long\""
        }
       ],
       "type": "table"
      }
     },
     "output_type": "display_data"
    }
   ],
   "source": [
    "%sql\n",
    "SELECT fare_amount, trip_distance, passenger_count\n",
    "FROM nyc_taxi_raw\n",
    "WHERE fare_amount <= 0\n",
    "ORDER BY fare_amount\n",
    "LIMIT 25\n",
    "\n"
   ]
  },
  {
   "cell_type": "code",
   "execution_count": 0,
   "metadata": {
    "application/vnd.databricks.v1+cell": {
     "cellMetadata": {
      "byteLimit": 2048000,
      "implicitDf": true,
      "rowLimit": 10000
     },
     "inputWidgets": {},
     "nuid": "5735b087-ff57-4fdb-b89c-f2f805a7438a",
     "showTitle": false,
     "tableResultSettingsMap": {},
     "title": ""
    }
   },
   "outputs": [
    {
     "output_type": "display_data",
     "data": {
      "text/html": [
       "<style scoped>\n",
       "  .table-result-container {\n",
       "    max-height: 300px;\n",
       "    overflow: auto;\n",
       "  }\n",
       "  table, th, td {\n",
       "    border: 1px solid black;\n",
       "    border-collapse: collapse;\n",
       "  }\n",
       "  th, td {\n",
       "    padding: 5px;\n",
       "  }\n",
       "  th {\n",
       "    text-align: left;\n",
       "  }\n",
       "</style><div class='table-result-container'><table class='table-result'><thead style='background-color: white'><tr><th>passenger_count</th><th>ride_count</th></tr></thead><tbody><tr><td>1</td><td>2322434</td></tr><tr><td>null</td><td>540149</td></tr><tr><td>2</td><td>407761</td></tr><tr><td>3</td><td>91409</td></tr><tr><td>4</td><td>59009</td></tr><tr><td>0</td><td>24656</td></tr><tr><td>5</td><td>17786</td></tr><tr><td>6</td><td>12004</td></tr><tr><td>8</td><td>11</td></tr><tr><td>7</td><td>4</td></tr><tr><td>9</td><td>3</td></tr></tbody></table></div>"
      ]
     },
     "metadata": {
      "application/vnd.databricks.v1+output": {
       "addedWidgets": {},
       "aggData": [],
       "aggError": "",
       "aggOverflow": false,
       "aggSchema": [],
       "aggSeriesLimitReached": false,
       "aggType": "",
       "arguments": {},
       "columnCustomDisplayInfos": {},
       "data": [
        [
         1,
         2322434
        ],
        [
         null,
         540149
        ],
        [
         2,
         407761
        ],
        [
         3,
         91409
        ],
        [
         4,
         59009
        ],
        [
         0,
         24656
        ],
        [
         5,
         17786
        ],
        [
         6,
         12004
        ],
        [
         8,
         11
        ],
        [
         7,
         4
        ],
        [
         9,
         3
        ]
       ],
       "datasetInfos": [],
       "dbfsResultPath": null,
       "isJsonSchema": true,
       "metadata": {
        "createTempViewForImplicitDf": true,
        "dataframeName": "_sqldf",
        "executionCount": 6
       },
       "overflow": false,
       "plotOptions": {
        "customPlotOptions": {},
        "displayType": "table",
        "pivotAggregation": null,
        "pivotColumns": null,
        "xColumns": null,
        "yColumns": null
       },
       "removedWidgets": [],
       "schema": [
        {
         "metadata": "{}",
         "name": "passenger_count",
         "type": "\"long\""
        },
        {
         "metadata": "{}",
         "name": "ride_count",
         "type": "\"long\""
        }
       ],
       "type": "table"
      }
     },
     "output_type": "display_data"
    }
   ],
   "source": [
    "%sql\n",
    "SELECT passenger_count, COUNT(*) as ride_count\n",
    "FROM nyc_taxi_raw\n",
    "GROUP BY passenger_count\n",
    "ORDER BY ride_count DESC\n",
    "\n"
   ]
  },
  {
   "cell_type": "code",
   "execution_count": 0,
   "metadata": {
    "application/vnd.databricks.v1+cell": {
     "cellMetadata": {
      "byteLimit": 2048000,
      "implicitDf": true,
      "rowLimit": 10000
     },
     "inputWidgets": {},
     "nuid": "af0fd26d-be40-4d68-836d-28bc7d2d2cc3",
     "showTitle": false,
     "tableResultSettingsMap": {},
     "title": ""
    }
   },
   "outputs": [
    {
     "output_type": "display_data",
     "data": {
      "text/html": [
       "<style scoped>\n",
       "  .table-result-container {\n",
       "    max-height: 300px;\n",
       "    overflow: auto;\n",
       "  }\n",
       "  table, th, td {\n",
       "    border: 1px solid black;\n",
       "    border-collapse: collapse;\n",
       "  }\n",
       "  th, td {\n",
       "    padding: 5px;\n",
       "  }\n",
       "  th {\n",
       "    text-align: left;\n",
       "  }\n",
       "</style><div class='table-result-container'><table class='table-result'><thead style='background-color: white'><tr><th>trip_distance</th><th>fare_amount</th><th>tpep_pickup_datetime</th></tr></thead><tbody><tr><td>1.6</td><td>863372.12</td><td>2025-01-20T12:07:18</td></tr><tr><td>255.33</td><td>2450.9</td><td>2025-01-16T12:23:14</td></tr><tr><td>188.88</td><td>1309.2</td><td>2025-01-21T05:17:57</td></tr><tr><td>0.0</td><td>950.0</td><td>2025-01-26T00:04:04</td></tr><tr><td>0.0</td><td>950.0</td><td>2025-01-26T00:22:47</td></tr><tr><td>0.0</td><td>950.0</td><td>2025-01-26T00:24:25</td></tr><tr><td>143.54</td><td>936.8</td><td>2025-01-15T19:14:42</td></tr><tr><td>0.1</td><td>900.0</td><td>2025-01-07T19:12:25</td></tr><tr><td>0.0</td><td>900.0</td><td>2025-01-26T00:00:56</td></tr><tr><td>0.0</td><td>899.99</td><td>2025-01-25T23:56:58</td></tr><tr><td>0.0</td><td>899.99</td><td>2025-01-25T23:58:50</td></tr><tr><td>133.3</td><td>893.75</td><td>2025-01-13T17:19:58</td></tr><tr><td>0.0</td><td>850.0</td><td>2025-01-19T23:52:08</td></tr><tr><td>132.27</td><td>826.2</td><td>2025-01-01T23:13:43</td></tr><tr><td>0.0</td><td>800.0</td><td>2025-01-26T19:25:41</td></tr><tr><td>119.66</td><td>773.0</td><td>2025-01-01T12:53:37</td></tr><tr><td>0.0</td><td>700.0</td><td>2025-01-01T13:47:30</td></tr><tr><td>0.0</td><td>700.0</td><td>2025-01-01T13:56:20</td></tr><tr><td>0.0</td><td>700.0</td><td>2025-01-05T21:51:52</td></tr><tr><td>0.35</td><td>700.0</td><td>2025-01-14T02:08:52</td></tr><tr><td>0.0</td><td>700.0</td><td>2025-01-16T08:02:27</td></tr><tr><td>0.0</td><td>700.0</td><td>2025-01-21T01:49:30</td></tr><tr><td>111.2</td><td>670.1</td><td>2025-01-03T06:30:10</td></tr><tr><td>78.94</td><td>634.4</td><td>2025-01-11T09:50:17</td></tr><tr><td>95.59</td><td>607.1</td><td>2025-01-08T23:54:59</td></tr><tr><td>0.0</td><td>600.0</td><td>2025-01-05T14:24:08</td></tr><tr><td>36.73</td><td>600.0</td><td>2025-01-09T02:18:15</td></tr><tr><td>0.0</td><td>600.0</td><td>2025-01-22T17:42:55</td></tr><tr><td>0.0</td><td>600.0</td><td>2025-01-25T23:52:12</td></tr><tr><td>0.0</td><td>600.0</td><td>2025-01-25T23:53:56</td></tr><tr><td>0.0</td><td>600.0</td><td>2025-01-26T11:50:22</td></tr><tr><td>83.02</td><td>596.6</td><td>2025-01-22T15:09:41</td></tr><tr><td>87.92</td><td>595.2</td><td>2025-01-07T22:50:46</td></tr><tr><td>81.14</td><td>579.8</td><td>2025-01-09T12:56:34</td></tr><tr><td>1.07</td><td>577.7</td><td>2025-01-29T18:40:48</td></tr><tr><td>118.44</td><td>575.0</td><td>2025-01-03T18:45:03</td></tr><tr><td>91.7</td><td>562.3</td><td>2025-01-17T13:04:58</td></tr><tr><td>91.93</td><td>562.3</td><td>2025-01-25T15:23:52</td></tr><tr><td>83.67</td><td>553.2</td><td>2025-01-17T02:11:58</td></tr><tr><td>96.21</td><td>550.4</td><td>2025-01-06T21:49:46</td></tr><tr><td>57.7</td><td>550.0</td><td>2025-01-05T03:11:46</td></tr><tr><td>87.27</td><td>550.0</td><td>2025-01-05T06:44:36</td></tr><tr><td>131.88</td><td>550.0</td><td>2025-01-12T11:52:37</td></tr><tr><td>0.0</td><td>550.0</td><td>2025-01-22T19:27:53</td></tr><tr><td>0.0</td><td>550.0</td><td>2025-01-30T13:56:10</td></tr><tr><td>84.44</td><td>544.1</td><td>2025-01-04T14:18:52</td></tr><tr><td>86.55</td><td>541.3</td><td>2025-01-23T15:07:01</td></tr><tr><td>91.27</td><td>538.5</td><td>2025-01-28T13:58:52</td></tr><tr><td>148.3</td><td>530.1</td><td>2025-01-27T02:10:38</td></tr><tr><td>86.93</td><td>516.1</td><td>2025-01-24T19:55:38</td></tr><tr><td>0.0</td><td>510.0</td><td>2025-01-19T19:39:58</td></tr><tr><td>0.0</td><td>510.0</td><td>2025-01-24T21:35:26</td></tr><tr><td>83.03</td><td>504.2</td><td>2025-01-17T07:59:29</td></tr><tr><td>183.95</td><td>503.59</td><td>2025-01-18T21:07:33</td></tr><tr><td>86.88</td><td>502.8</td><td>2025-01-19T17:05:05</td></tr><tr><td>150.11</td><td>500.0</td><td>2025-01-16T00:46:51</td></tr><tr><td>137.9</td><td>487.4</td><td>2025-01-11T18:29:50</td></tr><tr><td>139.7</td><td>450.0</td><td>2025-01-25T13:02:38</td></tr><tr><td>115.47</td><td>425.0</td><td>2025-01-10T21:08:47</td></tr><tr><td>101.56</td><td>410.0</td><td>2025-01-07T10:26:50</td></tr><tr><td>113.05</td><td>400.0</td><td>2025-01-03T18:58:27</td></tr><tr><td>118.89</td><td>400.0</td><td>2025-01-05T23:37:34</td></tr><tr><td>224.82</td><td>400.0</td><td>2025-01-11T00:00:17</td></tr><tr><td>115.13</td><td>400.0</td><td>2025-01-19T07:25:22</td></tr><tr><td>100.17</td><td>400.0</td><td>2025-01-22T16:19:30</td></tr><tr><td>120.1</td><td>400.0</td><td>2025-01-29T17:23:43</td></tr><tr><td>114.25</td><td>395.0</td><td>2025-01-01T18:18:09</td></tr><tr><td>125.99</td><td>360.0</td><td>2025-01-19T15:33:10</td></tr><tr><td>133.3</td><td>350.0</td><td>2025-01-01T01:04:01</td></tr><tr><td>116.9</td><td>350.0</td><td>2025-01-01T07:41:21</td></tr><tr><td>125.13</td><td>350.0</td><td>2025-01-16T23:32:04</td></tr><tr><td>152.5</td><td>350.0</td><td>2025-01-19T18:17:28</td></tr><tr><td>100.69</td><td>300.63</td><td>2025-01-31T00:48:25</td></tr><tr><td>105.24</td><td>300.0</td><td>2025-01-01T08:44:11</td></tr><tr><td>119.62</td><td>300.0</td><td>2025-01-04T22:51:04</td></tr><tr><td>102.44</td><td>250.0</td><td>2025-01-20T07:30:05</td></tr><tr><td>206.45</td><td>220.0</td><td>2025-01-05T19:42:26</td></tr><tr><td>104.21</td><td>200.0</td><td>2025-01-21T10:35:49</td></tr><tr><td>265.9</td><td>129.7</td><td>2025-01-07T23:01:23</td></tr><tr><td>4020.04</td><td>82.8</td><td>2025-01-09T12:19:06</td></tr><tr><td>122.77</td><td>63.2</td><td>2025-01-01T11:32:19</td></tr><tr><td>56317.73</td><td>60.7</td><td>2025-01-10T07:00:00</td></tr><tr><td>11187.2</td><td>54.5</td><td>2025-01-31T17:14:42</td></tr><tr><td>44684.1</td><td>47.5</td><td>2025-01-30T06:55:29</td></tr><tr><td>44730.3</td><td>44.5</td><td>2025-01-29T09:13:51</td></tr><tr><td>57707.8</td><td>43.81</td><td>2025-01-15T09:09:00</td></tr><tr><td>66311.48</td><td>37.59</td><td>2025-01-16T08:43:00</td></tr><tr><td>86835.14</td><td>35.66</td><td>2025-01-16T17:31:00</td></tr><tr><td>108.9</td><td>34.5</td><td>2025-01-05T18:24:23</td></tr><tr><td>40696.77</td><td>34.39</td><td>2025-01-07T17:38:00</td></tr><tr><td>768.5</td><td>33.29</td><td>2025-01-02T11:14:00</td></tr><tr><td>36507.49</td><td>32.6</td><td>2025-01-16T18:38:00</td></tr><tr><td>181.9</td><td>32.5</td><td>2025-01-15T11:32:17</td></tr><tr><td>135116.83</td><td>31.77</td><td>2025-01-31T07:33:00</td></tr><tr><td>102.2</td><td>31.7</td><td>2025-01-31T12:32:28</td></tr><tr><td>62964.56</td><td>31.55</td><td>2025-01-14T19:20:00</td></tr><tr><td>222167.49</td><td>31.19</td><td>2025-01-21T09:19:00</td></tr><tr><td>52434.0</td><td>29.89</td><td>2025-01-17T14:22:00</td></tr><tr><td>33588.9</td><td>29.5</td><td>2025-01-31T13:13:01</td></tr><tr><td>156037.94</td><td>28.74</td><td>2025-01-10T06:58:00</td></tr><tr><td>74471.5</td><td>28.74</td><td>2025-01-25T14:33:00</td></tr><tr><td>71976.78</td><td>28.08</td><td>2025-01-31T18:33:00</td></tr><tr><td>73111.13</td><td>27.93</td><td>2025-01-14T14:11:00</td></tr><tr><td>114364.71</td><td>27.9</td><td>2025-01-21T08:11:00</td></tr><tr><td>72431.64</td><td>26.52</td><td>2025-01-22T17:38:00</td></tr><tr><td>206137.99</td><td>24.89</td><td>2025-01-16T10:47:00</td></tr><tr><td>97331.56</td><td>24.6</td><td>2025-01-17T05:56:00</td></tr><tr><td>58950.24</td><td>24.33</td><td>2025-01-22T08:24:00</td></tr><tr><td>107806.31</td><td>24.25</td><td>2025-01-17T23:52:00</td></tr><tr><td>70102.61</td><td>23.32</td><td>2025-01-23T17:31:00</td></tr><tr><td>1847.61</td><td>22.6</td><td>2025-01-08T19:11:56</td></tr><tr><td>79051.56</td><td>22.05</td><td>2025-01-24T23:50:00</td></tr><tr><td>121799.97</td><td>21.82</td><td>2025-01-22T07:47:00</td></tr><tr><td>82501.73</td><td>21.74</td><td>2025-01-29T06:43:00</td></tr><tr><td>79574.9</td><td>21.56</td><td>2025-01-22T18:10:00</td></tr><tr><td>62262.71</td><td>21.37</td><td>2025-01-15T22:06:00</td></tr><tr><td>67545.42</td><td>20.71</td><td>2025-01-29T05:48:00</td></tr><tr><td>99632.83</td><td>20.66</td><td>2025-01-12T06:13:00</td></tr><tr><td>97151.05</td><td>20.44</td><td>2025-01-15T05:46:00</td></tr><tr><td>67407.88</td><td>19.84</td><td>2025-01-23T08:49:00</td></tr><tr><td>76977.47</td><td>19.72</td><td>2025-01-15T06:56:00</td></tr><tr><td>89632.13</td><td>19.67</td><td>2025-01-16T18:05:00</td></tr><tr><td>99675.05</td><td>19.55</td><td>2025-01-11T09:52:00</td></tr><tr><td>86219.18</td><td>19.22</td><td>2025-01-25T00:10:00</td></tr><tr><td>64262.37</td><td>18.44</td><td>2025-01-11T18:41:00</td></tr><tr><td>134033.15</td><td>18.14</td><td>2025-01-11T20:45:00</td></tr><tr><td>118435.89</td><td>18.09</td><td>2025-01-11T08:53:00</td></tr><tr><td>109183.02</td><td>17.75</td><td>2025-01-23T18:53:00</td></tr><tr><td>165.91</td><td>17.7</td><td>2025-01-11T15:01:08</td></tr><tr><td>199.3</td><td>17.5</td><td>2025-01-30T14:03:15</td></tr><tr><td>92185.93</td><td>17.16</td><td>2025-01-30T22:30:00</td></tr><tr><td>53102.26</td><td>17.07</td><td>2025-01-15T09:10:00</td></tr><tr><td>72742.93</td><td>17.01</td><td>2025-01-12T18:55:00</td></tr><tr><td>80981.98</td><td>16.35</td><td>2025-01-22T14:59:00</td></tr><tr><td>1231.28</td><td>16.29</td><td>2025-01-25T18:21:00</td></tr><tr><td>88653.21</td><td>16.04</td><td>2025-01-30T22:11:00</td></tr><tr><td>5264.58</td><td>15.95</td><td>2025-01-16T04:45:00</td></tr><tr><td>77877.03</td><td>15.9</td><td>2025-01-23T07:42:00</td></tr><tr><td>19060.56</td><td>15.72</td><td>2025-01-31T22:06:00</td></tr><tr><td>1472.37</td><td>15.6</td><td>2025-01-06T08:18:30</td></tr><tr><td>82060.16</td><td>15.51</td><td>2025-01-03T06:43:00</td></tr><tr><td>104448.07</td><td>15.38</td><td>2025-01-12T09:01:00</td></tr><tr><td>4949.31</td><td>15.12</td><td>2025-01-28T17:39:00</td></tr><tr><td>59246.64</td><td>15.08</td><td>2025-01-21T17:12:00</td></tr><tr><td>3959.76</td><td>14.96</td><td>2025-01-25T02:22:00</td></tr><tr><td>99752.63</td><td>14.43</td><td>2025-01-12T20:57:00</td></tr><tr><td>2810.84</td><td>14.38</td><td>2025-01-08T07:41:00</td></tr><tr><td>669.54</td><td>14.3</td><td>2025-01-24T11:46:00</td></tr><tr><td>55940.25</td><td>14.26</td><td>2025-01-24T22:13:00</td></tr><tr><td>18924.7</td><td>14.09</td><td>2025-01-20T08:32:00</td></tr><tr><td>164959.95</td><td>14.05</td><td>2025-01-17T14:25:00</td></tr><tr><td>87073.75</td><td>13.58</td><td>2025-01-18T17:49:00</td></tr><tr><td>97494.89</td><td>13.58</td><td>2025-01-21T16:19:00</td></tr><tr><td>72537.94</td><td>13.22</td><td>2025-01-17T06:17:00</td></tr><tr><td>70723.26</td><td>13.04</td><td>2025-01-24T06:42:00</td></tr><tr><td>65458.12</td><td>12.78</td><td>2025-01-22T21:13:00</td></tr><tr><td>189687.43</td><td>12.7</td><td>2025-01-14T19:18:00</td></tr><tr><td>106629.95</td><td>12.55</td><td>2025-01-16T05:51:00</td></tr><tr><td>84559.4</td><td>12.28</td><td>2025-01-22T20:44:00</td></tr><tr><td>124083.23</td><td>12.14</td><td>2025-01-14T05:29:00</td></tr><tr><td>2001.95</td><td>12.1</td><td>2025-01-13T17:04:40</td></tr><tr><td>7146.63</td><td>11.22</td><td>2025-01-26T10:57:00</td></tr><tr><td>54642.52</td><td>11.14</td><td>2025-01-30T09:54:00</td></tr><tr><td>158925.09</td><td>10.82</td><td>2025-01-03T15:47:00</td></tr><tr><td>18172.93</td><td>10.8</td><td>2025-01-19T06:45:00</td></tr><tr><td>73112.89</td><td>10.6</td><td>2025-01-16T09:11:00</td></tr><tr><td>60677.15</td><td>10.16</td><td>2025-01-31T19:24:00</td></tr><tr><td>202771.63</td><td>10.1</td><td>2025-01-26T17:46:00</td></tr><tr><td>49608.92</td><td>9.96</td><td>2025-01-30T08:47:00</td></tr><tr><td>88295.07</td><td>9.53</td><td>2025-01-25T01:17:00</td></tr><tr><td>92835.27</td><td>9.2</td><td>2025-01-26T10:59:00</td></tr><tr><td>276099.95</td><td>9.13</td><td>2025-01-19T14:51:00</td></tr><tr><td>51218.09</td><td>9.06</td><td>2025-01-30T05:37:00</td></tr><tr><td>143712.27</td><td>8.51</td><td>2025-01-09T06:18:00</td></tr><tr><td>105519.62</td><td>7.16</td><td>2025-01-23T21:46:00</td></tr><tr><td>121555.16</td><td>6.96</td><td>2025-01-09T05:57:00</td></tr><tr><td>72389.24</td><td>6.62</td><td>2025-01-11T21:32:00</td></tr><tr><td>82155.91</td><td>6.37</td><td>2025-01-12T16:13:00</td></tr><tr><td>181139.99</td><td>6.33</td><td>2025-01-13T21:11:00</td></tr><tr><td>77622.46</td><td>6.07</td><td>2025-01-15T23:14:00</td></tr><tr><td>52143.74</td><td>4.8</td><td>2025-01-13T13:58:00</td></tr><tr><td>70689.46</td><td>1.68</td><td>2025-01-01T18:17:00</td></tr><tr><td>73437.25</td><td>-0.85</td><td>2025-01-01T00:46:00</td></tr><tr><td>71493.83</td><td>-1.5</td><td>2025-01-06T08:14:00</td></tr><tr><td>101607.42</td><td>-1.5</td><td>2025-01-09T15:35:00</td></tr><tr><td>15872.67</td><td>-1.5</td><td>2025-01-10T05:44:00</td></tr><tr><td>167452.94</td><td>-4.0</td><td>2025-01-19T18:31:00</td></tr><tr><td>112134.5</td><td>-4.0</td><td>2025-01-22T16:47:00</td></tr><tr><td>168079.57</td><td>-4.0</td><td>2025-01-24T08:33:00</td></tr><tr><td>71460.44</td><td>-4.75</td><td>2025-01-12T16:13:00</td></tr><tr><td>3462.61</td><td>-4.75</td><td>2025-01-16T21:52:00</td></tr><tr><td>67221.48</td><td>-4.75</td><td>2025-01-17T17:05:00</td></tr><tr><td>94767.31</td><td>-4.75</td><td>2025-01-18T15:14:00</td></tr><tr><td>57054.14</td><td>-4.75</td><td>2025-01-20T19:26:00</td></tr><tr><td>276423.57</td><td>-4.75</td><td>2025-01-22T21:04:00</td></tr><tr><td>73826.13</td><td>-4.75</td><td>2025-01-23T08:50:00</td></tr><tr><td>72627.93</td><td>-4.75</td><td>2025-01-24T17:44:00</td></tr><tr><td>118927.12</td><td>-4.75</td><td>2025-01-27T08:03:00</td></tr><tr><td>83503.33</td><td>-4.75</td><td>2025-01-31T05:26:00</td></tr><tr><td>88102.25</td><td>-4.75</td><td>2025-01-31T18:13:00</td></tr><tr><td>76492.14</td><td>-8.44</td><td>2025-01-30T07:05:00</td></tr><tr><td>81231.22</td><td>-8.86</td><td>2025-01-01T08:59:00</td></tr><tr><td>85936.08</td><td>-11.69</td><td>2025-01-10T04:34:00</td></tr><tr><td>115.47</td><td>-425.0</td><td>2025-01-10T21:08:47</td></tr><tr><td>131.88</td><td>-550.0</td><td>2025-01-12T11:52:37</td></tr><tr><td>132.27</td><td>-826.2</td><td>2025-01-01T23:13:43</td></tr></tbody></table></div>"
      ]
     },
     "metadata": {
      "application/vnd.databricks.v1+output": {
       "addedWidgets": {},
       "aggData": [],
       "aggError": "",
       "aggOverflow": false,
       "aggSchema": [],
       "aggSeriesLimitReached": false,
       "aggType": "",
       "arguments": {},
       "columnCustomDisplayInfos": {},
       "data": [
        [
         1.6,
         863372.12,
         "2025-01-20T12:07:18"
        ],
        [
         255.33,
         2450.9,
         "2025-01-16T12:23:14"
        ],
        [
         188.88,
         1309.2,
         "2025-01-21T05:17:57"
        ],
        [
         0.0,
         950.0,
         "2025-01-26T00:04:04"
        ],
        [
         0.0,
         950.0,
         "2025-01-26T00:22:47"
        ],
        [
         0.0,
         950.0,
         "2025-01-26T00:24:25"
        ],
        [
         143.54,
         936.8,
         "2025-01-15T19:14:42"
        ],
        [
         0.1,
         900.0,
         "2025-01-07T19:12:25"
        ],
        [
         0.0,
         900.0,
         "2025-01-26T00:00:56"
        ],
        [
         0.0,
         899.99,
         "2025-01-25T23:56:58"
        ],
        [
         0.0,
         899.99,
         "2025-01-25T23:58:50"
        ],
        [
         133.3,
         893.75,
         "2025-01-13T17:19:58"
        ],
        [
         0.0,
         850.0,
         "2025-01-19T23:52:08"
        ],
        [
         132.27,
         826.2,
         "2025-01-01T23:13:43"
        ],
        [
         0.0,
         800.0,
         "2025-01-26T19:25:41"
        ],
        [
         119.66,
         773.0,
         "2025-01-01T12:53:37"
        ],
        [
         0.0,
         700.0,
         "2025-01-01T13:47:30"
        ],
        [
         0.0,
         700.0,
         "2025-01-01T13:56:20"
        ],
        [
         0.0,
         700.0,
         "2025-01-05T21:51:52"
        ],
        [
         0.35,
         700.0,
         "2025-01-14T02:08:52"
        ],
        [
         0.0,
         700.0,
         "2025-01-16T08:02:27"
        ],
        [
         0.0,
         700.0,
         "2025-01-21T01:49:30"
        ],
        [
         111.2,
         670.1,
         "2025-01-03T06:30:10"
        ],
        [
         78.94,
         634.4,
         "2025-01-11T09:50:17"
        ],
        [
         95.59,
         607.1,
         "2025-01-08T23:54:59"
        ],
        [
         0.0,
         600.0,
         "2025-01-05T14:24:08"
        ],
        [
         36.73,
         600.0,
         "2025-01-09T02:18:15"
        ],
        [
         0.0,
         600.0,
         "2025-01-22T17:42:55"
        ],
        [
         0.0,
         600.0,
         "2025-01-25T23:52:12"
        ],
        [
         0.0,
         600.0,
         "2025-01-25T23:53:56"
        ],
        [
         0.0,
         600.0,
         "2025-01-26T11:50:22"
        ],
        [
         83.02,
         596.6,
         "2025-01-22T15:09:41"
        ],
        [
         87.92,
         595.2,
         "2025-01-07T22:50:46"
        ],
        [
         81.14,
         579.8,
         "2025-01-09T12:56:34"
        ],
        [
         1.07,
         577.7,
         "2025-01-29T18:40:48"
        ],
        [
         118.44,
         575.0,
         "2025-01-03T18:45:03"
        ],
        [
         91.7,
         562.3,
         "2025-01-17T13:04:58"
        ],
        [
         91.93,
         562.3,
         "2025-01-25T15:23:52"
        ],
        [
         83.67,
         553.2,
         "2025-01-17T02:11:58"
        ],
        [
         96.21,
         550.4,
         "2025-01-06T21:49:46"
        ],
        [
         57.7,
         550.0,
         "2025-01-05T03:11:46"
        ],
        [
         87.27,
         550.0,
         "2025-01-05T06:44:36"
        ],
        [
         131.88,
         550.0,
         "2025-01-12T11:52:37"
        ],
        [
         0.0,
         550.0,
         "2025-01-22T19:27:53"
        ],
        [
         0.0,
         550.0,
         "2025-01-30T13:56:10"
        ],
        [
         84.44,
         544.1,
         "2025-01-04T14:18:52"
        ],
        [
         86.55,
         541.3,
         "2025-01-23T15:07:01"
        ],
        [
         91.27,
         538.5,
         "2025-01-28T13:58:52"
        ],
        [
         148.3,
         530.1,
         "2025-01-27T02:10:38"
        ],
        [
         86.93,
         516.1,
         "2025-01-24T19:55:38"
        ],
        [
         0.0,
         510.0,
         "2025-01-19T19:39:58"
        ],
        [
         0.0,
         510.0,
         "2025-01-24T21:35:26"
        ],
        [
         83.03,
         504.2,
         "2025-01-17T07:59:29"
        ],
        [
         183.95,
         503.59,
         "2025-01-18T21:07:33"
        ],
        [
         86.88,
         502.8,
         "2025-01-19T17:05:05"
        ],
        [
         150.11,
         500.0,
         "2025-01-16T00:46:51"
        ],
        [
         137.9,
         487.4,
         "2025-01-11T18:29:50"
        ],
        [
         139.7,
         450.0,
         "2025-01-25T13:02:38"
        ],
        [
         115.47,
         425.0,
         "2025-01-10T21:08:47"
        ],
        [
         101.56,
         410.0,
         "2025-01-07T10:26:50"
        ],
        [
         113.05,
         400.0,
         "2025-01-03T18:58:27"
        ],
        [
         118.89,
         400.0,
         "2025-01-05T23:37:34"
        ],
        [
         224.82,
         400.0,
         "2025-01-11T00:00:17"
        ],
        [
         115.13,
         400.0,
         "2025-01-19T07:25:22"
        ],
        [
         100.17,
         400.0,
         "2025-01-22T16:19:30"
        ],
        [
         120.1,
         400.0,
         "2025-01-29T17:23:43"
        ],
        [
         114.25,
         395.0,
         "2025-01-01T18:18:09"
        ],
        [
         125.99,
         360.0,
         "2025-01-19T15:33:10"
        ],
        [
         133.3,
         350.0,
         "2025-01-01T01:04:01"
        ],
        [
         116.9,
         350.0,
         "2025-01-01T07:41:21"
        ],
        [
         125.13,
         350.0,
         "2025-01-16T23:32:04"
        ],
        [
         152.5,
         350.0,
         "2025-01-19T18:17:28"
        ],
        [
         100.69,
         300.63,
         "2025-01-31T00:48:25"
        ],
        [
         105.24,
         300.0,
         "2025-01-01T08:44:11"
        ],
        [
         119.62,
         300.0,
         "2025-01-04T22:51:04"
        ],
        [
         102.44,
         250.0,
         "2025-01-20T07:30:05"
        ],
        [
         206.45,
         220.0,
         "2025-01-05T19:42:26"
        ],
        [
         104.21,
         200.0,
         "2025-01-21T10:35:49"
        ],
        [
         265.9,
         129.7,
         "2025-01-07T23:01:23"
        ],
        [
         4020.04,
         82.8,
         "2025-01-09T12:19:06"
        ],
        [
         122.77,
         63.2,
         "2025-01-01T11:32:19"
        ],
        [
         56317.73,
         60.7,
         "2025-01-10T07:00:00"
        ],
        [
         11187.2,
         54.5,
         "2025-01-31T17:14:42"
        ],
        [
         44684.1,
         47.5,
         "2025-01-30T06:55:29"
        ],
        [
         44730.3,
         44.5,
         "2025-01-29T09:13:51"
        ],
        [
         57707.8,
         43.81,
         "2025-01-15T09:09:00"
        ],
        [
         66311.48,
         37.59,
         "2025-01-16T08:43:00"
        ],
        [
         86835.14,
         35.66,
         "2025-01-16T17:31:00"
        ],
        [
         108.9,
         34.5,
         "2025-01-05T18:24:23"
        ],
        [
         40696.77,
         34.39,
         "2025-01-07T17:38:00"
        ],
        [
         768.5,
         33.29,
         "2025-01-02T11:14:00"
        ],
        [
         36507.49,
         32.6,
         "2025-01-16T18:38:00"
        ],
        [
         181.9,
         32.5,
         "2025-01-15T11:32:17"
        ],
        [
         135116.83,
         31.77,
         "2025-01-31T07:33:00"
        ],
        [
         102.2,
         31.7,
         "2025-01-31T12:32:28"
        ],
        [
         62964.56,
         31.55,
         "2025-01-14T19:20:00"
        ],
        [
         222167.49,
         31.19,
         "2025-01-21T09:19:00"
        ],
        [
         52434.0,
         29.89,
         "2025-01-17T14:22:00"
        ],
        [
         33588.9,
         29.5,
         "2025-01-31T13:13:01"
        ],
        [
         156037.94,
         28.74,
         "2025-01-10T06:58:00"
        ],
        [
         74471.5,
         28.74,
         "2025-01-25T14:33:00"
        ],
        [
         71976.78,
         28.08,
         "2025-01-31T18:33:00"
        ],
        [
         73111.13,
         27.93,
         "2025-01-14T14:11:00"
        ],
        [
         114364.71,
         27.9,
         "2025-01-21T08:11:00"
        ],
        [
         72431.64,
         26.52,
         "2025-01-22T17:38:00"
        ],
        [
         206137.99,
         24.89,
         "2025-01-16T10:47:00"
        ],
        [
         97331.56,
         24.6,
         "2025-01-17T05:56:00"
        ],
        [
         58950.24,
         24.33,
         "2025-01-22T08:24:00"
        ],
        [
         107806.31,
         24.25,
         "2025-01-17T23:52:00"
        ],
        [
         70102.61,
         23.32,
         "2025-01-23T17:31:00"
        ],
        [
         1847.61,
         22.6,
         "2025-01-08T19:11:56"
        ],
        [
         79051.56,
         22.05,
         "2025-01-24T23:50:00"
        ],
        [
         121799.97,
         21.82,
         "2025-01-22T07:47:00"
        ],
        [
         82501.73,
         21.74,
         "2025-01-29T06:43:00"
        ],
        [
         79574.9,
         21.56,
         "2025-01-22T18:10:00"
        ],
        [
         62262.71,
         21.37,
         "2025-01-15T22:06:00"
        ],
        [
         67545.42,
         20.71,
         "2025-01-29T05:48:00"
        ],
        [
         99632.83,
         20.66,
         "2025-01-12T06:13:00"
        ],
        [
         97151.05,
         20.44,
         "2025-01-15T05:46:00"
        ],
        [
         67407.88,
         19.84,
         "2025-01-23T08:49:00"
        ],
        [
         76977.47,
         19.72,
         "2025-01-15T06:56:00"
        ],
        [
         89632.13,
         19.67,
         "2025-01-16T18:05:00"
        ],
        [
         99675.05,
         19.55,
         "2025-01-11T09:52:00"
        ],
        [
         86219.18,
         19.22,
         "2025-01-25T00:10:00"
        ],
        [
         64262.37,
         18.44,
         "2025-01-11T18:41:00"
        ],
        [
         134033.15,
         18.14,
         "2025-01-11T20:45:00"
        ],
        [
         118435.89,
         18.09,
         "2025-01-11T08:53:00"
        ],
        [
         109183.02,
         17.75,
         "2025-01-23T18:53:00"
        ],
        [
         165.91,
         17.7,
         "2025-01-11T15:01:08"
        ],
        [
         199.3,
         17.5,
         "2025-01-30T14:03:15"
        ],
        [
         92185.93,
         17.16,
         "2025-01-30T22:30:00"
        ],
        [
         53102.26,
         17.07,
         "2025-01-15T09:10:00"
        ],
        [
         72742.93,
         17.01,
         "2025-01-12T18:55:00"
        ],
        [
         80981.98,
         16.35,
         "2025-01-22T14:59:00"
        ],
        [
         1231.28,
         16.29,
         "2025-01-25T18:21:00"
        ],
        [
         88653.21,
         16.04,
         "2025-01-30T22:11:00"
        ],
        [
         5264.58,
         15.95,
         "2025-01-16T04:45:00"
        ],
        [
         77877.03,
         15.9,
         "2025-01-23T07:42:00"
        ],
        [
         19060.56,
         15.72,
         "2025-01-31T22:06:00"
        ],
        [
         1472.37,
         15.6,
         "2025-01-06T08:18:30"
        ],
        [
         82060.16,
         15.51,
         "2025-01-03T06:43:00"
        ],
        [
         104448.07,
         15.38,
         "2025-01-12T09:01:00"
        ],
        [
         4949.31,
         15.12,
         "2025-01-28T17:39:00"
        ],
        [
         59246.64,
         15.08,
         "2025-01-21T17:12:00"
        ],
        [
         3959.76,
         14.96,
         "2025-01-25T02:22:00"
        ],
        [
         99752.63,
         14.43,
         "2025-01-12T20:57:00"
        ],
        [
         2810.84,
         14.38,
         "2025-01-08T07:41:00"
        ],
        [
         669.54,
         14.3,
         "2025-01-24T11:46:00"
        ],
        [
         55940.25,
         14.26,
         "2025-01-24T22:13:00"
        ],
        [
         18924.7,
         14.09,
         "2025-01-20T08:32:00"
        ],
        [
         164959.95,
         14.05,
         "2025-01-17T14:25:00"
        ],
        [
         87073.75,
         13.58,
         "2025-01-18T17:49:00"
        ],
        [
         97494.89,
         13.58,
         "2025-01-21T16:19:00"
        ],
        [
         72537.94,
         13.22,
         "2025-01-17T06:17:00"
        ],
        [
         70723.26,
         13.04,
         "2025-01-24T06:42:00"
        ],
        [
         65458.12,
         12.78,
         "2025-01-22T21:13:00"
        ],
        [
         189687.43,
         12.7,
         "2025-01-14T19:18:00"
        ],
        [
         106629.95,
         12.55,
         "2025-01-16T05:51:00"
        ],
        [
         84559.4,
         12.28,
         "2025-01-22T20:44:00"
        ],
        [
         124083.23,
         12.14,
         "2025-01-14T05:29:00"
        ],
        [
         2001.95,
         12.1,
         "2025-01-13T17:04:40"
        ],
        [
         7146.63,
         11.22,
         "2025-01-26T10:57:00"
        ],
        [
         54642.52,
         11.14,
         "2025-01-30T09:54:00"
        ],
        [
         158925.09,
         10.82,
         "2025-01-03T15:47:00"
        ],
        [
         18172.93,
         10.8,
         "2025-01-19T06:45:00"
        ],
        [
         73112.89,
         10.6,
         "2025-01-16T09:11:00"
        ],
        [
         60677.15,
         10.16,
         "2025-01-31T19:24:00"
        ],
        [
         202771.63,
         10.1,
         "2025-01-26T17:46:00"
        ],
        [
         49608.92,
         9.96,
         "2025-01-30T08:47:00"
        ],
        [
         88295.07,
         9.53,
         "2025-01-25T01:17:00"
        ],
        [
         92835.27,
         9.2,
         "2025-01-26T10:59:00"
        ],
        [
         276099.95,
         9.13,
         "2025-01-19T14:51:00"
        ],
        [
         51218.09,
         9.06,
         "2025-01-30T05:37:00"
        ],
        [
         143712.27,
         8.51,
         "2025-01-09T06:18:00"
        ],
        [
         105519.62,
         7.16,
         "2025-01-23T21:46:00"
        ],
        [
         121555.16,
         6.96,
         "2025-01-09T05:57:00"
        ],
        [
         72389.24,
         6.62,
         "2025-01-11T21:32:00"
        ],
        [
         82155.91,
         6.37,
         "2025-01-12T16:13:00"
        ],
        [
         181139.99,
         6.33,
         "2025-01-13T21:11:00"
        ],
        [
         77622.46,
         6.07,
         "2025-01-15T23:14:00"
        ],
        [
         52143.74,
         4.8,
         "2025-01-13T13:58:00"
        ],
        [
         70689.46,
         1.68,
         "2025-01-01T18:17:00"
        ],
        [
         73437.25,
         -0.85,
         "2025-01-01T00:46:00"
        ],
        [
         71493.83,
         -1.5,
         "2025-01-06T08:14:00"
        ],
        [
         101607.42,
         -1.5,
         "2025-01-09T15:35:00"
        ],
        [
         15872.67,
         -1.5,
         "2025-01-10T05:44:00"
        ],
        [
         167452.94,
         -4.0,
         "2025-01-19T18:31:00"
        ],
        [
         112134.5,
         -4.0,
         "2025-01-22T16:47:00"
        ],
        [
         168079.57,
         -4.0,
         "2025-01-24T08:33:00"
        ],
        [
         71460.44,
         -4.75,
         "2025-01-12T16:13:00"
        ],
        [
         3462.61,
         -4.75,
         "2025-01-16T21:52:00"
        ],
        [
         67221.48,
         -4.75,
         "2025-01-17T17:05:00"
        ],
        [
         94767.31,
         -4.75,
         "2025-01-18T15:14:00"
        ],
        [
         57054.14,
         -4.75,
         "2025-01-20T19:26:00"
        ],
        [
         276423.57,
         -4.75,
         "2025-01-22T21:04:00"
        ],
        [
         73826.13,
         -4.75,
         "2025-01-23T08:50:00"
        ],
        [
         72627.93,
         -4.75,
         "2025-01-24T17:44:00"
        ],
        [
         118927.12,
         -4.75,
         "2025-01-27T08:03:00"
        ],
        [
         83503.33,
         -4.75,
         "2025-01-31T05:26:00"
        ],
        [
         88102.25,
         -4.75,
         "2025-01-31T18:13:00"
        ],
        [
         76492.14,
         -8.44,
         "2025-01-30T07:05:00"
        ],
        [
         81231.22,
         -8.86,
         "2025-01-01T08:59:00"
        ],
        [
         85936.08,
         -11.69,
         "2025-01-10T04:34:00"
        ],
        [
         115.47,
         -425.0,
         "2025-01-10T21:08:47"
        ],
        [
         131.88,
         -550.0,
         "2025-01-12T11:52:37"
        ],
        [
         132.27,
         -826.2,
         "2025-01-01T23:13:43"
        ]
       ],
       "datasetInfos": [],
       "dbfsResultPath": null,
       "isJsonSchema": true,
       "metadata": {
        "createTempViewForImplicitDf": true,
        "dataframeName": "_sqldf",
        "executionCount": 7
       },
       "overflow": false,
       "plotOptions": {
        "customPlotOptions": {},
        "displayType": "table",
        "pivotAggregation": null,
        "pivotColumns": null,
        "xColumns": null,
        "yColumns": null
       },
       "removedWidgets": [],
       "schema": [
        {
         "metadata": "{}",
         "name": "trip_distance",
         "type": "\"double\""
        },
        {
         "metadata": "{}",
         "name": "fare_amount",
         "type": "\"double\""
        },
        {
         "metadata": "{}",
         "name": "tpep_pickup_datetime",
         "type": "\"timestamp_ntz\""
        }
       ],
       "type": "table"
      }
     },
     "output_type": "display_data"
    }
   ],
   "source": [
    "%sql\n",
    "SELECT trip_distance, fare_amount, tpep_pickup_datetime\n",
    "FROM nyc_taxi_raw\n",
    "WHERE trip_distance > 100 OR fare_amount > 500\n",
    "ORDER BY fare_amount DESC\n",
    "\n",
    "\n"
   ]
  },
  {
   "cell_type": "markdown",
   "metadata": {
    "application/vnd.databricks.v1+cell": {
     "cellMetadata": {
      "byteLimit": 2048000,
      "rowLimit": 10000
     },
     "inputWidgets": {},
     "nuid": "a46397df-a033-43f1-96a0-b5d400242f69",
     "showTitle": false,
     "tableResultSettingsMap": {},
     "title": ""
    }
   },
   "source": [
    "Before cleaning the NYC Yellow Taxi dataset, our team used Spark SQL to explore common data quality issues. We found that over 10,000 records had a trip distance of zero, which is unrealistic for a taxi ride and likely represents bad data. More than 10,000 records had a fare amount less than or equal to zero, which could indicate system errors, incomplete transactions, or data entry errors. We also found a small number of extreme outliers. 206 records had either a trip distance greater than 100 miles or a fare amount above $500. Lastly, when analyzing passenger count, we observed that the majority of rides had between 1 and 6 passengers, while some records had null values, zeros, or unusually high counts, which are likely errors. These findings helped shape the cleaning rules we applied in the next step."
   ]
  },
  {
   "cell_type": "markdown",
   "metadata": {
    "application/vnd.databricks.v1+cell": {
     "cellMetadata": {
      "byteLimit": 2048000,
      "rowLimit": 10000
     },
     "inputWidgets": {},
     "nuid": "08cd4d0a-b025-4b0f-8a61-73e7907be069",
     "showTitle": false,
     "tableResultSettingsMap": {},
     "title": ""
    }
   },
   "source": [
    "**Cleaning and Transforming the Data**"
   ]
  },
  {
   "cell_type": "markdown",
   "metadata": {
    "application/vnd.databricks.v1+cell": {
     "cellMetadata": {
      "byteLimit": 2048000,
      "rowLimit": 10000
     },
     "inputWidgets": {},
     "nuid": "5cd6f590-b24b-4f31-9bce-0d6234f2760c",
     "showTitle": false,
     "tableResultSettingsMap": {},
     "title": ""
    }
   },
   "source": [
    "Based on the issues identified during data exploration, we applied a series of filters to clean the dataset and ensure it was suitable for analysis and modeling. First, we removed all records with a trip distance less than or equal to zero and any fare amounts less than or equal to zero, since these likely represent incomplete or invalid trips. Next, we filtered the data to keep only rides with a passenger count between 1 and 6, excluding nulls, zeros, and unusually high counts that fall outside the typical range for taxi rides. These cleaning steps helped reduce noise and improve the overall quality of the dataset, making it more reliable for machine learning tasks."
   ]
  },
  {
   "cell_type": "code",
   "execution_count": 0,
   "metadata": {
    "application/vnd.databricks.v1+cell": {
     "cellMetadata": {
      "byteLimit": 2048000,
      "rowLimit": 10000
     },
     "inputWidgets": {},
     "nuid": "d68897ee-e0a5-42ff-90fe-79790d2c7999",
     "showTitle": false,
     "tableResultSettingsMap": {},
     "title": ""
    }
   },
   "outputs": [],
   "source": [
    "# Filter out trips with invalid trip distance or fare amount\n",
    "# These are likely errors for example, rides with 0 miles or negative or $0.00 fare price\n",
    "df_cleaned = df.filter(\n",
    "    (df.trip_distance > 0) & \n",
    "    (df.fare_amount > 0)\n",
    ")\n"
   ]
  },
  {
   "cell_type": "code",
   "execution_count": 0,
   "metadata": {
    "application/vnd.databricks.v1+cell": {
     "cellMetadata": {
      "byteLimit": 2048000,
      "rowLimit": 10000
     },
     "inputWidgets": {},
     "nuid": "7b4d32eb-3288-4771-86c8-2ec95d6137f0",
     "showTitle": false,
     "tableResultSettingsMap": {},
     "title": ""
    }
   },
   "outputs": [],
   "source": [
    "# Keep only rides with a realistic passenger count (1 to 6)\n",
    "# This removes rows with 0, null, or high passenger counts \n",
    "df_cleaned = df_cleaned.filter(\n",
    "    (df_cleaned.passenger_count >= 1) & \n",
    "    (df_cleaned.passenger_count <= 6)\n",
    ")"
   ]
  },
  {
   "cell_type": "code",
   "execution_count": 0,
   "metadata": {
    "application/vnd.databricks.v1+cell": {
     "cellMetadata": {
      "byteLimit": 2048000,
      "rowLimit": 10000
     },
     "inputWidgets": {},
     "nuid": "199a22e2-11db-45d4-81fd-6de48ea58c0b",
     "showTitle": false,
     "tableResultSettingsMap": {},
     "title": ""
    }
   },
   "outputs": [],
   "source": [
    "# Drop any remaining rows with null values\n",
    "df_cleaned = df_cleaned.dropna()"
   ]
  },
  {
   "cell_type": "code",
   "execution_count": 0,
   "metadata": {
    "application/vnd.databricks.v1+cell": {
     "cellMetadata": {
      "byteLimit": 2048000,
      "rowLimit": 10000
     },
     "inputWidgets": {},
     "nuid": "085afeb3-7eaf-42a0-9956-5ebb2143983f",
     "showTitle": false,
     "tableResultSettingsMap": {},
     "title": ""
    }
   },
   "outputs": [
    {
     "output_type": "stream",
     "name": "stdout",
     "output_type": "stream",
     "text": [
      "root\n |-- VendorID: integer (nullable = true)\n |-- tpep_pickup_datetime: timestamp_ntz (nullable = true)\n |-- tpep_dropoff_datetime: timestamp_ntz (nullable = true)\n |-- passenger_count: long (nullable = true)\n |-- trip_distance: double (nullable = true)\n |-- RatecodeID: long (nullable = true)\n |-- store_and_fwd_flag: string (nullable = true)\n |-- PULocationID: integer (nullable = true)\n |-- DOLocationID: integer (nullable = true)\n |-- payment_type: long (nullable = true)\n |-- fare_amount: double (nullable = true)\n |-- extra: double (nullable = true)\n |-- mta_tax: double (nullable = true)\n |-- tip_amount: double (nullable = true)\n |-- tolls_amount: double (nullable = true)\n |-- improvement_surcharge: double (nullable = true)\n |-- total_amount: double (nullable = true)\n |-- congestion_surcharge: double (nullable = true)\n |-- Airport_fee: double (nullable = true)\n\n"
     ]
    }
   ],
   "source": [
    "# Print the schema of the cleaned DataFrame\n",
    "# This shows column names and data types after cleaning\n",
    "df_cleaned.printSchema()"
   ]
  },
  {
   "cell_type": "code",
   "execution_count": 0,
   "metadata": {
    "application/vnd.databricks.v1+cell": {
     "cellMetadata": {
      "byteLimit": 2048000,
      "rowLimit": 10000
     },
     "inputWidgets": {},
     "nuid": "1f0a8990-39c9-4b6e-8759-ac056e2f36a8",
     "showTitle": false,
     "tableResultSettingsMap": {},
     "title": ""
    }
   },
   "outputs": [
    {
     "output_type": "stream",
     "name": "stdout",
     "output_type": "stream",
     "text": [
      "+--------+--------------------+---------------------+---------------+-------------+----------+------------------+------------+------------+------------+-----------+-----+-------+----------+------------+---------------------+------------+--------------------+-----------+\n|VendorID|tpep_pickup_datetime|tpep_dropoff_datetime|passenger_count|trip_distance|RatecodeID|store_and_fwd_flag|PULocationID|DOLocationID|payment_type|fare_amount|extra|mta_tax|tip_amount|tolls_amount|improvement_surcharge|total_amount|congestion_surcharge|Airport_fee|\n+--------+--------------------+---------------------+---------------+-------------+----------+------------------+------------+------------+------------+-----------+-----+-------+----------+------------+---------------------+------------+--------------------+-----------+\n|       1| 2025-01-01 00:18:38|  2025-01-01 00:26:59|              1|          1.6|         1|                 N|         229|         237|           1|       10.0|  3.5|    0.5|       3.0|         0.0|                  1.0|        18.0|                 2.5|        0.0|\n|       1| 2025-01-01 00:32:40|  2025-01-01 00:35:13|              1|          0.5|         1|                 N|         236|         237|           1|        5.1|  3.5|    0.5|      2.02|         0.0|                  1.0|       12.12|                 2.5|        0.0|\n|       1| 2025-01-01 00:44:04|  2025-01-01 00:46:01|              1|          0.6|         1|                 N|         141|         141|           1|        5.1|  3.5|    0.5|       2.0|         0.0|                  1.0|        12.1|                 2.5|        0.0|\n|       2| 2025-01-01 00:14:27|  2025-01-01 00:20:01|              3|         0.52|         1|                 N|         244|         244|           2|        7.2|  1.0|    0.5|       0.0|         0.0|                  1.0|         9.7|                 0.0|        0.0|\n|       2| 2025-01-01 00:21:34|  2025-01-01 00:25:06|              3|         0.66|         1|                 N|         244|         116|           2|        5.8|  1.0|    0.5|       0.0|         0.0|                  1.0|         8.3|                 0.0|        0.0|\n+--------+--------------------+---------------------+---------------+-------------+----------+------------------+------------+------------+------------+-----------+-----+-------+----------+------------+---------------------+------------+--------------------+-----------+\nonly showing top 5 rows\n\n"
     ]
    }
   ],
   "source": [
    "# Preview the first 5 rows of cleaned data\n",
    "df_cleaned.show(5)"
   ]
  },
  {
   "cell_type": "code",
   "execution_count": 0,
   "metadata": {
    "application/vnd.databricks.v1+cell": {
     "cellMetadata": {
      "byteLimit": 2048000,
      "rowLimit": 10000
     },
     "inputWidgets": {},
     "nuid": "b0dd6380-150e-4b5c-9163-2420b914fd37",
     "showTitle": false,
     "tableResultSettingsMap": {},
     "title": ""
    }
   },
   "outputs": [
    {
     "output_type": "stream",
     "name": "stdout",
     "output_type": "stream",
     "text": [
      "Original row count: 3475226\nCleaned row count: 2816825\n"
     ]
    }
   ],
   "source": [
    "# Compare row counts before and after cleaning\n",
    "print(\"Original row count:\", df.count())\n",
    "print(\"Cleaned row count:\", df_cleaned.count())"
   ]
  },
  {
   "cell_type": "markdown",
   "metadata": {
    "application/vnd.databricks.v1+cell": {
     "cellMetadata": {
      "byteLimit": 2048000,
      "rowLimit": 10000
     },
     "inputWidgets": {},
     "nuid": "b77db52d-3c88-4b64-8b63-2d08a857dfba",
     "showTitle": false,
     "tableResultSettingsMap": {},
     "title": ""
    }
   },
   "source": [
    "Now that the dataset has been cleaned to remove invalid trip records, the next step is to transform key variables to make the data more useful for analysis and machine learning. The raw dataset includes timestamp columns for pickup and dropoff times, which are not immediately usable in their current form. To make them more meaningful, we will create a new column that calculates the total trip duration in minutes. This will help us understand the length of each ride and could be valuable in predicting fare amounts or traffic patterns. In addition, we will extract the pickup hour from the timestamp to analyze time-of-day effects, such as rush hour trends. These transformed columns will serve as engineered features that improve the quality of input for future models and allow for deeper insight into passenger behavior and trip characteristics."
   ]
  },
  {
   "cell_type": "code",
   "execution_count": 0,
   "metadata": {
    "application/vnd.databricks.v1+cell": {
     "cellMetadata": {
      "byteLimit": 2048000,
      "rowLimit": 10000
     },
     "inputWidgets": {},
     "nuid": "35848d70-fd78-43fa-8022-563d04b9be72",
     "showTitle": false,
     "tableResultSettingsMap": {},
     "title": ""
    }
   },
   "outputs": [],
   "source": [
    "from pyspark.sql.functions import unix_timestamp, col, hour\n",
    "\n",
    "# Create a new column for trip duration in minutes\n",
    "# This calculates the time between pickup and dropoff and transforms it to total minutes\n",
    "df_transformed = df_cleaned.withColumn(\n",
    "    \"trip_duration_minutes\",\n",
    "    (unix_timestamp(\"tpep_dropoff_datetime\") - unix_timestamp(\"tpep_pickup_datetime\")) / 60\n",
    ")"
   ]
  },
  {
   "cell_type": "code",
   "execution_count": 0,
   "metadata": {
    "application/vnd.databricks.v1+cell": {
     "cellMetadata": {
      "byteLimit": 2048000,
      "rowLimit": 10000
     },
     "inputWidgets": {},
     "nuid": "6e4cde88-e444-4a06-913b-9e556d18ec36",
     "showTitle": false,
     "tableResultSettingsMap": {},
     "title": ""
    }
   },
   "outputs": [],
   "source": [
    "# Create a new column for the pickup hour\n",
    "# This will help analyze time-of-day patterns (ex. rush hour, morning, etc.)\n",
    "df_transformed = df_transformed.withColumn(\n",
    "    \"pickup_hour\",\n",
    "    hour(\"tpep_pickup_datetime\")\n",
    ")"
   ]
  },
  {
   "cell_type": "code",
   "execution_count": 0,
   "metadata": {
    "application/vnd.databricks.v1+cell": {
     "cellMetadata": {
      "byteLimit": 2048000,
      "rowLimit": 10000
     },
     "inputWidgets": {},
     "nuid": "58feea96-f848-406d-9946-d414c762cffc",
     "showTitle": false,
     "tableResultSettingsMap": {},
     "title": ""
    }
   },
   "outputs": [],
   "source": [
    "# Additional cleaning is needed after the transformation step to remove outliers\n",
    "# Remove unrealistic outliers from fare, distance, and trip duration\n",
    "df_transformed = df_transformed.filter(\n",
    "    (df_transformed.fare_amount <= 500) &              # Remove high fare values\n",
    "    (df_transformed.trip_distance <= 100) &             # Keep trips under 100 miles\n",
    "    (df_transformed.trip_duration_minutes >= 0) &       # Remove negative durations\n",
    "    (df_transformed.trip_duration_minutes <= 180)       # Remove trips over 3 hours\n",
    ")\n"
   ]
  },
  {
   "cell_type": "code",
   "execution_count": 0,
   "metadata": {
    "application/vnd.databricks.v1+cell": {
     "cellMetadata": {
      "byteLimit": 2048000,
      "rowLimit": 10000
     },
     "inputWidgets": {},
     "nuid": "f68adece-0748-423e-a176-f3f8dd2037fe",
     "showTitle": false,
     "tableResultSettingsMap": {},
     "title": ""
    }
   },
   "outputs": [
    {
     "output_type": "stream",
     "name": "stdout",
     "output_type": "stream",
     "text": [
      "root\n |-- VendorID: integer (nullable = true)\n |-- tpep_pickup_datetime: timestamp_ntz (nullable = true)\n |-- tpep_dropoff_datetime: timestamp_ntz (nullable = true)\n |-- passenger_count: long (nullable = true)\n |-- trip_distance: double (nullable = true)\n |-- RatecodeID: long (nullable = true)\n |-- store_and_fwd_flag: string (nullable = true)\n |-- PULocationID: integer (nullable = true)\n |-- DOLocationID: integer (nullable = true)\n |-- payment_type: long (nullable = true)\n |-- fare_amount: double (nullable = true)\n |-- extra: double (nullable = true)\n |-- mta_tax: double (nullable = true)\n |-- tip_amount: double (nullable = true)\n |-- tolls_amount: double (nullable = true)\n |-- improvement_surcharge: double (nullable = true)\n |-- total_amount: double (nullable = true)\n |-- congestion_surcharge: double (nullable = true)\n |-- Airport_fee: double (nullable = true)\n |-- trip_duration_minutes: double (nullable = true)\n |-- pickup_hour: integer (nullable = true)\n\n+--------------------+---------------------+---------------------+-----------+\n|tpep_pickup_datetime|tpep_dropoff_datetime|trip_duration_minutes|pickup_hour|\n+--------------------+---------------------+---------------------+-----------+\n| 2025-01-01 00:18:38|  2025-01-01 00:26:59|                 8.35|          0|\n| 2025-01-01 00:32:40|  2025-01-01 00:35:13|                 2.55|          0|\n| 2025-01-01 00:44:04|  2025-01-01 00:46:01|                 1.95|          0|\n| 2025-01-01 00:14:27|  2025-01-01 00:20:01|    5.566666666666666|          0|\n| 2025-01-01 00:21:34|  2025-01-01 00:25:06|    3.533333333333333|          0|\n+--------------------+---------------------+---------------------+-----------+\nonly showing top 5 rows\n\n"
     ]
    }
   ],
   "source": [
    "# Preview the transformed dataset\n",
    "df_transformed.printSchema()\n",
    "df_transformed.select(\n",
    "    \"tpep_pickup_datetime\", \n",
    "    \"tpep_dropoff_datetime\", \n",
    "    \"trip_duration_minutes\", \n",
    "    \"pickup_hour\"\n",
    ").show(5)"
   ]
  },
  {
   "cell_type": "code",
   "execution_count": 0,
   "metadata": {
    "application/vnd.databricks.v1+cell": {
     "cellMetadata": {
      "byteLimit": 2048000,
      "rowLimit": 10000
     },
     "inputWidgets": {},
     "nuid": "64768c55-2ccf-439b-be61-c4d16be609cd",
     "showTitle": false,
     "tableResultSettingsMap": {},
     "title": ""
    }
   },
   "outputs": [
    {
     "output_type": "stream",
     "name": "stdout",
     "output_type": "stream",
     "text": [
      "root\n |-- VendorID: integer (nullable = true)\n |-- passenger_count: long (nullable = true)\n |-- trip_distance: double (nullable = true)\n |-- payment_type: long (nullable = true)\n |-- fare_amount: double (nullable = true)\n |-- tip_amount: double (nullable = true)\n |-- tolls_amount: double (nullable = true)\n |-- total_amount: double (nullable = true)\n |-- pickup_hour: integer (nullable = true)\n |-- congestion_surcharge: double (nullable = true)\n |-- trip_duration_minutes: double (nullable = true)\n |-- PULocationID: integer (nullable = true)\n |-- DOLocationID: integer (nullable = true)\n\n"
     ]
    }
   ],
   "source": [
    "# Keeping only the necessary columns (after all transformations and cleaning)\n",
    "df_transformed = df_transformed.select(\n",
    "    \"VendorID\", \n",
    "    \"passenger_count\", \n",
    "    \"trip_distance\", \n",
    "    \"payment_type\", \n",
    "    \"fare_amount\", \n",
    "    \"tip_amount\", \n",
    "    \"tolls_amount\", \n",
    "    \"total_amount\",\n",
    "    \"pickup_hour\",\n",
    "    \"congestion_surcharge\", \n",
    "    \"trip_duration_minutes\",\n",
    "    \"PULocationID\",\n",
    "    \"DOLocationID\"\n",
    ")\n",
    "\n",
    "# Confirm the schema of the cleaned data\n",
    "df_transformed.printSchema()\n"
   ]
  },
  {
   "cell_type": "code",
   "execution_count": 0,
   "metadata": {
    "application/vnd.databricks.v1+cell": {
     "cellMetadata": {
      "byteLimit": 2048000,
      "rowLimit": 10000
     },
     "inputWidgets": {},
     "nuid": "a2770768-394c-4564-ac72-42dd67730fbb",
     "showTitle": false,
     "tableResultSettingsMap": {},
     "title": ""
    }
   },
   "outputs": [
    {
     "output_type": "stream",
     "name": "stdout",
     "output_type": "stream",
     "text": [
      "+-------+------------------+------------------+------------------+------------------+------------------+------------------+------------------+------------------+------------------+--------------------+---------------------+------------------+------------------+\n|summary|          VendorID|   passenger_count|     trip_distance|      payment_type|       fare_amount|        tip_amount|      tolls_amount|      total_amount|       pickup_hour|congestion_surcharge|trip_duration_minutes|      PULocationID|      DOLocationID|\n+-------+------------------+------------------+------------------+------------------+------------------+------------------+------------------+------------------+------------------+--------------------+---------------------+------------------+------------------+\n|  count|           2815454|           2815454|           2815454|           2815454|           2815454|           2815454|           2815454|           2815454|           2815454|             2815454|              2815454|           2815454|           2815454|\n|   mean|1.7788960501574524|1.3064926651261217|3.1760476640711066|1.1753720714314637| 17.93183190703969|3.4998139376441992|0.5248235701928751| 27.36146804389249|14.387209664942137|   2.325580528042724|   14.585134984743355|167.06267834601454|166.14149796089725|\n| stddev|0.4300709326662289|0.7418849899132137| 4.298758493147229|0.4780415076540819|16.889947609241254|3.8160664592507136| 2.089914330608127|21.320705162214228|  5.52637073106643|  0.6368882725932745|   11.717878055732225| 62.94653956152216| 68.85174628808664|\n|    min|                 1|                 1|              0.01|                 1|              0.01|               0.0|               0.0|              1.01|                 0|                 0.0|                  0.0|                 1|                 1|\n|    max|                 7|                 6|             97.58|                 4|             500.0|             400.0|            126.94|            602.95|                23|                 2.5|   179.96666666666667|               265|               265|\n+-------+------------------+------------------+------------------+------------------+------------------+------------------+------------------+------------------+------------------+--------------------+---------------------+------------------+------------------+\n\n"
     ]
    }
   ],
   "source": [
    "# Remove all negative values where not allowed \n",
    "df_transformed = df_transformed.filter(\n",
    "    (df_transformed.trip_distance >= 0) &  # No negative trip distances\n",
    "    (df_transformed.fare_amount >= 0) &    # No negative fare amounts\n",
    "    (df_transformed.tip_amount >= 0) &     # No negative tip amounts\n",
    "    (df_transformed.tolls_amount >= 0) &   # No negative tolls\n",
    "    (df_transformed.total_amount >= 0) &   # No negative total fare\n",
    "    (df_transformed.congestion_surcharge >= 0) &  # No negative surcharge\n",
    "    (df_transformed.trip_duration_minutes >= 0)    # No negative duration\n",
    ")\n",
    "\n",
    "# Verify that there are no negative values\n",
    "df_transformed.describe().show()\n"
   ]
  },
  {
   "cell_type": "code",
   "execution_count": 0,
   "metadata": {
    "application/vnd.databricks.v1+cell": {
     "cellMetadata": {
      "byteLimit": 2048000,
      "rowLimit": 10000
     },
     "inputWidgets": {},
     "nuid": "e124606f-85b4-49bf-8b7a-1e027b24dc42",
     "showTitle": false,
     "tableResultSettingsMap": {},
     "title": ""
    }
   },
   "outputs": [
    {
     "output_type": "stream",
     "name": "stdout",
     "output_type": "stream",
     "text": [
      "Original row count: 3475226\nCleaned row count: 2815454\n"
     ]
    }
   ],
   "source": [
    "# Compare row counts before and after cleaning\n",
    "print(\"Original row count:\", df.count())\n",
    "print(\"Cleaned row count:\", df_transformed.count())"
   ]
  },
  {
   "cell_type": "markdown",
   "metadata": {
    "application/vnd.databricks.v1+cell": {
     "cellMetadata": {
      "byteLimit": 2048000,
      "rowLimit": 10000
     },
     "inputWidgets": {},
     "nuid": "2c299f50-333e-4929-a807-f6890ede4e75",
     "showTitle": false,
     "tableResultSettingsMap": {},
     "title": ""
    }
   },
   "source": [
    "After transforming and cleaning the January 2025 NYC taxi dataset, our team performed additional steps to ensure the data was ready for analysis and modeling. Rows were removed with unrealistic outliers, such as extremely high fare amounts over $500, trip distances exceeding 100 miles, and trip durations either negative or longer than 3 hours. These values were either data entry errors or rare cases that do not reflect typical taxi behavior. By filtering out these rows, we eliminated noise and ensured that the dataset accurately represented real-world taxi trips, allowing the model to learn from meaningful patterns rather than outliers in the data.\n",
    "\n",
    "Although this cleaning process resulted in the removal of over 660,000 rows, the dataset still contains over 2.8 million valid records, which is sufficient for building accurate machine learning models. This large sample size provides a diversity of trip data, including typical fare amounts, trip distances, and durations. The remaining dataset is highly representative of everyday taxi rides and will ensure that modeling will be efficient. \n",
    "\n",
    "In summary, the data cleaning and transformation process has left us with a clean, diverse, and representative dataset that is ideal for training machine learning models. The 2.8 million records provide usable data to extract valuable insights and make accurate predictions. By focusing on valid and realistic trips, this dataset is now well prepared for the next steps in exploring and visualizing the data. "
   ]
  },
  {
   "cell_type": "markdown",
   "metadata": {
    "application/vnd.databricks.v1+cell": {
     "cellMetadata": {
      "byteLimit": 2048000,
      "rowLimit": 10000
     },
     "inputWidgets": {},
     "nuid": "fb1cb583-3015-4edd-b3f9-c5f85c3585c1",
     "showTitle": false,
     "tableResultSettingsMap": {},
     "title": ""
    }
   },
   "source": [
    "**Exploratory Data Analysis (EDA) & Visualization**"
   ]
  },
  {
   "cell_type": "code",
   "execution_count": 0,
   "metadata": {
    "application/vnd.databricks.v1+cell": {
     "cellMetadata": {
      "byteLimit": 2048000,
      "rowLimit": 10000
     },
     "inputWidgets": {},
     "nuid": "3aee9676-1def-4113-8da5-21ba1cf6872c",
     "showTitle": false,
     "tableResultSettingsMap": {},
     "title": ""
    }
   },
   "outputs": [
    {
     "output_type": "stream",
     "name": "stdout",
     "output_type": "stream",
     "text": [
      "+-------+------------------+------------------+---------------------+\n|summary|       fare_amount|     trip_distance|trip_duration_minutes|\n+-------+------------------+------------------+---------------------+\n|  count|           2815454|           2815454|              2815454|\n|   mean| 17.93183190703969|3.1760476640711066|   14.585134984743355|\n| stddev|16.889947609241254| 4.298758493147229|   11.717878055732225|\n|    min|              0.01|              0.01|                  0.0|\n|    max|             500.0|             97.58|   179.96666666666667|\n+-------+------------------+------------------+---------------------+\n\n"
     ]
    }
   ],
   "source": [
    "# Show basic summary statistics\n",
    "df_transformed.select(\n",
    "    \"fare_amount\", \n",
    "    \"trip_distance\", \n",
    "    \"trip_duration_minutes\"\n",
    ").describe().show()\n"
   ]
  },
  {
   "cell_type": "code",
   "execution_count": 0,
   "metadata": {
    "application/vnd.databricks.v1+cell": {
     "cellMetadata": {
      "byteLimit": 2048000,
      "rowLimit": 10000
     },
     "inputWidgets": {},
     "nuid": "6d9e6825-b174-43bf-95c5-bd00d5d4f526",
     "showTitle": false,
     "tableResultSettingsMap": {},
     "title": ""
    }
   },
   "outputs": [
    {
     "output_type": "stream",
     "name": "stdout",
     "output_type": "stream",
     "text": [
      "Fare Amount Quartiles: [8.6, 12.8, 19.8]\n"
     ]
    }
   ],
   "source": [
    "# Showing fare quartiles for EDA\n",
    "fare_quartiles = df_transformed.approxQuantile(\"fare_amount\", [0.25, 0.5, 0.75], 0.01)\n",
    "print(\"Fare Amount Quartiles:\", fare_quartiles)\n"
   ]
  },
  {
   "cell_type": "code",
   "execution_count": 0,
   "metadata": {
    "application/vnd.databricks.v1+cell": {
     "cellMetadata": {
      "byteLimit": 2048000,
      "rowLimit": 10000
     },
     "inputWidgets": {},
     "nuid": "06af5d40-6f06-429b-a28d-5f16747ed06c",
     "showTitle": false,
     "tableResultSettingsMap": {},
     "title": ""
    }
   },
   "outputs": [
    {
     "output_type": "display_data",
     "data": {
      "image/png": "[encoded data removed]",
      "text/plain": [
       "<Figure size 640x480 with 1 Axes>"
      ]
     },
     "metadata": {},
     "output_type": "display_data"
    }
   ],
   "source": [
    "# Scatter plot to visualize the relationship between trip distance and fare amount\n",
    "\n",
    "df_transformed.filter(\n",
    "    (df_transformed.trip_distance <= 50) & \n",
    "    (df_transformed.fare_amount <= 200)\n",
    ").select(\"trip_distance\", \"fare_amount\") \\\n",
    ".toPandas().plot(kind=\"scatter\", x=\"trip_distance\", y=\"fare_amount\", alpha=0.3)\n",
    "\n",
    "import matplotlib.pyplot as plt\n",
    "plt.title(\"Fare Amount vs. Trip Distance\")\n",
    "plt.xlabel(\"Trip Distance (miles)\")\n",
    "plt.ylabel(\"Fare Amount ($)\")\n",
    "plt.grid(True)\n",
    "plt.show()\n"
   ]
  },
  {
   "cell_type": "code",
   "execution_count": 0,
   "metadata": {
    "application/vnd.databricks.v1+cell": {
     "cellMetadata": {
      "byteLimit": 2048000,
      "rowLimit": 10000
     },
     "inputWidgets": {},
     "nuid": "d4cf404c-401c-4ada-8e16-d1ac30ff4a0d",
     "showTitle": false,
     "tableResultSettingsMap": {},
     "title": ""
    }
   },
   "outputs": [
    {
     "output_type": "display_data",
     "data": {
      "image/png": "[encoded data removed]",
      "text/plain": [
       "<Figure size 640x480 with 1 Axes>"
      ]
     },
     "metadata": {},
     "output_type": "display_data"
    }
   ],
   "source": [
    "# Bar plot to show how average fare changes by hour of the day\n",
    "\n",
    "df_transformed.groupBy(\"pickup_hour\").avg(\"fare_amount\").orderBy(\"pickup_hour\") \\\n",
    ".toPandas().plot(x=\"pickup_hour\", y=\"avg(fare_amount)\", kind=\"bar\", legend=False)\n",
    "\n",
    "plt.title(\"Average Fare by Hour of Day\")\n",
    "plt.xlabel(\"Pickup Hour\")\n",
    "plt.ylabel(\"Average Fare ($)\")\n",
    "plt.grid(True)\n",
    "plt.show()\n"
   ]
  },
  {
   "cell_type": "code",
   "execution_count": 0,
   "metadata": {
    "application/vnd.databricks.v1+cell": {
     "cellMetadata": {
      "byteLimit": 2048000,
      "rowLimit": 10000
     },
     "inputWidgets": {},
     "nuid": "ff152781-f399-4337-b20d-8f139e903135",
     "showTitle": false,
     "tableResultSettingsMap": {},
     "title": ""
    }
   },
   "outputs": [
    {
     "output_type": "display_data",
     "data": {
      "image/png": "[encoded data removed]",
      "text/plain": [
       "<Figure size 640x480 with 1 Axes>"
      ]
     },
     "metadata": {},
     "output_type": "display_data"
    }
   ],
   "source": [
    "# Histogram of trip durations to see distribution of ride lengths\n",
    "\n",
    "df_transformed.select(\"trip_duration_minutes\").toPandas()[\"trip_duration_minutes\"] \\\n",
    ".plot(kind=\"hist\", bins=40, edgecolor=\"black\")\n",
    "\n",
    "plt.title(\"Trip Duration Distribution\")\n",
    "plt.xlabel(\"Trip Duration (minutes)\")\n",
    "plt.ylabel(\"Frequency\")\n",
    "plt.grid(True)\n",
    "plt.show()\n"
   ]
  },
  {
   "cell_type": "code",
   "execution_count": 0,
   "metadata": {
    "application/vnd.databricks.v1+cell": {
     "cellMetadata": {
      "byteLimit": 2048000,
      "rowLimit": 10000
     },
     "inputWidgets": {},
     "nuid": "43f8fe84-c45a-4f8d-9560-3471ef2dff96",
     "showTitle": false,
     "tableResultSettingsMap": {},
     "title": ""
    }
   },
   "outputs": [
    {
     "output_type": "display_data",
     "data": {
      "image/png": "[encoded data removed]",
      "text/plain": [
       "<Figure size 640x480 with 1 Axes>"
      ]
     },
     "metadata": {},
     "output_type": "display_data"
    }
   ],
   "source": [
    "# Bar plot to explore how average fare changes with number of passengers\n",
    "\n",
    "df_transformed.groupBy(\"passenger_count\").avg(\"fare_amount\").orderBy(\"passenger_count\") \\\n",
    ".toPandas().plot(x=\"passenger_count\", y=\"avg(fare_amount)\", kind=\"bar\", edgecolor=\"black\", legend=False)\n",
    "\n",
    "plt.title(\"Average Fare by Passenger Count\")\n",
    "plt.xlabel(\"Passenger Count\")\n",
    "plt.ylabel(\"Average Fare ($)\")\n",
    "plt.grid(True)\n",
    "plt.show()\n"
   ]
  },
  {
   "cell_type": "code",
   "execution_count": 0,
   "metadata": {
    "application/vnd.databricks.v1+cell": {
     "cellMetadata": {
      "byteLimit": 2048000,
      "rowLimit": 10000
     },
     "inputWidgets": {},
     "nuid": "211676f0-6e2b-4cba-94e1-566d0bfb4d49",
     "showTitle": false,
     "tableResultSettingsMap": {},
     "title": ""
    }
   },
   "outputs": [
    {
     "output_type": "display_data",
     "data": {
      "image/png": "[encoded data removed]",
      "text/plain": [
       "<Figure size 640x480 with 1 Axes>"
      ]
     },
     "metadata": {},
     "output_type": "display_data"
    }
   ],
   "source": [
    "# Histogram of trip distances to understand typical ride lengths\n",
    "\n",
    "df_transformed.select(\"trip_distance\").toPandas()[\"trip_distance\"] \\\n",
    ".plot(kind=\"hist\", bins=50, edgecolor=\"black\")\n",
    "\n",
    "plt.title(\"Trip Distance Distribution\")\n",
    "plt.xlabel(\"Trip Distance (miles)\")\n",
    "plt.ylabel(\"Frequency\")\n",
    "plt.grid(True)\n",
    "plt.show()\n"
   ]
  },
  {
   "cell_type": "code",
   "execution_count": 0,
   "metadata": {
    "application/vnd.databricks.v1+cell": {
     "cellMetadata": {
      "byteLimit": 2048000,
      "rowLimit": 10000
     },
     "inputWidgets": {},
     "nuid": "0aefe262-54d2-40c1-ad62-d45bf52d6db2",
     "showTitle": false,
     "tableResultSettingsMap": {},
     "title": ""
    }
   },
   "outputs": [
    {
     "output_type": "display_data",
     "data": {
      "image/png": "[encoded data removed]",
      "text/plain": [
       "<Figure size 640x480 with 1 Axes>"
      ]
     },
     "metadata": {},
     "output_type": "display_data"
    }
   ],
   "source": [
    "# Group by pickup location ID and count number of trips\n",
    "top_pu = df_transformed.groupBy(\"PULocationID\") \\\n",
    "    .count() \\\n",
    "    .orderBy(\"count\", ascending=False) \\\n",
    "    .limit(10) \\\n",
    "    .toPandas()\n",
    "\n",
    "# Plot the top pickup location IDs\n",
    "top_pu.plot(x=\"PULocationID\", y=\"count\", kind=\"bar\", legend=False, edgecolor=\"black\")\n",
    "\n",
    "import matplotlib.pyplot as plt\n",
    "plt.title(\"Top 10 Most Common Pickup Location IDs\")\n",
    "plt.xlabel(\"Pickup Location ID\")\n",
    "plt.ylabel(\"Number of Trips\")\n",
    "plt.grid(True)\n",
    "plt.xticks(rotation=0)\n",
    "plt.tight_layout()\n",
    "plt.show()\n"
   ]
  },
  {
   "cell_type": "code",
   "execution_count": 0,
   "metadata": {
    "application/vnd.databricks.v1+cell": {
     "cellMetadata": {
      "byteLimit": 2048000,
      "rowLimit": 10000
     },
     "inputWidgets": {},
     "nuid": "f8eaf79a-515c-42f4-9a58-dc74abe9828c",
     "showTitle": false,
     "tableResultSettingsMap": {},
     "title": ""
    }
   },
   "outputs": [
    {
     "output_type": "display_data",
     "data": {
      "image/png": "[encoded data removed]",
      "text/plain": [
       "<Figure size 640x480 with 1 Axes>"
      ]
     },
     "metadata": {},
     "output_type": "display_data"
    }
   ],
   "source": [
    "# Group by drop-off location ID and count number of trips\n",
    "top_do = df_transformed.groupBy(\"DOLocationID\") \\\n",
    "    .count() \\\n",
    "    .orderBy(\"count\", ascending=False) \\\n",
    "    .limit(10) \\\n",
    "    .toPandas()\n",
    "\n",
    "# Plot the top drop-off location IDs\n",
    "top_do.plot(x=\"DOLocationID\", y=\"count\", kind=\"bar\", legend=False, edgecolor=\"black\")\n",
    "\n",
    "import matplotlib.pyplot as plt\n",
    "plt.title(\"Top 10 Most Common Drop-off Location IDs\")\n",
    "plt.xlabel(\"Drop-off Location ID\")\n",
    "plt.ylabel(\"Number of Trips\")\n",
    "plt.grid(True)\n",
    "plt.xticks(rotation=0)\n",
    "plt.tight_layout()\n",
    "plt.show()\n"
   ]
  },
  {
   "cell_type": "markdown",
   "metadata": {
    "application/vnd.databricks.v1+cell": {
     "cellMetadata": {
      "byteLimit": 2048000,
      "rowLimit": 10000
     },
     "inputWidgets": {},
     "nuid": "3b962b14-1bb4-4199-9da1-b23d76c0c125",
     "showTitle": false,
     "tableResultSettingsMap": {},
     "title": ""
    }
   },
   "source": [
    "After cleaning and transforming the January 2025 NYC taxi dataset, our team performed an exploratory data analysis to understand trends in trip behavior, fare structure, and location demand. The average fare is $17.93 indicating a slightly right-skewed distribution due to a small number of higher fares. The average trip distance is 3.18 miles, while durations average around 14.6 minutes, with most trips lasting under 20 minutes. Visualizations confirmed that trip distances are heavily concentrated under 5 miles, and that fare amount increases with distance in a generally linear direction, though clusters may suggest pre set pricing. Fares were found to peak for 4-passenger rides, and both fare and trip duration tend to rise during morning and mid-afternoon hours. Lastly, pickup and drop-off location analysis revealed common zones such as 236, 237, and 161, which consistently appear among the top 10 most common locations, highlighting areas of high activity. "
   ]
  },
  {
   "cell_type": "markdown",
   "metadata": {
    "application/vnd.databricks.v1+cell": {
     "cellMetadata": {
      "byteLimit": 2048000,
      "rowLimit": 10000
     },
     "inputWidgets": {},
     "nuid": "c0a6ecec-b557-4705-9491-22efe7e4b4c4",
     "showTitle": false,
     "tableResultSettingsMap": {},
     "title": ""
    }
   },
   "source": [
    "**Machine Learning**"
   ]
  },
  {
   "cell_type": "markdown",
   "metadata": {
    "application/vnd.databricks.v1+cell": {
     "cellMetadata": {
      "byteLimit": 2048000,
      "rowLimit": 10000
     },
     "inputWidgets": {},
     "nuid": "d80d926e-2b0a-461b-83cd-ed429e3f66e9",
     "showTitle": false,
     "tableResultSettingsMap": {},
     "title": ""
    }
   },
   "source": [
    "1. Random Forest Model - Predicting Tip Amounts"
   ]
  },
  {
   "cell_type": "code",
   "execution_count": 0,
   "metadata": {
    "application/vnd.databricks.v1+cell": {
     "cellMetadata": {
      "byteLimit": 2048000,
      "rowLimit": 10000
     },
     "inputWidgets": {},
     "nuid": "1e018fd6-b17c-42ab-945c-023c25001109",
     "showTitle": false,
     "tableResultSettingsMap": {},
     "title": ""
    }
   },
   "outputs": [],
   "source": [
    "# Step 1: Import libraries\n",
    "import pandas as pd\n",
    "from sklearn.model_selection import train_test_split\n",
    "from sklearn.ensemble import RandomForestClassifier\n",
    "from sklearn.metrics import classification_report, confusion_matrix"
   ]
  },
  {
   "cell_type": "code",
   "execution_count": 0,
   "metadata": {
    "application/vnd.databricks.v1+cell": {
     "cellMetadata": {
      "byteLimit": 2048000,
      "rowLimit": 10000
     },
     "inputWidgets": {},
     "nuid": "bf3e37b7-6b5b-40fa-8059-2ffda4f73eba",
     "showTitle": false,
     "tableResultSettingsMap": {},
     "title": ""
    }
   },
   "outputs": [],
   "source": [
    "df_pandas = df_transformed.limit(50000).toPandas()  # Reduce to 50K rows "
   ]
  },
  {
   "cell_type": "code",
   "execution_count": 0,
   "metadata": {
    "application/vnd.databricks.v1+cell": {
     "cellMetadata": {
      "byteLimit": 2048000,
      "rowLimit": 10000
     },
     "inputWidgets": {},
     "nuid": "211d8b2d-ab56-4540-962f-20957b6ccca2",
     "showTitle": false,
     "tableResultSettingsMap": {},
     "title": ""
    }
   },
   "outputs": [],
   "source": [
    "# Step 3: Create tip_level target variable\n",
    "# 0 = No tip, 1 = Low tip (≤ $2), 2 = Medium tip (≤ $5), 3 = High tip\n",
    "def categorize_tip(tip):\n",
    "    if tip == 0:\n",
    "        return 0\n",
    "    elif tip <= 2:\n",
    "        return 1\n",
    "    elif tip <= 5:\n",
    "        return 2\n",
    "    else:\n",
    "        return 3\n",
    "\n",
    "df_pandas['tip_level'] = df_pandas['tip_amount'].apply(categorize_tip)"
   ]
  },
  {
   "cell_type": "code",
   "execution_count": 0,
   "metadata": {
    "application/vnd.databricks.v1+cell": {
     "cellMetadata": {
      "byteLimit": 2048000,
      "rowLimit": 10000
     },
     "inputWidgets": {},
     "nuid": "8e6f6dd8-0c9e-4f4f-a290-2ad6b3f4846c",
     "showTitle": false,
     "tableResultSettingsMap": {},
     "title": ""
    }
   },
   "outputs": [],
   "source": [
    "# Step 4: Select features already available in df_transformed\n",
    "features = [\n",
    "    'trip_distance', 'passenger_count', 'pickup_hour',\n",
    "    'congestion_surcharge', 'trip_duration_minutes', 'fare_amount',\n",
    "    'VendorID', 'PULocationID', 'DOLocationID'\n",
    "]"
   ]
  },
  {
   "cell_type": "code",
   "execution_count": 0,
   "metadata": {
    "application/vnd.databricks.v1+cell": {
     "cellMetadata": {
      "byteLimit": 2048000,
      "rowLimit": 10000
     },
     "inputWidgets": {},
     "nuid": "3f3b0eed-2def-4042-9942-221050f22c12",
     "showTitle": false,
     "tableResultSettingsMap": {},
     "title": ""
    }
   },
   "outputs": [],
   "source": [
    "# Step 5: Prepare feature matrix and target variable\n",
    "X = df_pandas[features]\n",
    "y = df_pandas['tip_level']"
   ]
  },
  {
   "cell_type": "code",
   "execution_count": 0,
   "metadata": {
    "application/vnd.databricks.v1+cell": {
     "cellMetadata": {
      "byteLimit": 2048000,
      "rowLimit": 10000
     },
     "inputWidgets": {},
     "nuid": "04dfbe9e-e5c5-486d-9045-272e4dc8fa46",
     "showTitle": false,
     "tableResultSettingsMap": {},
     "title": ""
    }
   },
   "outputs": [],
   "source": [
    "# Step 6: One-hot encode categorical variables\n",
    "categorical_cols = ['VendorID', 'PULocationID', 'DOLocationID']\n",
    "X_encoded = pd.get_dummies(X, columns=categorical_cols, drop_first=True)"
   ]
  },
  {
   "cell_type": "code",
   "execution_count": 0,
   "metadata": {
    "application/vnd.databricks.v1+cell": {
     "cellMetadata": {
      "byteLimit": 2048000,
      "rowLimit": 10000
     },
     "inputWidgets": {},
     "nuid": "de6fb4af-76d7-4662-bd17-e99f12ec665d",
     "showTitle": false,
     "tableResultSettingsMap": {},
     "title": ""
    }
   },
   "outputs": [],
   "source": [
    "# Step 7: Train-test split\n",
    "X_train, X_test, y_train, y_test = train_test_split(\n",
    "    X_encoded, y, test_size=0.2, random_state=42\n",
    ")"
   ]
  },
  {
   "cell_type": "code",
   "execution_count": 0,
   "metadata": {
    "application/vnd.databricks.v1+cell": {
     "cellMetadata": {
      "byteLimit": 2048000,
      "rowLimit": 10000
     },
     "inputWidgets": {},
     "nuid": "4c723bce-6cb4-4549-a869-4370cff76d3a",
     "showTitle": false,
     "tableResultSettingsMap": {},
     "title": ""
    }
   },
   "outputs": [
    {
     "output_type": "stream",
     "name": "stderr",
     "output_type": "stream",
     "text": [
      "/databricks/python/lib/python3.11/site-packages/sklearn/metrics/_classification.py:1469: UndefinedMetricWarning: Precision is ill-defined and being set to 0.0 in labels with no predicted samples. Use `zero_division` parameter to control this behavior.\n  _warn_prf(average, modifier, msg_start, len(result))\n"
     ]
    },
    {
     "output_type": "execute_result",
     "data": {
      "text/html": [
       "<style>#sk-container-id-4 {color: black;}#sk-container-id-4 pre{padding: 0;}#sk-container-id-4 div.sk-toggleable {background-color: white;}#sk-container-id-4 label.sk-toggleable__label {cursor: pointer;display: block;width: 100%;margin-bottom: 0;padding: 0.3em;box-sizing: border-box;text-align: center;}#sk-container-id-4 label.sk-toggleable__label-arrow:before {content: \"▸\";float: left;margin-right: 0.25em;color: #696969;}#sk-container-id-4 label.sk-toggleable__label-arrow:hover:before {color: black;}#sk-container-id-4 div.sk-estimator:hover label.sk-toggleable__label-arrow:before {color: black;}#sk-container-id-4 div.sk-toggleable__content {max-height: 0;max-width: 0;overflow: hidden;text-align: left;background-color: #f0f8ff;}#sk-container-id-4 div.sk-toggleable__content pre {margin: 0.2em;color: black;border-radius: 0.25em;background-color: #f0f8ff;}#sk-container-id-4 input.sk-toggleable__control:checked~div.sk-toggleable__content {max-height: 200px;max-width: 100%;overflow: auto;}#sk-container-id-4 input.sk-toggleable__control:checked~label.sk-toggleable__label-arrow:before {content: \"▾\";}#sk-container-id-4 div.sk-estimator input.sk-toggleable__control:checked~label.sk-toggleable__label {background-color: #d4ebff;}#sk-container-id-4 div.sk-label input.sk-toggleable__control:checked~label.sk-toggleable__label {background-color: #d4ebff;}#sk-container-id-4 input.sk-hidden--visually {border: 0;clip: rect(1px 1px 1px 1px);clip: rect(1px, 1px, 1px, 1px);height: 1px;margin: -1px;overflow: hidden;padding: 0;position: absolute;width: 1px;}#sk-container-id-4 div.sk-estimator {font-family: monospace;background-color: #f0f8ff;border: 1px dotted black;border-radius: 0.25em;box-sizing: border-box;margin-bottom: 0.5em;}#sk-container-id-4 div.sk-estimator:hover {background-color: #d4ebff;}#sk-container-id-4 div.sk-parallel-item::after {content: \"\";width: 100%;border-bottom: 1px solid gray;flex-grow: 1;}#sk-container-id-4 div.sk-label:hover label.sk-toggleable__label {background-color: #d4ebff;}#sk-container-id-4 div.sk-serial::before {content: \"\";position: absolute;border-left: 1px solid gray;box-sizing: border-box;top: 0;bottom: 0;left: 50%;z-index: 0;}#sk-container-id-4 div.sk-serial {display: flex;flex-direction: column;align-items: center;background-color: white;padding-right: 0.2em;padding-left: 0.2em;position: relative;}#sk-container-id-4 div.sk-item {position: relative;z-index: 1;}#sk-container-id-4 div.sk-parallel {display: flex;align-items: stretch;justify-content: center;background-color: white;position: relative;}#sk-container-id-4 div.sk-item::before, #sk-container-id-4 div.sk-parallel-item::before {content: \"\";position: absolute;border-left: 1px solid gray;box-sizing: border-box;top: 0;bottom: 0;left: 50%;z-index: -1;}#sk-container-id-4 div.sk-parallel-item {display: flex;flex-direction: column;z-index: 1;position: relative;background-color: white;}#sk-container-id-4 div.sk-parallel-item:first-child::after {align-self: flex-end;width: 50%;}#sk-container-id-4 div.sk-parallel-item:last-child::after {align-self: flex-start;width: 50%;}#sk-container-id-4 div.sk-parallel-item:only-child::after {width: 0;}#sk-container-id-4 div.sk-dashed-wrapped {border: 1px dashed gray;margin: 0 0.4em 0.5em 0.4em;box-sizing: border-box;padding-bottom: 0.4em;background-color: white;}#sk-container-id-4 div.sk-label label {font-family: monospace;font-weight: bold;display: inline-block;line-height: 1.2em;}#sk-container-id-4 div.sk-label-container {text-align: center;}#sk-container-id-4 div.sk-container {/* jupyter's `normalize.less` sets `[hidden] { display: none; }` but bootstrap.min.css set `[hidden] { display: none !important; }` so we also need the `!important` here to be able to override the default hidden behavior on the sphinx rendered scikit-learn.org. See: https://github.com/scikit-learn/scikit-learn/issues/21755 */display: inline-block !important;position: relative;}#sk-container-id-4 div.sk-text-repr-fallback {display: none;}</style><div id=\"sk-container-id-4\" class=\"sk-top-container\"><div class=\"sk-text-repr-fallback\"><pre>RandomForestClassifier(max_depth=10, random_state=42)</pre><b>In a Jupyter environment, please rerun this cell to show the HTML representation or trust the notebook. <br />On GitHub, the HTML representation is unable to render, please try loading this page with nbviewer.org.</b></div><div class=\"sk-container\" hidden><div class=\"sk-item\"><div class=\"sk-estimator sk-toggleable\"><input class=\"sk-toggleable__control sk-hidden--visually\" id=\"sk-estimator-id-4\" type=\"checkbox\" checked><label for=\"sk-estimator-id-4\" class=\"sk-toggleable__label sk-toggleable__label-arrow\">RandomForestClassifier</label><div class=\"sk-toggleable__content\"><pre>RandomForestClassifier(max_depth=10, random_state=42)</pre></div></div></div></div></div>"
      ],
      "text/plain": [
       "RandomForestClassifier(max_depth=10, random_state=42)"
      ]
     },
     "execution_count": 136,
     "metadata": {},
     "output_type": "execute_result"
    }
   ],
   "source": [
    "# Step 8: Train Random Forest model\n",
    "rf_model = RandomForestClassifier(n_estimators=100, max_depth=10, random_state=42)\n",
    "rf_model.fit(X_train, y_train)"
   ]
  },
  {
   "cell_type": "code",
   "execution_count": 0,
   "metadata": {
    "application/vnd.databricks.v1+cell": {
     "cellMetadata": {
      "byteLimit": 2048000,
      "rowLimit": 10000
     },
     "inputWidgets": {},
     "nuid": "b3eeae8c-3925-4444-8bf6-faa2811d632e",
     "showTitle": false,
     "tableResultSettingsMap": {},
     "title": ""
    }
   },
   "outputs": [
    {
     "output_type": "stream",
     "name": "stdout",
     "output_type": "stream",
     "text": [
      "Confusion Matrix:\n[[ 260    0 1717  750]\n [  29    0 1112  119]\n [  61    0 3815  272]\n [  60    0  250 1555]]\n\nClassification Report:\n              precision    recall  f1-score   support\n\n           0       0.63      0.10      0.17      2727\n           1       0.00      0.00      0.00      1260\n           2       0.55      0.92      0.69      4148\n           3       0.58      0.83      0.68      1865\n\n    accuracy                           0.56     10000\n   macro avg       0.44      0.46      0.38     10000\nweighted avg       0.51      0.56      0.46     10000\n\n"
     ]
    },
    {
     "output_type": "stream",
     "name": "stderr",
     "output_type": "stream",
     "text": [
      "/databricks/python/lib/python3.11/site-packages/sklearn/metrics/_classification.py:1469: UndefinedMetricWarning: Precision and F-score are ill-defined and being set to 0.0 in labels with no predicted samples. Use `zero_division` parameter to control this behavior.\n  _warn_prf(average, modifier, msg_start, len(result))\n/databricks/python/lib/python3.11/site-packages/sklearn/metrics/_classification.py:1469: UndefinedMetricWarning: Precision and F-score are ill-defined and being set to 0.0 in labels with no predicted samples. Use `zero_division` parameter to control this behavior.\n  _warn_prf(average, modifier, msg_start, len(result))\n/databricks/python/lib/python3.11/site-packages/sklearn/metrics/_classification.py:1469: UndefinedMetricWarning: Precision and F-score are ill-defined and being set to 0.0 in labels with no predicted samples. Use `zero_division` parameter to control this behavior.\n  _warn_prf(average, modifier, msg_start, len(result))\n"
     ]
    }
   ],
   "source": [
    "# Step 9: Evaluate model performance\n",
    "y_pred = rf_model.predict(X_test)\n",
    "\n",
    "print(\"Confusion Matrix:\")\n",
    "print(confusion_matrix(y_test, y_pred))\n",
    "\n",
    "print(\"\\nClassification Report:\")\n",
    "print(classification_report(y_test, y_pred))"
   ]
  },
  {
   "cell_type": "code",
   "execution_count": 0,
   "metadata": {
    "application/vnd.databricks.v1+cell": {
     "cellMetadata": {
      "byteLimit": 2048000,
      "rowLimit": 10000
     },
     "inputWidgets": {},
     "nuid": "6175613c-8133-4d6d-9d1f-464e312b5bb4",
     "showTitle": false,
     "tableResultSettingsMap": {},
     "title": ""
    }
   },
   "outputs": [
    {
     "output_type": "display_data",
     "data": {
      "image/png": "[encoded data removed]",
      "text/plain": [
       "<Figure size 600x500 with 2 Axes>"
      ]
     },
     "metadata": {},
     "output_type": "display_data"
    }
   ],
   "source": [
    "from sklearn.metrics import confusion_matrix\n",
    "import seaborn as sns\n",
    "import matplotlib.pyplot as plt\n",
    "\n",
    "# Compute confusion matrix\n",
    "cm = confusion_matrix(y_test, y_pred)\n",
    "\n",
    "# Plot the heatmap\n",
    "plt.figure(figsize=(6, 5))\n",
    "sns.heatmap(cm, annot=True, fmt='d', cmap='Blues', xticklabels=[0, 1, 2, 3], yticklabels=[0, 1, 2, 3])\n",
    "plt.xlabel(\"Predicted Tip Level\")\n",
    "plt.ylabel(\"Actual Tip Level\")\n",
    "plt.title(\"Confusion Matrix: Actual vs. Predicted Tip Level\")\n",
    "plt.tight_layout()\n",
    "plt.show()\n",
    "\n",
    "\n"
   ]
  },
  {
   "cell_type": "markdown",
   "metadata": {
    "application/vnd.databricks.v1+cell": {
     "cellMetadata": {
      "byteLimit": 2048000,
      "rowLimit": 10000
     },
     "inputWidgets": {},
     "nuid": "8e9c5a7d-da07-4eca-9192-79a090b35aa1",
     "showTitle": false,
     "tableResultSettingsMap": {},
     "title": ""
    }
   },
   "source": [
    "2. XGBoost - Predicting Fare Amount"
   ]
  },
  {
   "cell_type": "code",
   "execution_count": 0,
   "metadata": {
    "application/vnd.databricks.v1+cell": {
     "cellMetadata": {
      "byteLimit": 2048000,
      "rowLimit": 10000
     },
     "inputWidgets": {},
     "nuid": "647a7a54-a850-440d-94cf-0537766762fa",
     "showTitle": false,
     "tableResultSettingsMap": {},
     "title": ""
    }
   },
   "outputs": [
    {
     "output_type": "stream",
     "name": "stdout",
     "output_type": "stream",
     "text": [
      "root\n |-- VendorID: integer (nullable = true)\n |-- passenger_count: long (nullable = true)\n |-- trip_distance: double (nullable = true)\n |-- payment_type: long (nullable = true)\n |-- fare_amount: double (nullable = true)\n |-- tip_amount: double (nullable = true)\n |-- tolls_amount: double (nullable = true)\n |-- total_amount: double (nullable = true)\n |-- pickup_hour: integer (nullable = true)\n |-- congestion_surcharge: double (nullable = true)\n |-- trip_duration_minutes: double (nullable = true)\n |-- PULocationID: integer (nullable = true)\n |-- DOLocationID: integer (nullable = true)\n\n"
     ]
    }
   ],
   "source": [
    "# Display the schema of all columns in the DataFrame\n",
    "df_transformed.printSchema()\n"
   ]
  },
  {
   "cell_type": "code",
   "execution_count": 0,
   "metadata": {
    "application/vnd.databricks.v1+cell": {
     "cellMetadata": {
      "byteLimit": 2048000,
      "rowLimit": 10000
     },
     "inputWidgets": {},
     "nuid": "25241895-ce2e-4595-a059-3448fd2137f9",
     "showTitle": false,
     "tableResultSettingsMap": {},
     "title": ""
    }
   },
   "outputs": [],
   "source": [
    "df_pandas = df_transformed.limit(50000).toPandas()  # Reduce to 50K rows\n"
   ]
  },
  {
   "cell_type": "code",
   "execution_count": 0,
   "metadata": {
    "application/vnd.databricks.v1+cell": {
     "cellMetadata": {
      "byteLimit": 2048000,
      "rowLimit": 10000
     },
     "inputWidgets": {},
     "nuid": "d48995bf-3026-420e-9833-63cd796f8253",
     "showTitle": false,
     "tableResultSettingsMap": {},
     "title": ""
    }
   },
   "outputs": [],
   "source": [
    "df_pandas = df_pandas.dropna()\n",
    "features = [\n",
    "    'trip_distance', 'passenger_count', 'pickup_hour', 'congestion_surcharge',\n",
    "    'trip_duration_minutes', 'VendorID', 'PULocationID', 'DOLocationID'\n",
    "]\n",
    "X = df_pandas[features]\n",
    "y = df_pandas['fare_amount']\n"
   ]
  },
  {
   "cell_type": "code",
   "execution_count": 0,
   "metadata": {
    "application/vnd.databricks.v1+cell": {
     "cellMetadata": {
      "byteLimit": 2048000,
      "rowLimit": 10000
     },
     "inputWidgets": {},
     "nuid": "342cda43-ad24-438a-8c59-f6d0fa508fd6",
     "showTitle": false,
     "tableResultSettingsMap": {},
     "title": ""
    }
   },
   "outputs": [],
   "source": [
    "from sklearn.model_selection import train_test_split\n",
    "\n",
    "# 80/20 train-test split\n",
    "X_train, X_test, y_train, y_test = train_test_split(\n",
    "    X, y, test_size=0.2, random_state=42\n",
    ")\n"
   ]
  },
  {
   "cell_type": "code",
   "execution_count": 0,
   "metadata": {
    "application/vnd.databricks.v1+cell": {
     "cellMetadata": {
      "byteLimit": 2048000,
      "rowLimit": 10000
     },
     "inputWidgets": {},
     "nuid": "462474e5-dec0-4058-8731-624cb66c8563",
     "showTitle": false,
     "tableResultSettingsMap": {},
     "title": ""
    }
   },
   "outputs": [
    {
     "output_type": "stream",
     "name": "stdout",
     "output_type": "stream",
     "text": [
      "Requirement already satisfied: xgboost in /local_disk0/.ephemeral_nfs/envs/pythonEnv-c5ae4499-7215-49ac-bee7-c51bcaf3003c/lib/python3.11/site-packages (3.0.0)\nRequirement already satisfied: numpy in /databricks/python3/lib/python3.11/site-packages (from xgboost) (1.23.5)\nRequirement already satisfied: nvidia-nccl-cu12 in /local_disk0/.ephemeral_nfs/envs/pythonEnv-c5ae4499-7215-49ac-bee7-c51bcaf3003c/lib/python3.11/site-packages (from xgboost) (2.26.2.post1)\nRequirement already satisfied: scipy in /databricks/python3/lib/python3.11/site-packages (from xgboost) (1.11.1)\n\u001B[43mNote: you may need to restart the kernel using %restart_python or dbutils.library.restartPython() to use updated packages.\u001B[0m\n"
     ]
    }
   ],
   "source": [
    "# Install XGBoost (only run once)\n",
    "!pip install xgboost --upgrade\n",
    "\n",
    "# Imports\n",
    "from xgboost import XGBRegressor\n",
    "from sklearn.metrics import mean_squared_error, r2_score\n",
    "import numpy as np\n"
   ]
  },
  {
   "cell_type": "code",
   "execution_count": 0,
   "metadata": {
    "application/vnd.databricks.v1+cell": {
     "cellMetadata": {
      "byteLimit": 2048000,
      "rowLimit": 10000
     },
     "inputWidgets": {},
     "nuid": "ff8dcc88-47a1-45c5-a954-c84ea618a36b",
     "showTitle": false,
     "tableResultSettingsMap": {},
     "title": ""
    }
   },
   "outputs": [
    {
     "output_type": "execute_result",
     "data": {
      "text/html": [
       "<style>#sk-container-id-1 {color: black;}#sk-container-id-1 pre{padding: 0;}#sk-container-id-1 div.sk-toggleable {background-color: white;}#sk-container-id-1 label.sk-toggleable__label {cursor: pointer;display: block;width: 100%;margin-bottom: 0;padding: 0.3em;box-sizing: border-box;text-align: center;}#sk-container-id-1 label.sk-toggleable__label-arrow:before {content: \"▸\";float: left;margin-right: 0.25em;color: #696969;}#sk-container-id-1 label.sk-toggleable__label-arrow:hover:before {color: black;}#sk-container-id-1 div.sk-estimator:hover label.sk-toggleable__label-arrow:before {color: black;}#sk-container-id-1 div.sk-toggleable__content {max-height: 0;max-width: 0;overflow: hidden;text-align: left;background-color: #f0f8ff;}#sk-container-id-1 div.sk-toggleable__content pre {margin: 0.2em;color: black;border-radius: 0.25em;background-color: #f0f8ff;}#sk-container-id-1 input.sk-toggleable__control:checked~div.sk-toggleable__content {max-height: 200px;max-width: 100%;overflow: auto;}#sk-container-id-1 input.sk-toggleable__control:checked~label.sk-toggleable__label-arrow:before {content: \"▾\";}#sk-container-id-1 div.sk-estimator input.sk-toggleable__control:checked~label.sk-toggleable__label {background-color: #d4ebff;}#sk-container-id-1 div.sk-label input.sk-toggleable__control:checked~label.sk-toggleable__label {background-color: #d4ebff;}#sk-container-id-1 input.sk-hidden--visually {border: 0;clip: rect(1px 1px 1px 1px);clip: rect(1px, 1px, 1px, 1px);height: 1px;margin: -1px;overflow: hidden;padding: 0;position: absolute;width: 1px;}#sk-container-id-1 div.sk-estimator {font-family: monospace;background-color: #f0f8ff;border: 1px dotted black;border-radius: 0.25em;box-sizing: border-box;margin-bottom: 0.5em;}#sk-container-id-1 div.sk-estimator:hover {background-color: #d4ebff;}#sk-container-id-1 div.sk-parallel-item::after {content: \"\";width: 100%;border-bottom: 1px solid gray;flex-grow: 1;}#sk-container-id-1 div.sk-label:hover label.sk-toggleable__label {background-color: #d4ebff;}#sk-container-id-1 div.sk-serial::before {content: \"\";position: absolute;border-left: 1px solid gray;box-sizing: border-box;top: 0;bottom: 0;left: 50%;z-index: 0;}#sk-container-id-1 div.sk-serial {display: flex;flex-direction: column;align-items: center;background-color: white;padding-right: 0.2em;padding-left: 0.2em;position: relative;}#sk-container-id-1 div.sk-item {position: relative;z-index: 1;}#sk-container-id-1 div.sk-parallel {display: flex;align-items: stretch;justify-content: center;background-color: white;position: relative;}#sk-container-id-1 div.sk-item::before, #sk-container-id-1 div.sk-parallel-item::before {content: \"\";position: absolute;border-left: 1px solid gray;box-sizing: border-box;top: 0;bottom: 0;left: 50%;z-index: -1;}#sk-container-id-1 div.sk-parallel-item {display: flex;flex-direction: column;z-index: 1;position: relative;background-color: white;}#sk-container-id-1 div.sk-parallel-item:first-child::after {align-self: flex-end;width: 50%;}#sk-container-id-1 div.sk-parallel-item:last-child::after {align-self: flex-start;width: 50%;}#sk-container-id-1 div.sk-parallel-item:only-child::after {width: 0;}#sk-container-id-1 div.sk-dashed-wrapped {border: 1px dashed gray;margin: 0 0.4em 0.5em 0.4em;box-sizing: border-box;padding-bottom: 0.4em;background-color: white;}#sk-container-id-1 div.sk-label label {font-family: monospace;font-weight: bold;display: inline-block;line-height: 1.2em;}#sk-container-id-1 div.sk-label-container {text-align: center;}#sk-container-id-1 div.sk-container {/* jupyter's `normalize.less` sets `[hidden] { display: none; }` but bootstrap.min.css set `[hidden] { display: none !important; }` so we also need the `!important` here to be able to override the default hidden behavior on the sphinx rendered scikit-learn.org. See: https://github.com/scikit-learn/scikit-learn/issues/21755 */display: inline-block !important;position: relative;}#sk-container-id-1 div.sk-text-repr-fallback {display: none;}</style><div id=\"sk-container-id-1\" class=\"sk-top-container\"><div class=\"sk-text-repr-fallback\"><pre>XGBRegressor(base_score=None, booster=None, callbacks=None,\n",
       "             colsample_bylevel=None, colsample_bynode=None,\n",
       "             colsample_bytree=None, device=None, early_stopping_rounds=None,\n",
       "             enable_categorical=False, eval_metric=None, feature_types=None,\n",
       "             feature_weights=None, gamma=None, grow_policy=None,\n",
       "             importance_type=None, interaction_constraints=None,\n",
       "             learning_rate=0.1, max_bin=None, max_cat_threshold=None,\n",
       "             max_cat_to_onehot=None, max_delta_step=None, max_depth=6,\n",
       "             max_leaves=None, min_child_weight=None, missing=nan,\n",
       "             monotone_constraints=None, multi_strategy=None, n_estimators=100,\n",
       "             n_jobs=None, num_parallel_tree=None, ...)</pre><b>In a Jupyter environment, please rerun this cell to show the HTML representation or trust the notebook. <br />On GitHub, the HTML representation is unable to render, please try loading this page with nbviewer.org.</b></div><div class=\"sk-container\" hidden><div class=\"sk-item\"><div class=\"sk-estimator sk-toggleable\"><input class=\"sk-toggleable__control sk-hidden--visually\" id=\"sk-estimator-id-1\" type=\"checkbox\" checked><label for=\"sk-estimator-id-1\" class=\"sk-toggleable__label sk-toggleable__label-arrow\">XGBRegressor</label><div class=\"sk-toggleable__content\"><pre>XGBRegressor(base_score=None, booster=None, callbacks=None,\n",
       "             colsample_bylevel=None, colsample_bynode=None,\n",
       "             colsample_bytree=None, device=None, early_stopping_rounds=None,\n",
       "             enable_categorical=False, eval_metric=None, feature_types=None,\n",
       "             feature_weights=None, gamma=None, grow_policy=None,\n",
       "             importance_type=None, interaction_constraints=None,\n",
       "             learning_rate=0.1, max_bin=None, max_cat_threshold=None,\n",
       "             max_cat_to_onehot=None, max_delta_step=None, max_depth=6,\n",
       "             max_leaves=None, min_child_weight=None, missing=nan,\n",
       "             monotone_constraints=None, multi_strategy=None, n_estimators=100,\n",
       "             n_jobs=None, num_parallel_tree=None, ...)</pre></div></div></div></div></div>"
      ],
      "text/plain": [
       "XGBRegressor(base_score=None, booster=None, callbacks=None,\n",
       "             colsample_bylevel=None, colsample_bynode=None,\n",
       "             colsample_bytree=None, device=None, early_stopping_rounds=None,\n",
       "             enable_categorical=False, eval_metric=None, feature_types=None,\n",
       "             feature_weights=None, gamma=None, grow_policy=None,\n",
       "             importance_type=None, interaction_constraints=None,\n",
       "             learning_rate=0.1, max_bin=None, max_cat_threshold=None,\n",
       "             max_cat_to_onehot=None, max_delta_step=None, max_depth=6,\n",
       "             max_leaves=None, min_child_weight=None, missing=nan,\n",
       "             monotone_constraints=None, multi_strategy=None, n_estimators=100,\n",
       "             n_jobs=None, num_parallel_tree=None, ...)"
      ]
     },
     "execution_count": 25,
     "metadata": {},
     "output_type": "execute_result"
    }
   ],
   "source": [
    "# Initialize and fit the model\n",
    "xgb_model = XGBRegressor(\n",
    "    objective='reg:squarederror',\n",
    "    n_estimators=100,\n",
    "    learning_rate=0.1,\n",
    "    max_depth=6,\n",
    "    random_state=42\n",
    ")\n",
    "\n",
    "xgb_model.fit(X_train, y_train)\n"
   ]
  },
  {
   "cell_type": "code",
   "execution_count": 0,
   "metadata": {
    "application/vnd.databricks.v1+cell": {
     "cellMetadata": {
      "byteLimit": 2048000,
      "rowLimit": 10000
     },
     "inputWidgets": {},
     "nuid": "f255e79d-b850-43fa-ac0b-ce7fa5aa2bc0",
     "showTitle": false,
     "tableResultSettingsMap": {},
     "title": ""
    }
   },
   "outputs": [
    {
     "output_type": "stream",
     "name": "stdout",
     "output_type": "stream",
     "text": [
      "Root Mean Squared Error (RMSE): 5.29\nR-squared (R²): 0.92\n"
     ]
    }
   ],
   "source": [
    "# Predict\n",
    "y_pred = xgb_model.predict(X_test)\n",
    "\n",
    "# Evaluation metrics\n",
    "rmse = np.sqrt(mean_squared_error(y_test, y_pred))\n",
    "r2 = r2_score(y_test, y_pred)\n",
    "\n",
    "print(f\"Root Mean Squared Error (RMSE): {rmse:.2f}\")\n",
    "print(f\"R-squared (R²): {r2:.2f}\")\n"
   ]
  },
  {
   "cell_type": "code",
   "execution_count": 0,
   "metadata": {
    "application/vnd.databricks.v1+cell": {
     "cellMetadata": {
      "byteLimit": 2048000,
      "rowLimit": 10000
     },
     "inputWidgets": {},
     "nuid": "9ffba721-c12b-44e6-8a81-93eefd67aa24",
     "showTitle": false,
     "tableResultSettingsMap": {},
     "title": ""
    }
   },
   "outputs": [
    {
     "output_type": "display_data",
     "data": {
      "image/png": "[encoded data removed]",
      "text/plain": [
       "<Figure size 800x600 with 1 Axes>"
      ]
     },
     "metadata": {},
     "output_type": "display_data"
    }
   ],
   "source": [
    "import matplotlib.pyplot as plt\n",
    "\n",
    "plt.figure(figsize=(8, 6))\n",
    "plt.scatter(y_test[:100], y_pred[:100], alpha=0.6, label=\"Prediction\")\n",
    "plt.plot([y_test.min(), y_test.max()], [y_test.min(), y_test.max()], color='red', label='Ideal')\n",
    "plt.xlabel(\"Actual Fare\")\n",
    "plt.ylabel(\"Predicted Fare\")\n",
    "plt.title(\"Actual vs Predicted Fare Amount (XGBoost)\")\n",
    "plt.legend()\n",
    "plt.grid()\n",
    "plt.show()\n"
   ]
  },
  {
   "cell_type": "code",
   "execution_count": 0,
   "metadata": {
    "application/vnd.databricks.v1+cell": {
     "cellMetadata": {
      "byteLimit": 2048000,
      "rowLimit": 10000
     },
     "inputWidgets": {},
     "nuid": "2526acde-99c2-47b1-bc2a-3b2a91e76a1b",
     "showTitle": false,
     "tableResultSettingsMap": {},
     "title": ""
    }
   },
   "outputs": [],
   "source": [
    "features = [\n",
    "    'trip_distance', 'passenger_count', 'pickup_hour',\n",
    "    'congestion_surcharge', 'trip_duration_minutes',\n",
    "    'VendorID', 'PULocationID', 'DOLocationID'\n",
    "]\n",
    "\n",
    "X = df_pandas[features]\n",
    "y = df_pandas['fare_amount']\n"
   ]
  },
  {
   "cell_type": "code",
   "execution_count": 0,
   "metadata": {
    "application/vnd.databricks.v1+cell": {
     "cellMetadata": {
      "byteLimit": 2048000,
      "rowLimit": 10000
     },
     "inputWidgets": {},
     "nuid": "b8949585-3233-4ad0-a7a3-69da4c502ba0",
     "showTitle": false,
     "tableResultSettingsMap": {},
     "title": ""
    }
   },
   "outputs": [],
   "source": [
    "import pandas as pd"
   ]
  },
  {
   "cell_type": "code",
   "execution_count": 0,
   "metadata": {
    "application/vnd.databricks.v1+cell": {
     "cellMetadata": {
      "byteLimit": 2048000,
      "rowLimit": 10000
     },
     "inputWidgets": {},
     "nuid": "421620ba-4a54-4c6d-bd07-f8d7c7923982",
     "showTitle": false,
     "tableResultSettingsMap": {},
     "title": ""
    }
   },
   "outputs": [],
   "source": [
    "categorical_cols = ['VendorID', 'PULocationID', 'DOLocationID']\n",
    "\n",
    "# One-hot encode the categorical features\n",
    "X_encoded = pd.get_dummies(X, columns=categorical_cols, drop_first=True)\n"
   ]
  },
  {
   "cell_type": "code",
   "execution_count": 0,
   "metadata": {
    "application/vnd.databricks.v1+cell": {
     "cellMetadata": {
      "byteLimit": 2048000,
      "rowLimit": 10000
     },
     "inputWidgets": {},
     "nuid": "2475bd02-8178-425b-9a35-da679ddb64b8",
     "showTitle": false,
     "tableResultSettingsMap": {},
     "title": ""
    }
   },
   "outputs": [],
   "source": [
    "categorical_cols = ['VendorID', 'PULocationID', 'DOLocationID']\n",
    "\n",
    "# One-hot encode the categorical features\n",
    "X_encoded = pd.get_dummies(X, columns=categorical_cols, drop_first=True)\n"
   ]
  },
  {
   "cell_type": "code",
   "execution_count": 0,
   "metadata": {
    "application/vnd.databricks.v1+cell": {
     "cellMetadata": {
      "byteLimit": 2048000,
      "rowLimit": 10000
     },
     "inputWidgets": {},
     "nuid": "f34e614d-f4ae-44f8-bc7b-869b494dd670",
     "showTitle": false,
     "tableResultSettingsMap": {},
     "title": ""
    }
   },
   "outputs": [],
   "source": [
    "from sklearn.model_selection import train_test_split\n",
    "\n",
    "X_train, X_test, y_train, y_test = train_test_split(\n",
    "    X_encoded, y, test_size=0.2, random_state=42\n",
    ")\n"
   ]
  },
  {
   "cell_type": "code",
   "execution_count": 0,
   "metadata": {
    "application/vnd.databricks.v1+cell": {
     "cellMetadata": {
      "byteLimit": 2048000,
      "rowLimit": 10000
     },
     "inputWidgets": {},
     "nuid": "410cf590-d967-4a5a-b49b-1f186c205938",
     "showTitle": false,
     "tableResultSettingsMap": {},
     "title": ""
    }
   },
   "outputs": [
    {
     "output_type": "execute_result",
     "data": {
      "text/html": [
       "<style>#sk-container-id-2 {color: black;}#sk-container-id-2 pre{padding: 0;}#sk-container-id-2 div.sk-toggleable {background-color: white;}#sk-container-id-2 label.sk-toggleable__label {cursor: pointer;display: block;width: 100%;margin-bottom: 0;padding: 0.3em;box-sizing: border-box;text-align: center;}#sk-container-id-2 label.sk-toggleable__label-arrow:before {content: \"▸\";float: left;margin-right: 0.25em;color: #696969;}#sk-container-id-2 label.sk-toggleable__label-arrow:hover:before {color: black;}#sk-container-id-2 div.sk-estimator:hover label.sk-toggleable__label-arrow:before {color: black;}#sk-container-id-2 div.sk-toggleable__content {max-height: 0;max-width: 0;overflow: hidden;text-align: left;background-color: #f0f8ff;}#sk-container-id-2 div.sk-toggleable__content pre {margin: 0.2em;color: black;border-radius: 0.25em;background-color: #f0f8ff;}#sk-container-id-2 input.sk-toggleable__control:checked~div.sk-toggleable__content {max-height: 200px;max-width: 100%;overflow: auto;}#sk-container-id-2 input.sk-toggleable__control:checked~label.sk-toggleable__label-arrow:before {content: \"▾\";}#sk-container-id-2 div.sk-estimator input.sk-toggleable__control:checked~label.sk-toggleable__label {background-color: #d4ebff;}#sk-container-id-2 div.sk-label input.sk-toggleable__control:checked~label.sk-toggleable__label {background-color: #d4ebff;}#sk-container-id-2 input.sk-hidden--visually {border: 0;clip: rect(1px 1px 1px 1px);clip: rect(1px, 1px, 1px, 1px);height: 1px;margin: -1px;overflow: hidden;padding: 0;position: absolute;width: 1px;}#sk-container-id-2 div.sk-estimator {font-family: monospace;background-color: #f0f8ff;border: 1px dotted black;border-radius: 0.25em;box-sizing: border-box;margin-bottom: 0.5em;}#sk-container-id-2 div.sk-estimator:hover {background-color: #d4ebff;}#sk-container-id-2 div.sk-parallel-item::after {content: \"\";width: 100%;border-bottom: 1px solid gray;flex-grow: 1;}#sk-container-id-2 div.sk-label:hover label.sk-toggleable__label {background-color: #d4ebff;}#sk-container-id-2 div.sk-serial::before {content: \"\";position: absolute;border-left: 1px solid gray;box-sizing: border-box;top: 0;bottom: 0;left: 50%;z-index: 0;}#sk-container-id-2 div.sk-serial {display: flex;flex-direction: column;align-items: center;background-color: white;padding-right: 0.2em;padding-left: 0.2em;position: relative;}#sk-container-id-2 div.sk-item {position: relative;z-index: 1;}#sk-container-id-2 div.sk-parallel {display: flex;align-items: stretch;justify-content: center;background-color: white;position: relative;}#sk-container-id-2 div.sk-item::before, #sk-container-id-2 div.sk-parallel-item::before {content: \"\";position: absolute;border-left: 1px solid gray;box-sizing: border-box;top: 0;bottom: 0;left: 50%;z-index: -1;}#sk-container-id-2 div.sk-parallel-item {display: flex;flex-direction: column;z-index: 1;position: relative;background-color: white;}#sk-container-id-2 div.sk-parallel-item:first-child::after {align-self: flex-end;width: 50%;}#sk-container-id-2 div.sk-parallel-item:last-child::after {align-self: flex-start;width: 50%;}#sk-container-id-2 div.sk-parallel-item:only-child::after {width: 0;}#sk-container-id-2 div.sk-dashed-wrapped {border: 1px dashed gray;margin: 0 0.4em 0.5em 0.4em;box-sizing: border-box;padding-bottom: 0.4em;background-color: white;}#sk-container-id-2 div.sk-label label {font-family: monospace;font-weight: bold;display: inline-block;line-height: 1.2em;}#sk-container-id-2 div.sk-label-container {text-align: center;}#sk-container-id-2 div.sk-container {/* jupyter's `normalize.less` sets `[hidden] { display: none; }` but bootstrap.min.css set `[hidden] { display: none !important; }` so we also need the `!important` here to be able to override the default hidden behavior on the sphinx rendered scikit-learn.org. See: https://github.com/scikit-learn/scikit-learn/issues/21755 */display: inline-block !important;position: relative;}#sk-container-id-2 div.sk-text-repr-fallback {display: none;}</style><div id=\"sk-container-id-2\" class=\"sk-top-container\"><div class=\"sk-text-repr-fallback\"><pre>XGBRegressor(base_score=None, booster=None, callbacks=None,\n",
       "             colsample_bylevel=None, colsample_bynode=None,\n",
       "             colsample_bytree=None, device=None, early_stopping_rounds=None,\n",
       "             enable_categorical=False, eval_metric=None, feature_types=None,\n",
       "             feature_weights=None, gamma=None, grow_policy=None,\n",
       "             importance_type=None, interaction_constraints=None,\n",
       "             learning_rate=0.1, max_bin=None, max_cat_threshold=None,\n",
       "             max_cat_to_onehot=None, max_delta_step=None, max_depth=6,\n",
       "             max_leaves=None, min_child_weight=None, missing=nan,\n",
       "             monotone_constraints=None, multi_strategy=None, n_estimators=100,\n",
       "             n_jobs=None, num_parallel_tree=None, ...)</pre><b>In a Jupyter environment, please rerun this cell to show the HTML representation or trust the notebook. <br />On GitHub, the HTML representation is unable to render, please try loading this page with nbviewer.org.</b></div><div class=\"sk-container\" hidden><div class=\"sk-item\"><div class=\"sk-estimator sk-toggleable\"><input class=\"sk-toggleable__control sk-hidden--visually\" id=\"sk-estimator-id-2\" type=\"checkbox\" checked><label for=\"sk-estimator-id-2\" class=\"sk-toggleable__label sk-toggleable__label-arrow\">XGBRegressor</label><div class=\"sk-toggleable__content\"><pre>XGBRegressor(base_score=None, booster=None, callbacks=None,\n",
       "             colsample_bylevel=None, colsample_bynode=None,\n",
       "             colsample_bytree=None, device=None, early_stopping_rounds=None,\n",
       "             enable_categorical=False, eval_metric=None, feature_types=None,\n",
       "             feature_weights=None, gamma=None, grow_policy=None,\n",
       "             importance_type=None, interaction_constraints=None,\n",
       "             learning_rate=0.1, max_bin=None, max_cat_threshold=None,\n",
       "             max_cat_to_onehot=None, max_delta_step=None, max_depth=6,\n",
       "             max_leaves=None, min_child_weight=None, missing=nan,\n",
       "             monotone_constraints=None, multi_strategy=None, n_estimators=100,\n",
       "             n_jobs=None, num_parallel_tree=None, ...)</pre></div></div></div></div></div>"
      ],
      "text/plain": [
       "XGBRegressor(base_score=None, booster=None, callbacks=None,\n",
       "             colsample_bylevel=None, colsample_bynode=None,\n",
       "             colsample_bytree=None, device=None, early_stopping_rounds=None,\n",
       "             enable_categorical=False, eval_metric=None, feature_types=None,\n",
       "             feature_weights=None, gamma=None, grow_policy=None,\n",
       "             importance_type=None, interaction_constraints=None,\n",
       "             learning_rate=0.1, max_bin=None, max_cat_threshold=None,\n",
       "             max_cat_to_onehot=None, max_delta_step=None, max_depth=6,\n",
       "             max_leaves=None, min_child_weight=None, missing=nan,\n",
       "             monotone_constraints=None, multi_strategy=None, n_estimators=100,\n",
       "             n_jobs=None, num_parallel_tree=None, ...)"
      ]
     },
     "execution_count": 33,
     "metadata": {},
     "output_type": "execute_result"
    }
   ],
   "source": [
    "from xgboost import XGBRegressor\n",
    "from sklearn.metrics import mean_squared_error, r2_score\n",
    "import numpy as np\n",
    "\n",
    "xgb_model = XGBRegressor(\n",
    "    objective='reg:squarederror',\n",
    "    n_estimators=100,\n",
    "    learning_rate=0.1,\n",
    "    max_depth=6,\n",
    "    random_state=42\n",
    ")\n",
    "\n",
    "xgb_model.fit(X_train, y_train)\n"
   ]
  },
  {
   "cell_type": "code",
   "execution_count": 0,
   "metadata": {
    "application/vnd.databricks.v1+cell": {
     "cellMetadata": {
      "byteLimit": 2048000,
      "rowLimit": 10000
     },
     "inputWidgets": {},
     "nuid": "fadea68a-31f7-4ae2-8ff6-cf4f4068e64d",
     "showTitle": false,
     "tableResultSettingsMap": {},
     "title": ""
    }
   },
   "outputs": [
    {
     "output_type": "stream",
     "name": "stdout",
     "output_type": "stream",
     "text": [
      "Root Mean Squared Error (RMSE): 5.33\nR-squared (R²): 0.92\n"
     ]
    }
   ],
   "source": [
    "y_pred = xgb_model.predict(X_test)\n",
    "\n",
    "rmse = np.sqrt(mean_squared_error(y_test, y_pred))\n",
    "r2 = r2_score(y_test, y_pred)\n",
    "\n",
    "print(f\"Root Mean Squared Error (RMSE): {rmse:.2f}\")\n",
    "print(f\"R-squared (R²): {r2:.2f}\")\n"
   ]
  },
  {
   "cell_type": "code",
   "execution_count": 0,
   "metadata": {
    "application/vnd.databricks.v1+cell": {
     "cellMetadata": {
      "byteLimit": 2048000,
      "rowLimit": 10000
     },
     "inputWidgets": {},
     "nuid": "a3b0273c-0d9d-4a60-87f3-66042c9d6b42",
     "showTitle": false,
     "tableResultSettingsMap": {},
     "title": ""
    }
   },
   "outputs": [
    {
     "output_type": "display_data",
     "data": {
      "image/png": "[encoded data removed]",
      "text/plain": [
       "<Figure size 800x600 with 1 Axes>"
      ]
     },
     "metadata": {},
     "output_type": "display_data"
    }
   ],
   "source": [
    "import matplotlib.pyplot as plt\n",
    "\n",
    "plt.figure(figsize=(8, 6))\n",
    "plt.scatter(y_test[:100], y_pred[:100], alpha=0.6, label='Prediction')\n",
    "plt.plot([y_test.min(), y_test.max()], [y_test.min(), y_test.max()], color='red', label='Ideal')\n",
    "plt.xlabel(\"Actual Fare\")\n",
    "plt.ylabel(\"Predicted Fare\")\n",
    "plt.title(\"XGBoost: Actual vs. Predicted Fare (With Encoded Categories)\")\n",
    "plt.legend()\n",
    "plt.grid(True)\n",
    "plt.show()\n"
   ]
  },
  {
   "cell_type": "markdown",
   "metadata": {
    "application/vnd.databricks.v1+cell": {
     "cellMetadata": {
      "byteLimit": 2048000,
      "rowLimit": 10000
     },
     "inputWidgets": {},
     "nuid": "0b249f68-a210-4610-9f9f-193c2204be9c",
     "showTitle": false,
     "tableResultSettingsMap": {},
     "title": ""
    }
   },
   "source": [
    "3. Pickup Location Clusters: K-Means ML Model"
   ]
  },
  {
   "cell_type": "code",
   "execution_count": 0,
   "metadata": {
    "application/vnd.databricks.v1+cell": {
     "cellMetadata": {
      "byteLimit": 2048000,
      "rowLimit": 10000
     },
     "inputWidgets": {},
     "nuid": "2d8533ff-dbe8-44e6-a785-3425e2bcc0e9",
     "showTitle": false,
     "tableResultSettingsMap": {},
     "title": ""
    }
   },
   "outputs": [],
   "source": [
    "from pyspark.ml.clustering import KMeans\n",
    "from pyspark.ml.feature import VectorAssembler\n",
    "from pyspark.sql.functions import col\n"
   ]
  },
  {
   "cell_type": "code",
   "execution_count": 0,
   "metadata": {
    "application/vnd.databricks.v1+cell": {
     "cellMetadata": {
      "byteLimit": 2048000,
      "rowLimit": 10000
     },
     "inputWidgets": {},
     "nuid": "ef809e8b-a5af-4a73-a09e-b070741c0416",
     "showTitle": false,
     "tableResultSettingsMap": {},
     "title": ""
    }
   },
   "outputs": [
    {
     "output_type": "execute_result",
     "data": {
      "text/plain": [
       "['VendorID',\n",
       " 'passenger_count',\n",
       " 'trip_distance',\n",
       " 'payment_type',\n",
       " 'fare_amount',\n",
       " 'tip_amount',\n",
       " 'tolls_amount',\n",
       " 'total_amount',\n",
       " 'pickup_hour',\n",
       " 'congestion_surcharge',\n",
       " 'trip_duration_minutes',\n",
       " 'PULocationID',\n",
       " 'DOLocationID']"
      ]
     },
     "execution_count": 62,
     "metadata": {},
     "output_type": "execute_result"
    }
   ],
   "source": [
    "df_transformed.columns\n"
   ]
  },
  {
   "cell_type": "code",
   "execution_count": 0,
   "metadata": {
    "application/vnd.databricks.v1+cell": {
     "cellMetadata": {
      "byteLimit": 2048000,
      "rowLimit": 10000
     },
     "inputWidgets": {},
     "nuid": "bd0b9e2e-9ee7-4229-8a17-bf89f0f1f616",
     "showTitle": false,
     "tableResultSettingsMap": {},
     "title": ""
    }
   },
   "outputs": [],
   "source": [
    "from pyspark.ml.clustering import KMeans\n",
    "from pyspark.ml.feature import VectorAssembler, StringIndexer, OneHotEncoder\n",
    "from pyspark.ml import Pipeline\n"
   ]
  },
  {
   "cell_type": "code",
   "execution_count": 0,
   "metadata": {
    "application/vnd.databricks.v1+cell": {
     "cellMetadata": {
      "byteLimit": 2048000,
      "rowLimit": 10000
     },
     "inputWidgets": {},
     "nuid": "a045f711-2b94-42dc-a844-ebd62bc33628",
     "showTitle": false,
     "tableResultSettingsMap": {},
     "title": ""
    }
   },
   "outputs": [],
   "source": [
    "features = [\n",
    "    'PULocationID',\n",
    "    'pickup_hour',\n",
    "    'passenger_count',\n",
    "    'trip_distance',\n",
    "    'fare_amount'\n",
    "]\n",
    "\n",
    "df_selected = df_transformed.select(features)\n"
   ]
  },
  {
   "cell_type": "code",
   "execution_count": 0,
   "metadata": {
    "application/vnd.databricks.v1+cell": {
     "cellMetadata": {
      "byteLimit": 2048000,
      "rowLimit": 10000
     },
     "inputWidgets": {},
     "nuid": "21572fb2-6d64-46a8-a27f-70696bf9da99",
     "showTitle": false,
     "tableResultSettingsMap": {},
     "title": ""
    }
   },
   "outputs": [],
   "source": [
    "# Index the PULocationID (categorical)\n",
    "indexer = StringIndexer(inputCol='PULocationID', outputCol='PULocationID_index')\n",
    "\n",
    "# One-hot encode the indexed column\n",
    "encoder = OneHotEncoder(inputCol='PULocationID_index', outputCol='PULocationID_encoded')\n"
   ]
  },
  {
   "cell_type": "code",
   "execution_count": 0,
   "metadata": {
    "application/vnd.databricks.v1+cell": {
     "cellMetadata": {
      "byteLimit": 2048000,
      "rowLimit": 10000
     },
     "inputWidgets": {},
     "nuid": "37f4c33b-9b7c-48fb-a398-0777ff0e27a4",
     "showTitle": false,
     "tableResultSettingsMap": {},
     "title": ""
    }
   },
   "outputs": [],
   "source": [
    "assembler = VectorAssembler(\n",
    "    inputCols=['PULocationID_encoded', 'pickup_hour', 'passenger_count', 'trip_distance', 'fare_amount'],\n",
    "    outputCol='features'\n",
    ")\n"
   ]
  },
  {
   "cell_type": "code",
   "execution_count": 0,
   "metadata": {
    "application/vnd.databricks.v1+cell": {
     "cellMetadata": {
      "byteLimit": 2048000,
      "rowLimit": 10000
     },
     "inputWidgets": {},
     "nuid": "a935eed1-21e4-475d-b4de-ec139ca76ed3",
     "showTitle": false,
     "tableResultSettingsMap": {},
     "title": ""
    }
   },
   "outputs": [],
   "source": [
    "kmeans = KMeans(featuresCol='features', predictionCol='cluster', k=5, seed=42)\n"
   ]
  },
  {
   "cell_type": "code",
   "execution_count": 0,
   "metadata": {
    "application/vnd.databricks.v1+cell": {
     "cellMetadata": {
      "byteLimit": 2048000,
      "rowLimit": 10000
     },
     "inputWidgets": {},
     "nuid": "5d590758-e565-41e9-b5d6-6b59942bbb86",
     "showTitle": false,
     "tableResultSettingsMap": {},
     "title": ""
    }
   },
   "outputs": [],
   "source": [
    "pipeline = Pipeline(stages=[indexer, encoder, assembler, kmeans])\n",
    "model = pipeline.fit(df_selected)\n",
    "df_clustered = model.transform(df_selected)\n"
   ]
  },
  {
   "cell_type": "code",
   "execution_count": 0,
   "metadata": {
    "application/vnd.databricks.v1+cell": {
     "cellMetadata": {
      "byteLimit": 2048000,
      "rowLimit": 10000
     },
     "inputWidgets": {},
     "nuid": "5200bb0c-b0fa-4405-8e25-5e8622454be0",
     "showTitle": false,
     "tableResultSettingsMap": {},
     "title": ""
    }
   },
   "outputs": [
    {
     "output_type": "stream",
     "name": "stdout",
     "output_type": "stream",
     "text": [
      "+------------+-----------+-------+\n|PULocationID|pickup_hour|cluster|\n+------------+-----------+-------+\n|         229|          0|      0|\n|         236|          0|      0|\n|         141|          0|      0|\n|         244|          0|      0|\n|         244|          0|      0|\n|         239|          0|      3|\n|         237|          0|      0|\n|         237|          0|      0|\n|         263|          0|      0|\n|         236|          0|      0|\n+------------+-----------+-------+\nonly showing top 10 rows\n\n"
     ]
    }
   ],
   "source": [
    "df_clustered.select(\"PULocationID\", \"pickup_hour\", \"cluster\").show(10)\n"
   ]
  },
  {
   "cell_type": "code",
   "execution_count": 0,
   "metadata": {
    "application/vnd.databricks.v1+cell": {
     "cellMetadata": {
      "byteLimit": 2048000,
      "rowLimit": 10000
     },
     "inputWidgets": {},
     "nuid": "ea636317-9250-4dda-b3ab-a4b86ba59a8c",
     "showTitle": false,
     "tableResultSettingsMap": {},
     "title": ""
    }
   },
   "outputs": [
    {
     "output_type": "stream",
     "name": "stdout",
     "output_type": "stream",
     "text": [
      "+------------------------------------------+\n|features                                  |\n+------------------------------------------+\n|(254,[24,251,252,253],[1.0,1.0,1.6,10.0]) |\n|(254,[2,251,252,253],[1.0,1.0,0.5,5.1])   |\n|(254,[15,251,252,253],[1.0,1.0,0.6,5.1])  |\n|(254,[61,251,252,253],[1.0,3.0,0.52,7.2]) |\n|(254,[61,251,252,253],[1.0,3.0,0.66,5.8]) |\n|(254,[10,251,252,253],[1.0,2.0,2.63,19.1])|\n|(254,[0,251,252,253],[1.0,1.0,1.71,11.4]) |\n|(254,[0,251,252,253],[1.0,1.0,2.29,11.4]) |\n|(254,[21,251,252,253],[1.0,1.0,0.56,5.8]) |\n|(254,[2,251,252,253],[1.0,3.0,1.99,14.2]) |\n|(254,[24,251,252,253],[1.0,1.0,1.1,7.9])  |\n|(254,[15,251,252,253],[1.0,1.0,3.2,26.1]) |\n|(254,[37,251,252,253],[1.0,3.0,2.5,17.7]) |\n|(254,[17,251,252,253],[1.0,1.0,1.9,16.3]) |\n|(254,[18,251,252,253],[1.0,1.0,0.71,7.2]) |\n|(254,[23,251,252,253],[1.0,2.0,1.2,15.6]) |\n|(254,[21,251,252,253],[1.0,2.0,3.45,17.7])|\n|(254,[23,251,252,253],[1.0,2.0,1.19,14.9])|\n|(254,[32,251,252,253],[1.0,1.0,0.69,6.5]) |\n|(254,[7,251,252,253],[1.0,1.0,1.0,7.2])   |\n+------------------------------------------+\nonly showing top 20 rows\n\n"
     ]
    }
   ],
   "source": [
    "df_features = pipeline.fit(df_selected).transform(df_selected)\n",
    "df_features.select(\"features\").show(truncate=False)\n"
   ]
  },
  {
   "cell_type": "code",
   "execution_count": 0,
   "metadata": {
    "application/vnd.databricks.v1+cell": {
     "cellMetadata": {
      "byteLimit": 2048000,
      "rowLimit": 10000
     },
     "inputWidgets": {},
     "nuid": "1ec9b086-28e8-47e0-9954-667f6726663e",
     "showTitle": false,
     "tableResultSettingsMap": {},
     "title": ""
    }
   },
   "outputs": [],
   "source": [
    "from pyspark.ml.feature import StandardScaler\n",
    "\n",
    "scaler = StandardScaler(inputCol=\"features\", outputCol=\"scaled_features\", withStd=True, withMean=False)\n"
   ]
  },
  {
   "cell_type": "code",
   "execution_count": 0,
   "metadata": {
    "application/vnd.databricks.v1+cell": {
     "cellMetadata": {
      "byteLimit": 2048000,
      "rowLimit": 10000
     },
     "inputWidgets": {},
     "nuid": "20970435-6359-4505-a7f0-b4c99e370abb",
     "showTitle": false,
     "tableResultSettingsMap": {},
     "title": ""
    }
   },
   "outputs": [],
   "source": [
    "kmeans = KMeans(featuresCol='scaled_features', predictionCol='cluster', k=5, seed=42)\n",
    "\n",
    "pipeline = Pipeline(stages=[indexer, encoder, assembler, scaler, kmeans])\n",
    "model = pipeline.fit(df_selected)\n",
    "df_clustered = model.transform(df_selected)\n"
   ]
  },
  {
   "cell_type": "code",
   "execution_count": 0,
   "metadata": {
    "application/vnd.databricks.v1+cell": {
     "cellMetadata": {
      "byteLimit": 2048000,
      "rowLimit": 10000
     },
     "inputWidgets": {},
     "nuid": "43d72545-950e-415a-bb43-8ece7a58fd12",
     "showTitle": false,
     "tableResultSettingsMap": {},
     "title": ""
    }
   },
   "outputs": [],
   "source": [
    "df_filtered = df_transformed.filter(\n",
    "    (df_transformed.passenger_count > 0) &\n",
    "    (df_transformed.trip_distance > 0) &\n",
    "    (df_transformed.fare_amount > 0)\n",
    ")\n"
   ]
  },
  {
   "cell_type": "code",
   "execution_count": 0,
   "metadata": {
    "application/vnd.databricks.v1+cell": {
     "cellMetadata": {
      "byteLimit": 2048000,
      "rowLimit": 10000
     },
     "inputWidgets": {},
     "nuid": "f0894b8e-50b8-44b1-9d3c-ec354ace8457",
     "showTitle": false,
     "tableResultSettingsMap": {},
     "title": ""
    }
   },
   "outputs": [],
   "source": [
    "from pyspark.ml.feature import VectorAssembler, StringIndexer, OneHotEncoder, StandardScaler\n",
    "from pyspark.ml import Pipeline\n",
    "from pyspark.ml.clustering import KMeans\n",
    "\n",
    "# Filter valid trips\n",
    "df_filtered = df_transformed.filter(\n",
    "    (df_transformed.trip_distance > 0) &\n",
    "    (df_transformed.fare_amount > 0)\n",
    ")\n",
    "\n",
    "# Select features for clustering\n",
    "features_to_use = [\"pickup_hour\", \"trip_distance\", \"fare_amount\", \"PULocationID\"]\n",
    "\n",
    "# Encode categorical\n",
    "indexer = StringIndexer(inputCol=\"PULocationID\", outputCol=\"PULocationID_index\")\n",
    "encoder = OneHotEncoder(inputCol=\"PULocationID_index\", outputCol=\"PULocationID_encoded\")\n",
    "\n",
    "# Assemble all features\n",
    "assembler = VectorAssembler(\n",
    "    inputCols=[\"pickup_hour\", \"trip_distance\", \"fare_amount\", \"PULocationID_encoded\"],\n",
    "    outputCol=\"assembled_features\"\n",
    ")\n",
    "\n",
    "# Scale\n",
    "scaler = StandardScaler(inputCol=\"assembled_features\", outputCol=\"scaled_features\")\n"
   ]
  },
  {
   "cell_type": "code",
   "execution_count": 0,
   "metadata": {
    "application/vnd.databricks.v1+cell": {
     "cellMetadata": {
      "byteLimit": 2048000,
      "rowLimit": 10000
     },
     "inputWidgets": {},
     "nuid": "4b879330-91db-4ee0-a90d-bb67401d75d2",
     "showTitle": false,
     "tableResultSettingsMap": {},
     "title": ""
    }
   },
   "outputs": [],
   "source": [
    "kmeans = KMeans(featuresCol=\"scaled_features\", predictionCol=\"cluster\", k=4, seed=1)\n",
    "\n",
    "# Full pipeline\n",
    "pipeline = Pipeline(stages=[indexer, encoder, assembler, scaler, kmeans])\n",
    "model = pipeline.fit(df_filtered)\n",
    "df_clustered = model.transform(df_filtered)\n"
   ]
  },
  {
   "cell_type": "code",
   "execution_count": 0,
   "metadata": {
    "application/vnd.databricks.v1+cell": {
     "cellMetadata": {
      "byteLimit": 2048000,
      "rowLimit": 10000
     },
     "inputWidgets": {},
     "nuid": "574a61b0-09d1-494a-93d4-585e4e962959",
     "showTitle": false,
     "tableResultSettingsMap": {},
     "title": ""
    }
   },
   "outputs": [
    {
     "output_type": "stream",
     "name": "stdout",
     "output_type": "stream",
     "text": [
      "+-------+-------+\n|cluster|  count|\n+-------+-------+\n|      0|2623378|\n|      2| 191365|\n|      1|    434|\n|      3|    277|\n+-------+-------+\n\n"
     ]
    }
   ],
   "source": [
    "df_clustered.groupBy(\"cluster\").count().orderBy(\"count\", ascending=False).show()\n"
   ]
  },
  {
   "cell_type": "code",
   "execution_count": 0,
   "metadata": {
    "application/vnd.databricks.v1+cell": {
     "cellMetadata": {
      "byteLimit": 2048000,
      "rowLimit": 10000
     },
     "inputWidgets": {},
     "nuid": "321ceb77-827b-4b81-8bc0-ddb239e16564",
     "showTitle": false,
     "tableResultSettingsMap": {},
     "title": ""
    }
   },
   "outputs": [],
   "source": [
    "from pyspark.ml.feature import VectorAssembler, StringIndexer, OneHotEncoder, StandardScaler\n",
    "from pyspark.ml import Pipeline\n",
    "from pyspark.ml.clustering import KMeans\n",
    "\n",
    "# Filter rows with valid values (optional but helps eliminate noise)\n",
    "df_filtered = df_transformed.filter(\n",
    "    (df_transformed.trip_distance > 0) &\n",
    "    (df_transformed.fare_amount > 0)\n",
    ")\n",
    "\n",
    "# Step 1: Feature transformation\n",
    "indexer = StringIndexer(inputCol=\"PULocationID\", outputCol=\"PULocationID_index\")\n",
    "encoder = OneHotEncoder(inputCol=\"PULocationID_index\", outputCol=\"PULocationID_encoded\")\n",
    "\n",
    "assembler = VectorAssembler(\n",
    "    inputCols=[\"pickup_hour\", \"trip_distance\", \"fare_amount\", \"PULocationID_encoded\"],\n",
    "    outputCol=\"assembled_features\"\n",
    ")\n",
    "\n",
    "scaler = StandardScaler(inputCol=\"assembled_features\", outputCol=\"scaled_features\")\n",
    "\n",
    "# Step 2: KMeans Model\n",
    "kmeans = KMeans(featuresCol=\"scaled_features\", predictionCol=\"cluster\", k=5, seed=42)\n",
    "\n",
    "# Step 3: Build pipeline and fit\n",
    "pipeline = Pipeline(stages=[indexer, encoder, assembler, scaler, kmeans])\n",
    "model = pipeline.fit(df_filtered)\n",
    "\n",
    "# Step 4: Apply to data\n",
    "df_clustered = model.transform(df_filtered)\n"
   ]
  },
  {
   "cell_type": "code",
   "execution_count": 0,
   "metadata": {
    "application/vnd.databricks.v1+cell": {
     "cellMetadata": {
      "byteLimit": 2048000,
      "rowLimit": 10000
     },
     "inputWidgets": {},
     "nuid": "a44c1209-4501-4403-94e5-7b814575bd5f",
     "showTitle": false,
     "tableResultSettingsMap": {},
     "title": ""
    }
   },
   "outputs": [
    {
     "output_type": "stream",
     "name": "stdout",
     "output_type": "stream",
     "text": [
      "+-------+-------+\n|cluster|  count|\n+-------+-------+\n|      0|2788662|\n|      1|  25567|\n|      2|    732|\n|      4|    263|\n|      3|    230|\n+-------+-------+\n\n"
     ]
    }
   ],
   "source": [
    "df_clustered.groupBy(\"cluster\").count().orderBy(\"count\", ascending=False).show()\n"
   ]
  },
  {
   "cell_type": "code",
   "execution_count": 0,
   "metadata": {
    "application/vnd.databricks.v1+cell": {
     "cellMetadata": {
      "byteLimit": 2048000,
      "rowLimit": 10000
     },
     "inputWidgets": {},
     "nuid": "6cb93fe0-435c-4ced-ba4b-9ec2d8745c90",
     "showTitle": false,
     "tableResultSettingsMap": {},
     "title": ""
    }
   },
   "outputs": [
    {
     "output_type": "display_data",
     "data": {
      "text/html": [
       "<style scoped>\n",
       "  .table-result-container {\n",
       "    max-height: 300px;\n",
       "    overflow: auto;\n",
       "  }\n",
       "  table, th, td {\n",
       "    border: 1px solid black;\n",
       "    border-collapse: collapse;\n",
       "  }\n",
       "  th, td {\n",
       "    padding: 5px;\n",
       "  }\n",
       "  th {\n",
       "    text-align: left;\n",
       "  }\n",
       "</style><div class='table-result-container'><table class='table-result'><thead style='background-color: white'><tr><th>pickup_hour</th><th>cluster</th><th>count</th></tr></thead><tbody><tr><td>0</td><td>0</td><td>62545</td></tr><tr><td>0</td><td>1</td><td>2529</td></tr><tr><td>0</td><td>2</td><td>2</td></tr><tr><td>0</td><td>3</td><td>3</td></tr><tr><td>1</td><td>0</td><td>41031</td></tr><tr><td>1</td><td>1</td><td>2625</td></tr><tr><td>1</td><td>2</td><td>1</td></tr><tr><td>1</td><td>3</td><td>1</td></tr><tr><td>1</td><td>4</td><td>1</td></tr><tr><td>2</td><td>0</td><td>27089</td></tr><tr><td>2</td><td>1</td><td>2341</td></tr><tr><td>3</td><td>0</td><td>17460</td></tr><tr><td>3</td><td>1</td><td>1667</td></tr><tr><td>3</td><td>2</td><td>2</td></tr><tr><td>3</td><td>3</td><td>3</td></tr><tr><td>3</td><td>4</td><td>2</td></tr><tr><td>4</td><td>0</td><td>11594</td></tr><tr><td>4</td><td>1</td><td>713</td></tr><tr><td>4</td><td>2</td><td>11</td></tr><tr><td>4</td><td>3</td><td>2</td></tr><tr><td>4</td><td>4</td><td>3</td></tr><tr><td>5</td><td>0</td><td>15178</td></tr><tr><td>5</td><td>1</td><td>125</td></tr><tr><td>5</td><td>2</td><td>37</td></tr><tr><td>5</td><td>3</td><td>8</td></tr><tr><td>5</td><td>4</td><td>20</td></tr><tr><td>6</td><td>0</td><td>34662</td></tr><tr><td>6</td><td>1</td><td>131</td></tr><tr><td>6</td><td>2</td><td>32</td></tr><tr><td>6</td><td>3</td><td>8</td></tr><tr><td>6</td><td>4</td><td>26</td></tr><tr><td>7</td><td>0</td><td>73773</td></tr><tr><td>7</td><td>1</td><td>224</td></tr><tr><td>7</td><td>2</td><td>76</td></tr><tr><td>7</td><td>3</td><td>21</td></tr><tr><td>7</td><td>4</td><td>32</td></tr><tr><td>8</td><td>0</td><td>105423</td></tr><tr><td>8</td><td>1</td><td>240</td></tr><tr><td>8</td><td>2</td><td>95</td></tr><tr><td>8</td><td>3</td><td>14</td></tr><tr><td>8</td><td>4</td><td>29</td></tr><tr><td>9</td><td>0</td><td>121682</td></tr><tr><td>9</td><td>1</td><td>359</td></tr><tr><td>9</td><td>2</td><td>88</td></tr><tr><td>9</td><td>3</td><td>29</td></tr><tr><td>9</td><td>4</td><td>25</td></tr><tr><td>10</td><td>0</td><td>133085</td></tr><tr><td>10</td><td>1</td><td>379</td></tr><tr><td>10</td><td>2</td><td>62</td></tr><tr><td>10</td><td>3</td><td>17</td></tr><tr><td>10</td><td>4</td><td>17</td></tr><tr><td>11</td><td>0</td><td>144004</td></tr><tr><td>11</td><td>1</td><td>438</td></tr><tr><td>11</td><td>2</td><td>67</td></tr><tr><td>11</td><td>3</td><td>17</td></tr><tr><td>11</td><td>4</td><td>18</td></tr><tr><td>12</td><td>0</td><td>156355</td></tr><tr><td>12</td><td>1</td><td>556</td></tr><tr><td>12</td><td>2</td><td>62</td></tr><tr><td>12</td><td>3</td><td>23</td></tr><tr><td>12</td><td>4</td><td>23</td></tr><tr><td>13</td><td>0</td><td>165081</td></tr><tr><td>13</td><td>1</td><td>698</td></tr><tr><td>13</td><td>2</td><td>64</td></tr><tr><td>13</td><td>3</td><td>4</td></tr><tr><td>13</td><td>4</td><td>12</td></tr><tr><td>14</td><td>0</td><td>177848</td></tr><tr><td>14</td><td>1</td><td>795</td></tr><tr><td>14</td><td>2</td><td>37</td></tr><tr><td>14</td><td>3</td><td>12</td></tr><tr><td>14</td><td>4</td><td>10</td></tr><tr><td>15</td><td>0</td><td>187213</td></tr><tr><td>15</td><td>1</td><td>846</td></tr><tr><td>15</td><td>2</td><td>25</td></tr><tr><td>15</td><td>3</td><td>7</td></tr><tr><td>15</td><td>4</td><td>17</td></tr><tr><td>16</td><td>0</td><td>189790</td></tr><tr><td>16</td><td>1</td><td>818</td></tr><tr><td>16</td><td>2</td><td>23</td></tr><tr><td>16</td><td>3</td><td>12</td></tr><tr><td>16</td><td>4</td><td>5</td></tr><tr><td>17</td><td>0</td><td>205988</td></tr><tr><td>17</td><td>1</td><td>848</td></tr><tr><td>17</td><td>2</td><td>13</td></tr><tr><td>17</td><td>3</td><td>20</td></tr><tr><td>17</td><td>4</td><td>4</td></tr><tr><td>18</td><td>0</td><td>204832</td></tr><tr><td>18</td><td>1</td><td>1057</td></tr><tr><td>18</td><td>2</td><td>11</td></tr><tr><td>18</td><td>3</td><td>5</td></tr><tr><td>18</td><td>4</td><td>3</td></tr><tr><td>19</td><td>0</td><td>173388</td></tr><tr><td>19</td><td>1</td><td>1167</td></tr><tr><td>19</td><td>2</td><td>10</td></tr><tr><td>19</td><td>3</td><td>3</td></tr><tr><td>19</td><td>4</td><td>5</td></tr><tr><td>20</td><td>0</td><td>156425</td></tr><tr><td>20</td><td>1</td><td>1408</td></tr><tr><td>20</td><td>2</td><td>6</td></tr><tr><td>20</td><td>3</td><td>4</td></tr><tr><td>20</td><td>4</td><td>6</td></tr><tr><td>21</td><td>0</td><td>159783</td></tr><tr><td>21</td><td>1</td><td>1645</td></tr><tr><td>21</td><td>2</td><td>3</td></tr><tr><td>21</td><td>3</td><td>12</td></tr><tr><td>21</td><td>4</td><td>3</td></tr><tr><td>22</td><td>0</td><td>132236</td></tr><tr><td>22</td><td>1</td><td>1858</td></tr><tr><td>22</td><td>2</td><td>3</td></tr><tr><td>22</td><td>3</td><td>2</td></tr><tr><td>23</td><td>0</td><td>92197</td></tr><tr><td>23</td><td>1</td><td>2100</td></tr><tr><td>23</td><td>2</td><td>2</td></tr><tr><td>23</td><td>3</td><td>3</td></tr><tr><td>23</td><td>4</td><td>2</td></tr></tbody></table></div>"
      ]
     },
     "metadata": {
      "application/vnd.databricks.v1+output": {
       "addedWidgets": {},
       "aggData": [],
       "aggError": "",
       "aggOverflow": false,
       "aggSchema": [],
       "aggSeriesLimitReached": false,
       "aggType": "",
       "arguments": {},
       "columnCustomDisplayInfos": {},
       "data": [
        [
         0,
         0,
         62545
        ],
        [
         0,
         1,
         2529
        ],
        [
         0,
         2,
         2
        ],
        [
         0,
         3,
         3
        ],
        [
         1,
         0,
         41031
        ],
        [
         1,
         1,
         2625
        ],
        [
         1,
         2,
         1
        ],
        [
         1,
         3,
         1
        ],
        [
         1,
         4,
         1
        ],
        [
         2,
         0,
         27089
        ],
        [
         2,
         1,
         2341
        ],
        [
         3,
         0,
         17460
        ],
        [
         3,
         1,
         1667
        ],
        [
         3,
         2,
         2
        ],
        [
         3,
         3,
         3
        ],
        [
         3,
         4,
         2
        ],
        [
         4,
         0,
         11594
        ],
        [
         4,
         1,
         713
        ],
        [
         4,
         2,
         11
        ],
        [
         4,
         3,
         2
        ],
        [
         4,
         4,
         3
        ],
        [
         5,
         0,
         15178
        ],
        [
         5,
         1,
         125
        ],
        [
         5,
         2,
         37
        ],
        [
         5,
         3,
         8
        ],
        [
         5,
         4,
         20
        ],
        [
         6,
         0,
         34662
        ],
        [
         6,
         1,
         131
        ],
        [
         6,
         2,
         32
        ],
        [
         6,
         3,
         8
        ],
        [
         6,
         4,
         26
        ],
        [
         7,
         0,
         73773
        ],
        [
         7,
         1,
         224
        ],
        [
         7,
         2,
         76
        ],
        [
         7,
         3,
         21
        ],
        [
         7,
         4,
         32
        ],
        [
         8,
         0,
         105423
        ],
        [
         8,
         1,
         240
        ],
        [
         8,
         2,
         95
        ],
        [
         8,
         3,
         14
        ],
        [
         8,
         4,
         29
        ],
        [
         9,
         0,
         121682
        ],
        [
         9,
         1,
         359
        ],
        [
         9,
         2,
         88
        ],
        [
         9,
         3,
         29
        ],
        [
         9,
         4,
         25
        ],
        [
         10,
         0,
         133085
        ],
        [
         10,
         1,
         379
        ],
        [
         10,
         2,
         62
        ],
        [
         10,
         3,
         17
        ],
        [
         10,
         4,
         17
        ],
        [
         11,
         0,
         144004
        ],
        [
         11,
         1,
         438
        ],
        [
         11,
         2,
         67
        ],
        [
         11,
         3,
         17
        ],
        [
         11,
         4,
         18
        ],
        [
         12,
         0,
         156355
        ],
        [
         12,
         1,
         556
        ],
        [
         12,
         2,
         62
        ],
        [
         12,
         3,
         23
        ],
        [
         12,
         4,
         23
        ],
        [
         13,
         0,
         165081
        ],
        [
         13,
         1,
         698
        ],
        [
         13,
         2,
         64
        ],
        [
         13,
         3,
         4
        ],
        [
         13,
         4,
         12
        ],
        [
         14,
         0,
         177848
        ],
        [
         14,
         1,
         795
        ],
        [
         14,
         2,
         37
        ],
        [
         14,
         3,
         12
        ],
        [
         14,
         4,
         10
        ],
        [
         15,
         0,
         187213
        ],
        [
         15,
         1,
         846
        ],
        [
         15,
         2,
         25
        ],
        [
         15,
         3,
         7
        ],
        [
         15,
         4,
         17
        ],
        [
         16,
         0,
         189790
        ],
        [
         16,
         1,
         818
        ],
        [
         16,
         2,
         23
        ],
        [
         16,
         3,
         12
        ],
        [
         16,
         4,
         5
        ],
        [
         17,
         0,
         205988
        ],
        [
         17,
         1,
         848
        ],
        [
         17,
         2,
         13
        ],
        [
         17,
         3,
         20
        ],
        [
         17,
         4,
         4
        ],
        [
         18,
         0,
         204832
        ],
        [
         18,
         1,
         1057
        ],
        [
         18,
         2,
         11
        ],
        [
         18,
         3,
         5
        ],
        [
         18,
         4,
         3
        ],
        [
         19,
         0,
         173388
        ],
        [
         19,
         1,
         1167
        ],
        [
         19,
         2,
         10
        ],
        [
         19,
         3,
         3
        ],
        [
         19,
         4,
         5
        ],
        [
         20,
         0,
         156425
        ],
        [
         20,
         1,
         1408
        ],
        [
         20,
         2,
         6
        ],
        [
         20,
         3,
         4
        ],
        [
         20,
         4,
         6
        ],
        [
         21,
         0,
         159783
        ],
        [
         21,
         1,
         1645
        ],
        [
         21,
         2,
         3
        ],
        [
         21,
         3,
         12
        ],
        [
         21,
         4,
         3
        ],
        [
         22,
         0,
         132236
        ],
        [
         22,
         1,
         1858
        ],
        [
         22,
         2,
         3
        ],
        [
         22,
         3,
         2
        ],
        [
         23,
         0,
         92197
        ],
        [
         23,
         1,
         2100
        ],
        [
         23,
         2,
         2
        ],
        [
         23,
         3,
         3
        ],
        [
         23,
         4,
         2
        ]
       ],
       "datasetInfos": [],
       "dbfsResultPath": null,
       "isJsonSchema": true,
       "metadata": {},
       "overflow": false,
       "plotOptions": {
        "customPlotOptions": {},
        "displayType": "table",
        "pivotAggregation": null,
        "pivotColumns": null,
        "xColumns": null,
        "yColumns": null
       },
       "removedWidgets": [],
       "schema": [
        {
         "metadata": "{}",
         "name": "pickup_hour",
         "type": "\"integer\""
        },
        {
         "metadata": "{\"ml_attr\":{\"type\":\"nominal\",\"num_vals\":5}}",
         "name": "cluster",
         "type": "\"integer\""
        },
        {
         "metadata": "{}",
         "name": "count",
         "type": "\"long\""
        }
       ],
       "type": "table"
      }
     },
     "output_type": "display_data"
    }
   ],
   "source": [
    "display(\n",
    "  df_clustered.groupBy(\"pickup_hour\", \"cluster\")\n",
    "  .count()\n",
    "  .orderBy(\"pickup_hour\", \"cluster\")\n",
    ")\n"
   ]
  },
  {
   "cell_type": "markdown",
   "metadata": {
    "application/vnd.databricks.v1+cell": {
     "cellMetadata": {
      "byteLimit": 2048000,
      "rowLimit": 10000
     },
     "inputWidgets": {},
     "nuid": "a7cc17c4-f921-4738-8fe6-ba32fd886e33",
     "showTitle": false,
     "tableResultSettingsMap": {},
     "title": ""
    }
   },
   "source": [
    "4. Trip Duration Prediction - Linear Regression "
   ]
  },
  {
   "cell_type": "code",
   "execution_count": 0,
   "metadata": {
    "application/vnd.databricks.v1+cell": {
     "cellMetadata": {
      "byteLimit": 2048000,
      "rowLimit": 10000
     },
     "inputWidgets": {},
     "nuid": "cca65d5e-bd9b-4795-91aa-3d11ae78008c",
     "showTitle": false,
     "tableResultSettingsMap": {},
     "title": ""
    }
   },
   "outputs": [],
   "source": [
    "import pandas as pd\n",
    "import numpy as np\n",
    "import matplotlib.pyplot as plt\n",
    "import seaborn as sns\n",
    "\n",
    "from sklearn.model_selection import train_test_split\n",
    "from sklearn.linear_model import LinearRegression\n",
    "from sklearn.metrics import mean_squared_error, mean_absolute_error, r2_score\n"
   ]
  },
  {
   "cell_type": "code",
   "execution_count": 0,
   "metadata": {
    "application/vnd.databricks.v1+cell": {
     "cellMetadata": {
      "byteLimit": 2048000,
      "rowLimit": 10000
     },
     "inputWidgets": {},
     "nuid": "9035a4d4-82d0-4366-b11f-a59b0b31e44a",
     "showTitle": false,
     "tableResultSettingsMap": {},
     "title": ""
    }
   },
   "outputs": [],
   "source": [
    "# If pickup_datetime still exists and you need hour/dayofweek features\n",
    "if 'pickup_datetime' in df.columns:\n",
    "    df['pickup_datetime'] = pd.to_datetime(df['pickup_datetime'])\n",
    "    df['pickup_hour'] = df['pickup_datetime'].dt.hour\n",
    "    df['pickup_dayofweek'] = df['pickup_datetime'].dt.dayofweek\n",
    "\n",
    "# Drop datetime columns that are no longer needed\n",
    "if 'pickup_datetime' in df.columns:\n",
    "    df = df.drop(['pickup_datetime'], axis=1)\n",
    "\n",
    "if 'dropoff_datetime' in df.columns:\n",
    "    df = df.drop(['dropoff_datetime'], axis=1)\n",
    "\n",
    "# Drop missing values (if any)\n",
    "df = df.dropna()\n"
   ]
  },
  {
   "cell_type": "code",
   "execution_count": 0,
   "metadata": {
    "application/vnd.databricks.v1+cell": {
     "cellMetadata": {
      "byteLimit": 2048000,
      "rowLimit": 10000
     },
     "inputWidgets": {},
     "nuid": "08207f7e-667f-45c6-971f-53c1b2735fc4",
     "showTitle": false,
     "tableResultSettingsMap": {},
     "title": ""
    }
   },
   "outputs": [],
   "source": [
    "# Convert timestamps\n",
    "df = df.withColumn(\"pickup_datetime\", df[\"tpep_pickup_datetime\"].cast(\"timestamp\"))\n",
    "df = df.withColumn(\"dropoff_datetime\", df[\"tpep_dropoff_datetime\"].cast(\"timestamp\"))\n",
    "\n",
    "# Create trip_duration in minutes\n",
    "from pyspark.sql.functions import (unix_timestamp, col)\n",
    "\n",
    "df = df.withColumn(\n",
    "    \"trip_duration\",\n",
    "    (unix_timestamp(\"dropoff_datetime\") - unix_timestamp(\"pickup_datetime\")) / 60\n",
    ")\n",
    "\n",
    "# Drop the old pickup/dropoff columns if needed\n",
    "df = df.drop('tpep_pickup_datetime', 'tpep_dropoff_datetime')\n"
   ]
  },
  {
   "cell_type": "code",
   "execution_count": 0,
   "metadata": {
    "application/vnd.databricks.v1+cell": {
     "cellMetadata": {
      "byteLimit": 2048000,
      "rowLimit": 10000
     },
     "inputWidgets": {},
     "nuid": "cae5baaf-78d1-406b-9bff-390d59adc70e",
     "showTitle": false,
     "tableResultSettingsMap": {},
     "title": ""
    }
   },
   "outputs": [],
   "source": [
    "# Convert to pandas\n",
    "df_pd = df.toPandas()\n",
    "\n",
    "# Define target\n",
    "y = df_pd['trip_duration']\n",
    "\n",
    "# Define features\n",
    "X = df_pd.drop('trip_duration', axis=1)\n",
    "\n",
    "# Continue with train/test split, model training, etc.\n"
   ]
  },
  {
   "cell_type": "code",
   "execution_count": 0,
   "metadata": {
    "application/vnd.databricks.v1+cell": {
     "cellMetadata": {
      "byteLimit": 2048000,
      "rowLimit": 10000
     },
     "inputWidgets": {},
     "nuid": "3a378a72-7ba2-415d-90e6-7c767a3573e6",
     "showTitle": false,
     "tableResultSettingsMap": {},
     "title": ""
    }
   },
   "outputs": [],
   "source": [
    "from sklearn.model_selection import train_test_split\n",
    "\n",
    "# Split into 80% training and 20% testing\n",
    "X_train, X_test, y_train, y_test = train_test_split(\n",
    "    X, y, test_size=0.2, random_state=42\n",
    ")\n"
   ]
  },
  {
   "cell_type": "code",
   "execution_count": 0,
   "metadata": {
    "application/vnd.databricks.v1+cell": {
     "cellMetadata": {
      "byteLimit": 2048000,
      "rowLimit": 10000
     },
     "inputWidgets": {},
     "nuid": "9a736c5a-5e2d-4dc5-9f0a-cd857d2bf2bc",
     "showTitle": false,
     "tableResultSettingsMap": {},
     "title": ""
    }
   },
   "outputs": [
    {
     "output_type": "execute_result",
     "data": {
      "text/plain": [
       "VendorID                          int32\n",
       "passenger_count                   int64\n",
       "trip_distance                   float64\n",
       "RatecodeID                        int64\n",
       "store_and_fwd_flag               object\n",
       "PULocationID                      int32\n",
       "DOLocationID                      int32\n",
       "payment_type                      int64\n",
       "fare_amount                     float64\n",
       "extra                           float64\n",
       "mta_tax                         float64\n",
       "tip_amount                      float64\n",
       "tolls_amount                    float64\n",
       "improvement_surcharge           float64\n",
       "total_amount                    float64\n",
       "congestion_surcharge            float64\n",
       "Airport_fee                     float64\n",
       "pickup_datetime          datetime64[ns]\n",
       "dropoff_datetime         datetime64[ns]\n",
       "dtype: object"
      ]
     },
     "execution_count": 85,
     "metadata": {},
     "output_type": "execute_result"
    }
   ],
   "source": [
    "X_train.dtypes\n"
   ]
  },
  {
   "cell_type": "code",
   "execution_count": 0,
   "metadata": {
    "application/vnd.databricks.v1+cell": {
     "cellMetadata": {
      "byteLimit": 2048000,
      "rowLimit": 10000
     },
     "inputWidgets": {},
     "nuid": "df76be70-adc9-4b2f-8268-580071a36fd0",
     "showTitle": false,
     "tableResultSettingsMap": {},
     "title": ""
    }
   },
   "outputs": [
    {
     "output_type": "display_data",
     "data": {
      "text/plain": [
       "\u001B[0;31m---------------------------------------------------------------------------\u001B[0m\n",
       "\u001B[0;31mValueError\u001B[0m                                Traceback (most recent call last)\n",
       "\u001B[0;32m~/.ipykernel/45114/command-2477570942175043-2740647214\u001B[0m in \u001B[0;36m?\u001B[0;34m()\u001B[0m\n",
       "\u001B[1;32m      3\u001B[0m \u001B[0;31m# Create the Linear Regression model\u001B[0m\u001B[0;34m\u001B[0m\u001B[0;34m\u001B[0m\u001B[0m\n",
       "\u001B[1;32m      4\u001B[0m \u001B[0mlr_model\u001B[0m \u001B[0;34m=\u001B[0m \u001B[0mLinearRegression\u001B[0m\u001B[0;34m(\u001B[0m\u001B[0;34m)\u001B[0m\u001B[0;34m\u001B[0m\u001B[0;34m\u001B[0m\u001B[0m\n",
       "\u001B[1;32m      5\u001B[0m \u001B[0;34m\u001B[0m\u001B[0m\n",
       "\u001B[1;32m      6\u001B[0m \u001B[0;31m# Train the model\u001B[0m\u001B[0;34m\u001B[0m\u001B[0;34m\u001B[0m\u001B[0m\n",
       "\u001B[0;32m----> 7\u001B[0;31m \u001B[0mlr_model\u001B[0m\u001B[0;34m.\u001B[0m\u001B[0mfit\u001B[0m\u001B[0;34m(\u001B[0m\u001B[0mX_train\u001B[0m\u001B[0;34m,\u001B[0m \u001B[0my_train\u001B[0m\u001B[0;34m)\u001B[0m\u001B[0;34m\u001B[0m\u001B[0;34m\u001B[0m\u001B[0m\n",
       "\u001B[0m\n",
       "\u001B[0;32m/databricks/python/lib/python3.11/site-packages/mlflow/utils/autologging_utils/safety.py\u001B[0m in \u001B[0;36m?\u001B[0;34m(*args, **kwargs)\u001B[0m\n",
       "\u001B[1;32m    593\u001B[0m                     \u001B[0;31m# Exceptions thrown during execution of the original function should be\u001B[0m\u001B[0;34m\u001B[0m\u001B[0;34m\u001B[0m\u001B[0m\n",
       "\u001B[1;32m    594\u001B[0m                     \u001B[0;31m# propagated to the caller. Additionally, exceptions encountered during test\u001B[0m\u001B[0;34m\u001B[0m\u001B[0;34m\u001B[0m\u001B[0m\n",
       "\u001B[1;32m    595\u001B[0m                     \u001B[0;31m# mode should be reraised to detect bugs in autologging implementations\u001B[0m\u001B[0;34m\u001B[0m\u001B[0;34m\u001B[0m\u001B[0m\n",
       "\u001B[1;32m    596\u001B[0m                     \u001B[0;32mif\u001B[0m \u001B[0mfailed_during_original\u001B[0m \u001B[0;32mor\u001B[0m \u001B[0mis_testing\u001B[0m\u001B[0;34m(\u001B[0m\u001B[0;34m)\u001B[0m\u001B[0;34m:\u001B[0m\u001B[0;34m\u001B[0m\u001B[0;34m\u001B[0m\u001B[0m\n",
       "\u001B[0;32m--> 597\u001B[0;31m                         \u001B[0;32mraise\u001B[0m\u001B[0;34m\u001B[0m\u001B[0;34m\u001B[0m\u001B[0m\n",
       "\u001B[0m\u001B[1;32m    598\u001B[0m \u001B[0;34m\u001B[0m\u001B[0m\n",
       "\u001B[1;32m    599\u001B[0m                 \u001B[0;32mif\u001B[0m \u001B[0mis_testing\u001B[0m\u001B[0;34m(\u001B[0m\u001B[0;34m)\u001B[0m \u001B[0;32mand\u001B[0m \u001B[0;32mnot\u001B[0m \u001B[0mpreexisting_run_for_testing\u001B[0m\u001B[0;34m:\u001B[0m\u001B[0;34m\u001B[0m\u001B[0;34m\u001B[0m\u001B[0m\n",
       "\u001B[1;32m    600\u001B[0m                     \u001B[0;31m# If an MLflow run was created during the execution of patch code, verify that\u001B[0m\u001B[0;34m\u001B[0m\u001B[0;34m\u001B[0m\u001B[0m\n",
       "\n",
       "\u001B[0;32m/databricks/python/lib/python3.11/site-packages/mlflow/utils/autologging_utils/safety.py\u001B[0m in \u001B[0;36m?\u001B[0;34m(original, *args, **kwargs)\u001B[0m\n",
       "\u001B[1;32m    254\u001B[0m                 \u001B[0;31m# that runs are terminated if a user prematurely interrupts training execution\u001B[0m\u001B[0;34m\u001B[0m\u001B[0;34m\u001B[0m\u001B[0m\n",
       "\u001B[1;32m    255\u001B[0m                 \u001B[0;31m# (e.g. via sigint / ctrl-c)\u001B[0m\u001B[0;34m\u001B[0m\u001B[0;34m\u001B[0m\u001B[0m\n",
       "\u001B[1;32m    256\u001B[0m                 \u001B[0;32mif\u001B[0m \u001B[0mmanaged_run\u001B[0m\u001B[0;34m:\u001B[0m\u001B[0;34m\u001B[0m\u001B[0;34m\u001B[0m\u001B[0m\n",
       "\u001B[1;32m    257\u001B[0m                     \u001B[0mmlflow\u001B[0m\u001B[0;34m.\u001B[0m\u001B[0mend_run\u001B[0m\u001B[0;34m(\u001B[0m\u001B[0mRunStatus\u001B[0m\u001B[0;34m.\u001B[0m\u001B[0mto_string\u001B[0m\u001B[0;34m(\u001B[0m\u001B[0mRunStatus\u001B[0m\u001B[0;34m.\u001B[0m\u001B[0mFAILED\u001B[0m\u001B[0;34m)\u001B[0m\u001B[0;34m)\u001B[0m\u001B[0;34m\u001B[0m\u001B[0;34m\u001B[0m\u001B[0m\n",
       "\u001B[0;32m--> 258\u001B[0;31m                 \u001B[0;32mraise\u001B[0m\u001B[0;34m\u001B[0m\u001B[0;34m\u001B[0m\u001B[0m\n",
       "\u001B[0m\u001B[1;32m    259\u001B[0m             \u001B[0;32melse\u001B[0m\u001B[0;34m:\u001B[0m\u001B[0;34m\u001B[0m\u001B[0;34m\u001B[0m\u001B[0m\n",
       "\u001B[1;32m    260\u001B[0m                 \u001B[0;32mif\u001B[0m \u001B[0mmanaged_run\u001B[0m\u001B[0;34m:\u001B[0m\u001B[0;34m\u001B[0m\u001B[0;34m\u001B[0m\u001B[0m\n",
       "\u001B[1;32m    261\u001B[0m                     \u001B[0mmlflow\u001B[0m\u001B[0;34m.\u001B[0m\u001B[0mend_run\u001B[0m\u001B[0;34m(\u001B[0m\u001B[0mRunStatus\u001B[0m\u001B[0;34m.\u001B[0m\u001B[0mto_string\u001B[0m\u001B[0;34m(\u001B[0m\u001B[0mRunStatus\u001B[0m\u001B[0;34m.\u001B[0m\u001B[0mFINISHED\u001B[0m\u001B[0;34m)\u001B[0m\u001B[0;34m)\u001B[0m\u001B[0;34m\u001B[0m\u001B[0;34m\u001B[0m\u001B[0m\n",
       "\n",
       "\u001B[0;32m/databricks/python/lib/python3.11/site-packages/mlflow/sklearn/__init__.py\u001B[0m in \u001B[0;36m?\u001B[0;34m(fit_impl, allow_children_patch, original, self, *args, **kwargs)\u001B[0m\n",
       "\u001B[1;32m   1648\u001B[0m             \u001B[0;32mif\u001B[0m \u001B[0mt\u001B[0m\u001B[0;34m.\u001B[0m\u001B[0mshould_log\u001B[0m\u001B[0;34m(\u001B[0m\u001B[0;34m)\u001B[0m\u001B[0;34m:\u001B[0m\u001B[0;34m\u001B[0m\u001B[0;34m\u001B[0m\u001B[0m\n",
       "\u001B[1;32m   1649\u001B[0m                 \u001B[0;31m# In `fit_mlflow` call, it will also call metric API for computing training metrics\u001B[0m\u001B[0;34m\u001B[0m\u001B[0;34m\u001B[0m\u001B[0m\n",
       "\u001B[1;32m   1650\u001B[0m                 \u001B[0;31m# so we need temporarily disable the post_training_metrics patching.\u001B[0m\u001B[0;34m\u001B[0m\u001B[0;34m\u001B[0m\u001B[0m\n",
       "\u001B[1;32m   1651\u001B[0m                 \u001B[0;32mwith\u001B[0m \u001B[0m_AUTOLOGGING_METRICS_MANAGER\u001B[0m\u001B[0;34m.\u001B[0m\u001B[0mdisable_log_post_training_metrics\u001B[0m\u001B[0;34m(\u001B[0m\u001B[0;34m)\u001B[0m\u001B[0;34m:\u001B[0m\u001B[0;34m\u001B[0m\u001B[0;34m\u001B[0m\u001B[0m\n",
       "\u001B[0;32m-> 1652\u001B[0;31m                     \u001B[0mresult\u001B[0m \u001B[0;34m=\u001B[0m \u001B[0mfit_impl\u001B[0m\u001B[0;34m(\u001B[0m\u001B[0moriginal\u001B[0m\u001B[0;34m,\u001B[0m \u001B[0mself\u001B[0m\u001B[0;34m,\u001B[0m \u001B[0;34m*\u001B[0m\u001B[0margs\u001B[0m\u001B[0;34m,\u001B[0m \u001B[0;34m**\u001B[0m\u001B[0mkwargs\u001B[0m\u001B[0;34m)\u001B[0m\u001B[0;34m\u001B[0m\u001B[0;34m\u001B[0m\u001B[0m\n",
       "\u001B[0m\u001B[1;32m   1653\u001B[0m                 \u001B[0;32mif\u001B[0m \u001B[0mshould_log_post_training_metrics\u001B[0m\u001B[0;34m:\u001B[0m\u001B[0;34m\u001B[0m\u001B[0;34m\u001B[0m\u001B[0m\n",
       "\u001B[1;32m   1654\u001B[0m                     _AUTOLOGGING_METRICS_MANAGER.register_model(\n",
       "\u001B[1;32m   1655\u001B[0m                         \u001B[0mself\u001B[0m\u001B[0;34m,\u001B[0m \u001B[0mmlflow\u001B[0m\u001B[0;34m.\u001B[0m\u001B[0mactive_run\u001B[0m\u001B[0;34m(\u001B[0m\u001B[0;34m)\u001B[0m\u001B[0;34m.\u001B[0m\u001B[0minfo\u001B[0m\u001B[0;34m.\u001B[0m\u001B[0mrun_id\u001B[0m\u001B[0;34m\u001B[0m\u001B[0;34m\u001B[0m\u001B[0m\n",
       "\n",
       "\u001B[0;32m/databricks/python/lib/python3.11/site-packages/mlflow/sklearn/__init__.py\u001B[0m in \u001B[0;36m?\u001B[0;34m(original, self, *args, **kwargs)\u001B[0m\n",
       "\u001B[1;32m   1423\u001B[0m         \u001B[0;34m(\u001B[0m\u001B[0mX\u001B[0m\u001B[0;34m,\u001B[0m \u001B[0my_true\u001B[0m\u001B[0;34m,\u001B[0m \u001B[0msample_weight\u001B[0m\u001B[0;34m)\u001B[0m \u001B[0;34m=\u001B[0m \u001B[0m_get_X_y_and_sample_weight\u001B[0m\u001B[0;34m(\u001B[0m\u001B[0mself\u001B[0m\u001B[0;34m.\u001B[0m\u001B[0mfit\u001B[0m\u001B[0;34m,\u001B[0m \u001B[0margs\u001B[0m\u001B[0;34m,\u001B[0m \u001B[0mkwargs\u001B[0m\u001B[0;34m)\u001B[0m\u001B[0;34m\u001B[0m\u001B[0;34m\u001B[0m\u001B[0m\n",
       "\u001B[1;32m   1424\u001B[0m         \u001B[0mautologging_client\u001B[0m \u001B[0;34m=\u001B[0m \u001B[0mMlflowAutologgingQueueingClient\u001B[0m\u001B[0;34m(\u001B[0m\u001B[0;34m)\u001B[0m\u001B[0;34m\u001B[0m\u001B[0;34m\u001B[0m\u001B[0m\n",
       "\u001B[1;32m   1425\u001B[0m         \u001B[0m_log_pretraining_metadata\u001B[0m\u001B[0;34m(\u001B[0m\u001B[0mautologging_client\u001B[0m\u001B[0;34m,\u001B[0m \u001B[0mself\u001B[0m\u001B[0;34m,\u001B[0m \u001B[0mX\u001B[0m\u001B[0;34m,\u001B[0m \u001B[0my_true\u001B[0m\u001B[0;34m)\u001B[0m\u001B[0;34m\u001B[0m\u001B[0;34m\u001B[0m\u001B[0m\n",
       "\u001B[1;32m   1426\u001B[0m         \u001B[0mparams_logging_future\u001B[0m \u001B[0;34m=\u001B[0m \u001B[0mautologging_client\u001B[0m\u001B[0;34m.\u001B[0m\u001B[0mflush\u001B[0m\u001B[0;34m(\u001B[0m\u001B[0msynchronous\u001B[0m\u001B[0;34m=\u001B[0m\u001B[0;32mFalse\u001B[0m\u001B[0;34m)\u001B[0m\u001B[0;34m\u001B[0m\u001B[0;34m\u001B[0m\u001B[0m\n",
       "\u001B[0;32m-> 1427\u001B[0;31m         \u001B[0mfit_output\u001B[0m \u001B[0;34m=\u001B[0m \u001B[0moriginal\u001B[0m\u001B[0;34m(\u001B[0m\u001B[0mself\u001B[0m\u001B[0;34m,\u001B[0m \u001B[0;34m*\u001B[0m\u001B[0margs\u001B[0m\u001B[0;34m,\u001B[0m \u001B[0;34m**\u001B[0m\u001B[0mkwargs\u001B[0m\u001B[0;34m)\u001B[0m\u001B[0;34m\u001B[0m\u001B[0;34m\u001B[0m\u001B[0m\n",
       "\u001B[0m\u001B[1;32m   1428\u001B[0m         \u001B[0m_log_posttraining_metadata\u001B[0m\u001B[0;34m(\u001B[0m\u001B[0mautologging_client\u001B[0m\u001B[0;34m,\u001B[0m \u001B[0mself\u001B[0m\u001B[0;34m,\u001B[0m \u001B[0mX\u001B[0m\u001B[0;34m,\u001B[0m \u001B[0my_true\u001B[0m\u001B[0;34m,\u001B[0m \u001B[0msample_weight\u001B[0m\u001B[0;34m)\u001B[0m\u001B[0;34m\u001B[0m\u001B[0;34m\u001B[0m\u001B[0m\n",
       "\u001B[1;32m   1429\u001B[0m         \u001B[0mautologging_client\u001B[0m\u001B[0;34m.\u001B[0m\u001B[0mflush\u001B[0m\u001B[0;34m(\u001B[0m\u001B[0msynchronous\u001B[0m\u001B[0;34m=\u001B[0m\u001B[0;32mTrue\u001B[0m\u001B[0;34m)\u001B[0m\u001B[0;34m\u001B[0m\u001B[0;34m\u001B[0m\u001B[0m\n",
       "\u001B[1;32m   1430\u001B[0m         \u001B[0mparams_logging_future\u001B[0m\u001B[0;34m.\u001B[0m\u001B[0mawait_completion\u001B[0m\u001B[0;34m(\u001B[0m\u001B[0;34m)\u001B[0m\u001B[0;34m\u001B[0m\u001B[0;34m\u001B[0m\u001B[0m\n",
       "\n",
       "\u001B[0;32m/databricks/python/lib/python3.11/site-packages/mlflow/utils/autologging_utils/safety.py\u001B[0m in \u001B[0;36m?\u001B[0;34m(*og_args, **og_kwargs)\u001B[0m\n",
       "\u001B[1;32m    555\u001B[0m                             ):\n",
       "\u001B[1;32m    556\u001B[0m                                 \u001B[0moriginal_result\u001B[0m \u001B[0;34m=\u001B[0m \u001B[0moriginal\u001B[0m\u001B[0;34m(\u001B[0m\u001B[0;34m*\u001B[0m\u001B[0m_og_args\u001B[0m\u001B[0;34m,\u001B[0m \u001B[0;34m**\u001B[0m\u001B[0m_og_kwargs\u001B[0m\u001B[0;34m)\u001B[0m\u001B[0;34m\u001B[0m\u001B[0;34m\u001B[0m\u001B[0m\n",
       "\u001B[1;32m    557\u001B[0m                                 \u001B[0;32mreturn\u001B[0m \u001B[0moriginal_result\u001B[0m\u001B[0;34m\u001B[0m\u001B[0;34m\u001B[0m\u001B[0m\n",
       "\u001B[1;32m    558\u001B[0m \u001B[0;34m\u001B[0m\u001B[0m\n",
       "\u001B[0;32m--> 559\u001B[0;31m                         \u001B[0;32mreturn\u001B[0m \u001B[0mcall_original_fn_with_event_logging\u001B[0m\u001B[0;34m(\u001B[0m\u001B[0m_original_fn\u001B[0m\u001B[0;34m,\u001B[0m \u001B[0mog_args\u001B[0m\u001B[0;34m,\u001B[0m \u001B[0mog_kwargs\u001B[0m\u001B[0;34m)\u001B[0m\u001B[0;34m\u001B[0m\u001B[0;34m\u001B[0m\u001B[0m\n",
       "\u001B[0m\n",
       "\u001B[0;32m/databricks/python/lib/python3.11/site-packages/mlflow/utils/autologging_utils/safety.py\u001B[0m in \u001B[0;36m?\u001B[0;34m(original_fn, og_args, og_kwargs)\u001B[0m\n",
       "\u001B[1;32m    514\u001B[0m                     )\n",
       "\u001B[1;32m    515\u001B[0m \u001B[0;34m\u001B[0m\u001B[0m\n",
       "\u001B[1;32m    516\u001B[0m                     \u001B[0;32mnonlocal\u001B[0m \u001B[0mfailed_during_original\u001B[0m\u001B[0;34m\u001B[0m\u001B[0;34m\u001B[0m\u001B[0m\n",
       "\u001B[1;32m    517\u001B[0m                     \u001B[0mfailed_during_original\u001B[0m \u001B[0;34m=\u001B[0m \u001B[0;32mTrue\u001B[0m\u001B[0;34m\u001B[0m\u001B[0;34m\u001B[0m\u001B[0m\n",
       "\u001B[0;32m--> 518\u001B[0;31m                     \u001B[0;32mraise\u001B[0m\u001B[0;34m\u001B[0m\u001B[0;34m\u001B[0m\u001B[0m\n",
       "\u001B[0m\n",
       "\u001B[0;32m/databricks/python/lib/python3.11/site-packages/mlflow/utils/autologging_utils/safety.py\u001B[0m in \u001B[0;36m?\u001B[0;34m(*_og_args, **_og_kwargs)\u001B[0m\n",
       "\u001B[1;32m    552\u001B[0m                             with set_non_mlflow_warnings_behavior_for_current_thread(\n",
       "\u001B[1;32m    553\u001B[0m                                 \u001B[0mdisable_warnings\u001B[0m\u001B[0;34m=\u001B[0m\u001B[0;32mFalse\u001B[0m\u001B[0;34m,\u001B[0m\u001B[0;34m\u001B[0m\u001B[0;34m\u001B[0m\u001B[0m\n",
       "\u001B[1;32m    554\u001B[0m                                 \u001B[0mreroute_warnings\u001B[0m\u001B[0;34m=\u001B[0m\u001B[0;32mFalse\u001B[0m\u001B[0;34m,\u001B[0m\u001B[0;34m\u001B[0m\u001B[0;34m\u001B[0m\u001B[0m\n",
       "\u001B[1;32m    555\u001B[0m                             ):\n",
       "\u001B[0;32m--> 556\u001B[0;31m                                 \u001B[0moriginal_result\u001B[0m \u001B[0;34m=\u001B[0m \u001B[0moriginal\u001B[0m\u001B[0;34m(\u001B[0m\u001B[0;34m*\u001B[0m\u001B[0m_og_args\u001B[0m\u001B[0;34m,\u001B[0m \u001B[0;34m**\u001B[0m\u001B[0m_og_kwargs\u001B[0m\u001B[0;34m)\u001B[0m\u001B[0;34m\u001B[0m\u001B[0;34m\u001B[0m\u001B[0m\n",
       "\u001B[0m\u001B[1;32m    557\u001B[0m                                 \u001B[0;32mreturn\u001B[0m \u001B[0moriginal_result\u001B[0m\u001B[0;34m\u001B[0m\u001B[0;34m\u001B[0m\u001B[0m\n",
       "\n",
       "\u001B[0;32m/databricks/python_shell/lib/dbruntime/MLWorkloadsInstrumentation/_sklearn.py\u001B[0m in \u001B[0;36m?\u001B[0;34m(self, *args, **kwargs)\u001B[0m\n",
       "\u001B[1;32m     31\u001B[0m                 \u001B[0;32mreturn\u001B[0m \u001B[0moriginal_result\u001B[0m\u001B[0;34m\u001B[0m\u001B[0;34m\u001B[0m\u001B[0m\n",
       "\u001B[1;32m     32\u001B[0m             \u001B[0;32mfinally\u001B[0m\u001B[0;34m:\u001B[0m\u001B[0;34m\u001B[0m\u001B[0;34m\u001B[0m\u001B[0m\n",
       "\u001B[1;32m     33\u001B[0m                 \u001B[0;32mtry\u001B[0m\u001B[0;34m:\u001B[0m\u001B[0;34m\u001B[0m\u001B[0;34m\u001B[0m\u001B[0m\n",
       "\u001B[1;32m     34\u001B[0m                     \u001B[0;32mif\u001B[0m \u001B[0msess\u001B[0m\u001B[0;34m.\u001B[0m\u001B[0mshould_log\u001B[0m\u001B[0;34m(\u001B[0m\u001B[0;34m)\u001B[0m \u001B[0;32mand\u001B[0m \u001B[0m_is_allowlisted\u001B[0m\u001B[0;34m(\u001B[0m\u001B[0mself\u001B[0m\u001B[0;34m,\u001B[0m \u001B[0mallowlist\u001B[0m\u001B[0;34m)\u001B[0m\u001B[0;34m:\u001B[0m\u001B[0;34m\u001B[0m\u001B[0;34m\u001B[0m\u001B[0m\n",
       "\u001B[0;32m---> 35\u001B[0;31m                         func_call_logger.log(\n",
       "\u001B[0m\u001B[1;32m     36\u001B[0m                             \u001B[0mmodel_class\u001B[0m\u001B[0;34m=\u001B[0m\u001B[0m_get_fully_qualified_class_name\u001B[0m\u001B[0;34m(\u001B[0m\u001B[0mself\u001B[0m\u001B[0;34m)\u001B[0m\u001B[0;34m,\u001B[0m\u001B[0;34m\u001B[0m\u001B[0;34m\u001B[0m\u001B[0m\n",
       "\u001B[1;32m     37\u001B[0m                             \u001B[0mmodel_function\u001B[0m\u001B[0;34m=\u001B[0m\u001B[0mfunction_name\u001B[0m\u001B[0;34m,\u001B[0m\u001B[0;34m\u001B[0m\u001B[0;34m\u001B[0m\u001B[0m\n",
       "\u001B[1;32m     38\u001B[0m                             \u001B[0mworkload_type\u001B[0m\u001B[0;34m=\u001B[0m\u001B[0m_map_func_to_ml_workload_type\u001B[0m\u001B[0;34m(\u001B[0m\u001B[0mfunction_name\u001B[0m\u001B[0;34m)\u001B[0m\u001B[0;34m,\u001B[0m\u001B[0;34m\u001B[0m\u001B[0;34m\u001B[0m\u001B[0m\n",
       "\n",
       "\u001B[0;32m/databricks/python/lib/python3.11/site-packages/sklearn/base.py\u001B[0m in \u001B[0;36m?\u001B[0;34m(estimator, *args, **kwargs)\u001B[0m\n",
       "\u001B[1;32m   1147\u001B[0m                 skip_parameter_validation=(\n",
       "\u001B[1;32m   1148\u001B[0m                     \u001B[0mprefer_skip_nested_validation\u001B[0m \u001B[0;32mor\u001B[0m \u001B[0mglobal_skip_validation\u001B[0m\u001B[0;34m\u001B[0m\u001B[0;34m\u001B[0m\u001B[0m\n",
       "\u001B[1;32m   1149\u001B[0m                 )\n",
       "\u001B[1;32m   1150\u001B[0m             ):\n",
       "\u001B[0;32m-> 1151\u001B[0;31m                 \u001B[0;32mreturn\u001B[0m \u001B[0mfit_method\u001B[0m\u001B[0;34m(\u001B[0m\u001B[0mestimator\u001B[0m\u001B[0;34m,\u001B[0m \u001B[0;34m*\u001B[0m\u001B[0margs\u001B[0m\u001B[0;34m,\u001B[0m \u001B[0;34m**\u001B[0m\u001B[0mkwargs\u001B[0m\u001B[0;34m)\u001B[0m\u001B[0;34m\u001B[0m\u001B[0;34m\u001B[0m\u001B[0m\n",
       "\u001B[0m\n",
       "\u001B[0;32m/databricks/python/lib/python3.11/site-packages/sklearn/linear_model/_base.py\u001B[0m in \u001B[0;36m?\u001B[0;34m(self, X, y, sample_weight)\u001B[0m\n",
       "\u001B[1;32m    674\u001B[0m         \u001B[0mn_jobs_\u001B[0m \u001B[0;34m=\u001B[0m \u001B[0mself\u001B[0m\u001B[0;34m.\u001B[0m\u001B[0mn_jobs\u001B[0m\u001B[0;34m\u001B[0m\u001B[0;34m\u001B[0m\u001B[0m\n",
       "\u001B[1;32m    675\u001B[0m \u001B[0;34m\u001B[0m\u001B[0m\n",
       "\u001B[1;32m    676\u001B[0m         \u001B[0maccept_sparse\u001B[0m \u001B[0;34m=\u001B[0m \u001B[0;32mFalse\u001B[0m \u001B[0;32mif\u001B[0m \u001B[0mself\u001B[0m\u001B[0;34m.\u001B[0m\u001B[0mpositive\u001B[0m \u001B[0;32melse\u001B[0m \u001B[0;34m[\u001B[0m\u001B[0;34m\"csr\"\u001B[0m\u001B[0;34m,\u001B[0m \u001B[0;34m\"csc\"\u001B[0m\u001B[0;34m,\u001B[0m \u001B[0;34m\"coo\"\u001B[0m\u001B[0;34m]\u001B[0m\u001B[0;34m\u001B[0m\u001B[0;34m\u001B[0m\u001B[0m\n",
       "\u001B[1;32m    677\u001B[0m \u001B[0;34m\u001B[0m\u001B[0m\n",
       "\u001B[0;32m--> 678\u001B[0;31m         X, y = self._validate_data(\n",
       "\u001B[0m\u001B[1;32m    679\u001B[0m             \u001B[0mX\u001B[0m\u001B[0;34m,\u001B[0m \u001B[0my\u001B[0m\u001B[0;34m,\u001B[0m \u001B[0maccept_sparse\u001B[0m\u001B[0;34m=\u001B[0m\u001B[0maccept_sparse\u001B[0m\u001B[0;34m,\u001B[0m \u001B[0my_numeric\u001B[0m\u001B[0;34m=\u001B[0m\u001B[0;32mTrue\u001B[0m\u001B[0;34m,\u001B[0m \u001B[0mmulti_output\u001B[0m\u001B[0;34m=\u001B[0m\u001B[0;32mTrue\u001B[0m\u001B[0;34m\u001B[0m\u001B[0;34m\u001B[0m\u001B[0m\n",
       "\u001B[1;32m    680\u001B[0m         )\n",
       "\u001B[1;32m    681\u001B[0m \u001B[0;34m\u001B[0m\u001B[0m\n",
       "\n",
       "\u001B[0;32m/databricks/python/lib/python3.11/site-packages/sklearn/base.py\u001B[0m in \u001B[0;36m?\u001B[0;34m(self, X, y, reset, validate_separately, cast_to_ndarray, **check_params)\u001B[0m\n",
       "\u001B[1;32m    617\u001B[0m                 \u001B[0;32mif\u001B[0m \u001B[0;34m\"estimator\"\u001B[0m \u001B[0;32mnot\u001B[0m \u001B[0;32min\u001B[0m \u001B[0mcheck_y_params\u001B[0m\u001B[0;34m:\u001B[0m\u001B[0;34m\u001B[0m\u001B[0;34m\u001B[0m\u001B[0m\n",
       "\u001B[1;32m    618\u001B[0m                     \u001B[0mcheck_y_params\u001B[0m \u001B[0;34m=\u001B[0m \u001B[0;34m{\u001B[0m\u001B[0;34m**\u001B[0m\u001B[0mdefault_check_params\u001B[0m\u001B[0;34m,\u001B[0m \u001B[0;34m**\u001B[0m\u001B[0mcheck_y_params\u001B[0m\u001B[0;34m}\u001B[0m\u001B[0;34m\u001B[0m\u001B[0;34m\u001B[0m\u001B[0m\n",
       "\u001B[1;32m    619\u001B[0m                 \u001B[0my\u001B[0m \u001B[0;34m=\u001B[0m \u001B[0mcheck_array\u001B[0m\u001B[0;34m(\u001B[0m\u001B[0my\u001B[0m\u001B[0;34m,\u001B[0m \u001B[0minput_name\u001B[0m\u001B[0;34m=\u001B[0m\u001B[0;34m\"y\"\u001B[0m\u001B[0;34m,\u001B[0m \u001B[0;34m**\u001B[0m\u001B[0mcheck_y_params\u001B[0m\u001B[0;34m)\u001B[0m\u001B[0;34m\u001B[0m\u001B[0;34m\u001B[0m\u001B[0m\n",
       "\u001B[1;32m    620\u001B[0m             \u001B[0;32melse\u001B[0m\u001B[0;34m:\u001B[0m\u001B[0;34m\u001B[0m\u001B[0;34m\u001B[0m\u001B[0m\n",
       "\u001B[0;32m--> 621\u001B[0;31m                 \u001B[0mX\u001B[0m\u001B[0;34m,\u001B[0m \u001B[0my\u001B[0m \u001B[0;34m=\u001B[0m \u001B[0mcheck_X_y\u001B[0m\u001B[0;34m(\u001B[0m\u001B[0mX\u001B[0m\u001B[0;34m,\u001B[0m \u001B[0my\u001B[0m\u001B[0;34m,\u001B[0m \u001B[0;34m**\u001B[0m\u001B[0mcheck_params\u001B[0m\u001B[0;34m)\u001B[0m\u001B[0;34m\u001B[0m\u001B[0;34m\u001B[0m\u001B[0m\n",
       "\u001B[0m\u001B[1;32m    622\u001B[0m             \u001B[0mout\u001B[0m \u001B[0;34m=\u001B[0m \u001B[0mX\u001B[0m\u001B[0;34m,\u001B[0m \u001B[0my\u001B[0m\u001B[0;34m\u001B[0m\u001B[0;34m\u001B[0m\u001B[0m\n",
       "\u001B[1;32m    623\u001B[0m \u001B[0;34m\u001B[0m\u001B[0m\n",
       "\u001B[1;32m    624\u001B[0m         \u001B[0;32mif\u001B[0m \u001B[0;32mnot\u001B[0m \u001B[0mno_val_X\u001B[0m \u001B[0;32mand\u001B[0m \u001B[0mcheck_params\u001B[0m\u001B[0;34m.\u001B[0m\u001B[0mget\u001B[0m\u001B[0;34m(\u001B[0m\u001B[0;34m\"ensure_2d\"\u001B[0m\u001B[0;34m,\u001B[0m \u001B[0;32mTrue\u001B[0m\u001B[0;34m)\u001B[0m\u001B[0;34m:\u001B[0m\u001B[0;34m\u001B[0m\u001B[0;34m\u001B[0m\u001B[0m\n",
       "\n",
       "\u001B[0;32m/databricks/python/lib/python3.11/site-packages/sklearn/utils/validation.py\u001B[0m in \u001B[0;36m?\u001B[0;34m(X, y, accept_sparse, accept_large_sparse, dtype, order, copy, force_all_finite, ensure_2d, allow_nd, multi_output, ensure_min_samples, ensure_min_features, y_numeric, estimator)\u001B[0m\n",
       "\u001B[1;32m   1143\u001B[0m         raise ValueError(\n",
       "\u001B[1;32m   1144\u001B[0m             \u001B[0;34mf\"{estimator_name} requires y to be passed, but the target y is None\"\u001B[0m\u001B[0;34m\u001B[0m\u001B[0;34m\u001B[0m\u001B[0m\n",
       "\u001B[1;32m   1145\u001B[0m         )\n",
       "\u001B[1;32m   1146\u001B[0m \u001B[0;34m\u001B[0m\u001B[0m\n",
       "\u001B[0;32m-> 1147\u001B[0;31m     X = check_array(\n",
       "\u001B[0m\u001B[1;32m   1148\u001B[0m         \u001B[0mX\u001B[0m\u001B[0;34m,\u001B[0m\u001B[0;34m\u001B[0m\u001B[0;34m\u001B[0m\u001B[0m\n",
       "\u001B[1;32m   1149\u001B[0m         \u001B[0maccept_sparse\u001B[0m\u001B[0;34m=\u001B[0m\u001B[0maccept_sparse\u001B[0m\u001B[0;34m,\u001B[0m\u001B[0;34m\u001B[0m\u001B[0;34m\u001B[0m\u001B[0m\n",
       "\u001B[1;32m   1150\u001B[0m         \u001B[0maccept_large_sparse\u001B[0m\u001B[0;34m=\u001B[0m\u001B[0maccept_large_sparse\u001B[0m\u001B[0;34m,\u001B[0m\u001B[0;34m\u001B[0m\u001B[0;34m\u001B[0m\u001B[0m\n",
       "\n",
       "\u001B[0;32m/databricks/python/lib/python3.11/site-packages/sklearn/utils/validation.py\u001B[0m in \u001B[0;36m?\u001B[0;34m(array, accept_sparse, accept_large_sparse, dtype, order, copy, force_all_finite, ensure_2d, allow_nd, ensure_min_samples, ensure_min_features, estimator, input_name)\u001B[0m\n",
       "\u001B[1;32m    914\u001B[0m                         )\n",
       "\u001B[1;32m    915\u001B[0m                     \u001B[0marray\u001B[0m \u001B[0;34m=\u001B[0m \u001B[0mxp\u001B[0m\u001B[0;34m.\u001B[0m\u001B[0mastype\u001B[0m\u001B[0;34m(\u001B[0m\u001B[0marray\u001B[0m\u001B[0;34m,\u001B[0m \u001B[0mdtype\u001B[0m\u001B[0;34m,\u001B[0m \u001B[0mcopy\u001B[0m\u001B[0;34m=\u001B[0m\u001B[0;32mFalse\u001B[0m\u001B[0;34m)\u001B[0m\u001B[0;34m\u001B[0m\u001B[0;34m\u001B[0m\u001B[0m\n",
       "\u001B[1;32m    916\u001B[0m                 \u001B[0;32melse\u001B[0m\u001B[0;34m:\u001B[0m\u001B[0;34m\u001B[0m\u001B[0;34m\u001B[0m\u001B[0m\n",
       "\u001B[1;32m    917\u001B[0m                     \u001B[0marray\u001B[0m \u001B[0;34m=\u001B[0m \u001B[0m_asarray_with_order\u001B[0m\u001B[0;34m(\u001B[0m\u001B[0marray\u001B[0m\u001B[0;34m,\u001B[0m \u001B[0morder\u001B[0m\u001B[0;34m=\u001B[0m\u001B[0morder\u001B[0m\u001B[0;34m,\u001B[0m \u001B[0mdtype\u001B[0m\u001B[0;34m=\u001B[0m\u001B[0mdtype\u001B[0m\u001B[0;34m,\u001B[0m \u001B[0mxp\u001B[0m\u001B[0;34m=\u001B[0m\u001B[0mxp\u001B[0m\u001B[0;34m)\u001B[0m\u001B[0;34m\u001B[0m\u001B[0;34m\u001B[0m\u001B[0m\n",
       "\u001B[0;32m--> 918\u001B[0;31m             \u001B[0;32mexcept\u001B[0m \u001B[0mComplexWarning\u001B[0m \u001B[0;32mas\u001B[0m \u001B[0mcomplex_warning\u001B[0m\u001B[0;34m:\u001B[0m\u001B[0;34m\u001B[0m\u001B[0;34m\u001B[0m\u001B[0m\n",
       "\u001B[0m\u001B[1;32m    919\u001B[0m                 raise ValueError(\n",
       "\u001B[1;32m    920\u001B[0m                     \u001B[0;34m\"Complex data not supported\\n{}\\n\"\u001B[0m\u001B[0;34m.\u001B[0m\u001B[0mformat\u001B[0m\u001B[0;34m(\u001B[0m\u001B[0marray\u001B[0m\u001B[0;34m)\u001B[0m\u001B[0;34m\u001B[0m\u001B[0;34m\u001B[0m\u001B[0m\n",
       "\u001B[1;32m    921\u001B[0m                 ) from complex_warning\n",
       "\n",
       "\u001B[0;32m/databricks/python/lib/python3.11/site-packages/sklearn/utils/_array_api.py\u001B[0m in \u001B[0;36m?\u001B[0;34m(array, dtype, order, copy, xp)\u001B[0m\n",
       "\u001B[1;32m    376\u001B[0m         \u001B[0;31m# Use NumPy API to support order\u001B[0m\u001B[0;34m\u001B[0m\u001B[0;34m\u001B[0m\u001B[0m\n",
       "\u001B[1;32m    377\u001B[0m         \u001B[0;32mif\u001B[0m \u001B[0mcopy\u001B[0m \u001B[0;32mis\u001B[0m \u001B[0;32mTrue\u001B[0m\u001B[0;34m:\u001B[0m\u001B[0;34m\u001B[0m\u001B[0;34m\u001B[0m\u001B[0m\n",
       "\u001B[1;32m    378\u001B[0m             \u001B[0marray\u001B[0m \u001B[0;34m=\u001B[0m \u001B[0mnumpy\u001B[0m\u001B[0;34m.\u001B[0m\u001B[0marray\u001B[0m\u001B[0;34m(\u001B[0m\u001B[0marray\u001B[0m\u001B[0;34m,\u001B[0m \u001B[0morder\u001B[0m\u001B[0;34m=\u001B[0m\u001B[0morder\u001B[0m\u001B[0;34m,\u001B[0m \u001B[0mdtype\u001B[0m\u001B[0;34m=\u001B[0m\u001B[0mdtype\u001B[0m\u001B[0;34m)\u001B[0m\u001B[0;34m\u001B[0m\u001B[0;34m\u001B[0m\u001B[0m\n",
       "\u001B[1;32m    379\u001B[0m         \u001B[0;32melse\u001B[0m\u001B[0;34m:\u001B[0m\u001B[0;34m\u001B[0m\u001B[0;34m\u001B[0m\u001B[0m\n",
       "\u001B[0;32m--> 380\u001B[0;31m             \u001B[0marray\u001B[0m \u001B[0;34m=\u001B[0m \u001B[0mnumpy\u001B[0m\u001B[0;34m.\u001B[0m\u001B[0masarray\u001B[0m\u001B[0;34m(\u001B[0m\u001B[0marray\u001B[0m\u001B[0;34m,\u001B[0m \u001B[0morder\u001B[0m\u001B[0;34m=\u001B[0m\u001B[0morder\u001B[0m\u001B[0;34m,\u001B[0m \u001B[0mdtype\u001B[0m\u001B[0;34m=\u001B[0m\u001B[0mdtype\u001B[0m\u001B[0;34m)\u001B[0m\u001B[0;34m\u001B[0m\u001B[0;34m\u001B[0m\u001B[0m\n",
       "\u001B[0m\u001B[1;32m    381\u001B[0m \u001B[0;34m\u001B[0m\u001B[0m\n",
       "\u001B[1;32m    382\u001B[0m         \u001B[0;31m# At this point array is a NumPy ndarray. We convert it to an array\u001B[0m\u001B[0;34m\u001B[0m\u001B[0;34m\u001B[0m\u001B[0m\n",
       "\u001B[1;32m    383\u001B[0m         \u001B[0;31m# container that is consistent with the input's namespace.\u001B[0m\u001B[0;34m\u001B[0m\u001B[0;34m\u001B[0m\u001B[0m\n",
       "\n",
       "\u001B[0;32m/databricks/python/lib/python3.11/site-packages/pandas/core/generic.py\u001B[0m in \u001B[0;36m?\u001B[0;34m(self, dtype)\u001B[0m\n",
       "\u001B[1;32m   2069\u001B[0m     \u001B[0;32mdef\u001B[0m \u001B[0m__array__\u001B[0m\u001B[0;34m(\u001B[0m\u001B[0mself\u001B[0m\u001B[0;34m,\u001B[0m \u001B[0mdtype\u001B[0m\u001B[0;34m:\u001B[0m \u001B[0mnpt\u001B[0m\u001B[0;34m.\u001B[0m\u001B[0mDTypeLike\u001B[0m \u001B[0;34m|\u001B[0m \u001B[0;32mNone\u001B[0m \u001B[0;34m=\u001B[0m \u001B[0;32mNone\u001B[0m\u001B[0;34m)\u001B[0m \u001B[0;34m->\u001B[0m \u001B[0mnp\u001B[0m\u001B[0;34m.\u001B[0m\u001B[0mndarray\u001B[0m\u001B[0;34m:\u001B[0m\u001B[0;34m\u001B[0m\u001B[0;34m\u001B[0m\u001B[0m\n",
       "\u001B[0;32m-> 2070\u001B[0;31m         \u001B[0;32mreturn\u001B[0m \u001B[0mnp\u001B[0m\u001B[0;34m.\u001B[0m\u001B[0masarray\u001B[0m\u001B[0;34m(\u001B[0m\u001B[0mself\u001B[0m\u001B[0;34m.\u001B[0m\u001B[0m_values\u001B[0m\u001B[0;34m,\u001B[0m \u001B[0mdtype\u001B[0m\u001B[0;34m=\u001B[0m\u001B[0mdtype\u001B[0m\u001B[0;34m)\u001B[0m\u001B[0;34m\u001B[0m\u001B[0;34m\u001B[0m\u001B[0m\n",
       "\u001B[0m\n",
       "\u001B[0;31mValueError\u001B[0m: could not convert string to float: 'N'"
      ]
     },
     "metadata": {
      "application/vnd.databricks.v1+output": {
       "addedWidgets": {},
       "arguments": {},
       "datasetInfos": [],
       "jupyterProps": {
        "ename": "ValueError",
        "evalue": "could not convert string to float: 'N'"
       },
       "metadata": {
        "errorSummary": "<span class='ansi-red-fg'>ValueError</span>: could not convert string to float: 'N'"
       },
       "removedWidgets": [],
       "sqlProps": null,
       "stackFrames": [
        "\u001B[0;31m---------------------------------------------------------------------------\u001B[0m",
        "\u001B[0;31mValueError\u001B[0m                                Traceback (most recent call last)",
        "\u001B[0;32m~/.ipykernel/45114/command-2477570942175043-2740647214\u001B[0m in \u001B[0;36m?\u001B[0;34m()\u001B[0m\n\u001B[1;32m      3\u001B[0m \u001B[0;31m# Create the Linear Regression model\u001B[0m\u001B[0;34m\u001B[0m\u001B[0;34m\u001B[0m\u001B[0m\n\u001B[1;32m      4\u001B[0m \u001B[0mlr_model\u001B[0m \u001B[0;34m=\u001B[0m \u001B[0mLinearRegression\u001B[0m\u001B[0;34m(\u001B[0m\u001B[0;34m)\u001B[0m\u001B[0;34m\u001B[0m\u001B[0;34m\u001B[0m\u001B[0m\n\u001B[1;32m      5\u001B[0m \u001B[0;34m\u001B[0m\u001B[0m\n\u001B[1;32m      6\u001B[0m \u001B[0;31m# Train the model\u001B[0m\u001B[0;34m\u001B[0m\u001B[0;34m\u001B[0m\u001B[0m\n\u001B[0;32m----> 7\u001B[0;31m \u001B[0mlr_model\u001B[0m\u001B[0;34m.\u001B[0m\u001B[0mfit\u001B[0m\u001B[0;34m(\u001B[0m\u001B[0mX_train\u001B[0m\u001B[0;34m,\u001B[0m \u001B[0my_train\u001B[0m\u001B[0;34m)\u001B[0m\u001B[0;34m\u001B[0m\u001B[0;34m\u001B[0m\u001B[0m\n\u001B[0m",
        "\u001B[0;32m/databricks/python/lib/python3.11/site-packages/mlflow/utils/autologging_utils/safety.py\u001B[0m in \u001B[0;36m?\u001B[0;34m(*args, **kwargs)\u001B[0m\n\u001B[1;32m    593\u001B[0m                     \u001B[0;31m# Exceptions thrown during execution of the original function should be\u001B[0m\u001B[0;34m\u001B[0m\u001B[0;34m\u001B[0m\u001B[0m\n\u001B[1;32m    594\u001B[0m                     \u001B[0;31m# propagated to the caller. Additionally, exceptions encountered during test\u001B[0m\u001B[0;34m\u001B[0m\u001B[0;34m\u001B[0m\u001B[0m\n\u001B[1;32m    595\u001B[0m                     \u001B[0;31m# mode should be reraised to detect bugs in autologging implementations\u001B[0m\u001B[0;34m\u001B[0m\u001B[0;34m\u001B[0m\u001B[0m\n\u001B[1;32m    596\u001B[0m                     \u001B[0;32mif\u001B[0m \u001B[0mfailed_during_original\u001B[0m \u001B[0;32mor\u001B[0m \u001B[0mis_testing\u001B[0m\u001B[0;34m(\u001B[0m\u001B[0;34m)\u001B[0m\u001B[0;34m:\u001B[0m\u001B[0;34m\u001B[0m\u001B[0;34m\u001B[0m\u001B[0m\n\u001B[0;32m--> 597\u001B[0;31m                         \u001B[0;32mraise\u001B[0m\u001B[0;34m\u001B[0m\u001B[0;34m\u001B[0m\u001B[0m\n\u001B[0m\u001B[1;32m    598\u001B[0m \u001B[0;34m\u001B[0m\u001B[0m\n\u001B[1;32m    599\u001B[0m                 \u001B[0;32mif\u001B[0m \u001B[0mis_testing\u001B[0m\u001B[0;34m(\u001B[0m\u001B[0;34m)\u001B[0m \u001B[0;32mand\u001B[0m \u001B[0;32mnot\u001B[0m \u001B[0mpreexisting_run_for_testing\u001B[0m\u001B[0;34m:\u001B[0m\u001B[0;34m\u001B[0m\u001B[0;34m\u001B[0m\u001B[0m\n\u001B[1;32m    600\u001B[0m                     \u001B[0;31m# If an MLflow run was created during the execution of patch code, verify that\u001B[0m\u001B[0;34m\u001B[0m\u001B[0;34m\u001B[0m\u001B[0m\n",
        "\u001B[0;32m/databricks/python/lib/python3.11/site-packages/mlflow/utils/autologging_utils/safety.py\u001B[0m in \u001B[0;36m?\u001B[0;34m(original, *args, **kwargs)\u001B[0m\n\u001B[1;32m    254\u001B[0m                 \u001B[0;31m# that runs are terminated if a user prematurely interrupts training execution\u001B[0m\u001B[0;34m\u001B[0m\u001B[0;34m\u001B[0m\u001B[0m\n\u001B[1;32m    255\u001B[0m                 \u001B[0;31m# (e.g. via sigint / ctrl-c)\u001B[0m\u001B[0;34m\u001B[0m\u001B[0;34m\u001B[0m\u001B[0m\n\u001B[1;32m    256\u001B[0m                 \u001B[0;32mif\u001B[0m \u001B[0mmanaged_run\u001B[0m\u001B[0;34m:\u001B[0m\u001B[0;34m\u001B[0m\u001B[0;34m\u001B[0m\u001B[0m\n\u001B[1;32m    257\u001B[0m                     \u001B[0mmlflow\u001B[0m\u001B[0;34m.\u001B[0m\u001B[0mend_run\u001B[0m\u001B[0;34m(\u001B[0m\u001B[0mRunStatus\u001B[0m\u001B[0;34m.\u001B[0m\u001B[0mto_string\u001B[0m\u001B[0;34m(\u001B[0m\u001B[0mRunStatus\u001B[0m\u001B[0;34m.\u001B[0m\u001B[0mFAILED\u001B[0m\u001B[0;34m)\u001B[0m\u001B[0;34m)\u001B[0m\u001B[0;34m\u001B[0m\u001B[0;34m\u001B[0m\u001B[0m\n\u001B[0;32m--> 258\u001B[0;31m                 \u001B[0;32mraise\u001B[0m\u001B[0;34m\u001B[0m\u001B[0;34m\u001B[0m\u001B[0m\n\u001B[0m\u001B[1;32m    259\u001B[0m             \u001B[0;32melse\u001B[0m\u001B[0;34m:\u001B[0m\u001B[0;34m\u001B[0m\u001B[0;34m\u001B[0m\u001B[0m\n\u001B[1;32m    260\u001B[0m                 \u001B[0;32mif\u001B[0m \u001B[0mmanaged_run\u001B[0m\u001B[0;34m:\u001B[0m\u001B[0;34m\u001B[0m\u001B[0;34m\u001B[0m\u001B[0m\n\u001B[1;32m    261\u001B[0m                     \u001B[0mmlflow\u001B[0m\u001B[0;34m.\u001B[0m\u001B[0mend_run\u001B[0m\u001B[0;34m(\u001B[0m\u001B[0mRunStatus\u001B[0m\u001B[0;34m.\u001B[0m\u001B[0mto_string\u001B[0m\u001B[0;34m(\u001B[0m\u001B[0mRunStatus\u001B[0m\u001B[0;34m.\u001B[0m\u001B[0mFINISHED\u001B[0m\u001B[0;34m)\u001B[0m\u001B[0;34m)\u001B[0m\u001B[0;34m\u001B[0m\u001B[0;34m\u001B[0m\u001B[0m\n",
        "\u001B[0;32m/databricks/python/lib/python3.11/site-packages/mlflow/sklearn/__init__.py\u001B[0m in \u001B[0;36m?\u001B[0;34m(fit_impl, allow_children_patch, original, self, *args, **kwargs)\u001B[0m\n\u001B[1;32m   1648\u001B[0m             \u001B[0;32mif\u001B[0m \u001B[0mt\u001B[0m\u001B[0;34m.\u001B[0m\u001B[0mshould_log\u001B[0m\u001B[0;34m(\u001B[0m\u001B[0;34m)\u001B[0m\u001B[0;34m:\u001B[0m\u001B[0;34m\u001B[0m\u001B[0;34m\u001B[0m\u001B[0m\n\u001B[1;32m   1649\u001B[0m                 \u001B[0;31m# In `fit_mlflow` call, it will also call metric API for computing training metrics\u001B[0m\u001B[0;34m\u001B[0m\u001B[0;34m\u001B[0m\u001B[0m\n\u001B[1;32m   1650\u001B[0m                 \u001B[0;31m# so we need temporarily disable the post_training_metrics patching.\u001B[0m\u001B[0;34m\u001B[0m\u001B[0;34m\u001B[0m\u001B[0m\n\u001B[1;32m   1651\u001B[0m                 \u001B[0;32mwith\u001B[0m \u001B[0m_AUTOLOGGING_METRICS_MANAGER\u001B[0m\u001B[0;34m.\u001B[0m\u001B[0mdisable_log_post_training_metrics\u001B[0m\u001B[0;34m(\u001B[0m\u001B[0;34m)\u001B[0m\u001B[0;34m:\u001B[0m\u001B[0;34m\u001B[0m\u001B[0;34m\u001B[0m\u001B[0m\n\u001B[0;32m-> 1652\u001B[0;31m                     \u001B[0mresult\u001B[0m \u001B[0;34m=\u001B[0m \u001B[0mfit_impl\u001B[0m\u001B[0;34m(\u001B[0m\u001B[0moriginal\u001B[0m\u001B[0;34m,\u001B[0m \u001B[0mself\u001B[0m\u001B[0;34m,\u001B[0m \u001B[0;34m*\u001B[0m\u001B[0margs\u001B[0m\u001B[0;34m,\u001B[0m \u001B[0;34m**\u001B[0m\u001B[0mkwargs\u001B[0m\u001B[0;34m)\u001B[0m\u001B[0;34m\u001B[0m\u001B[0;34m\u001B[0m\u001B[0m\n\u001B[0m\u001B[1;32m   1653\u001B[0m                 \u001B[0;32mif\u001B[0m \u001B[0mshould_log_post_training_metrics\u001B[0m\u001B[0;34m:\u001B[0m\u001B[0;34m\u001B[0m\u001B[0;34m\u001B[0m\u001B[0m\n\u001B[1;32m   1654\u001B[0m                     _AUTOLOGGING_METRICS_MANAGER.register_model(\n\u001B[1;32m   1655\u001B[0m                         \u001B[0mself\u001B[0m\u001B[0;34m,\u001B[0m \u001B[0mmlflow\u001B[0m\u001B[0;34m.\u001B[0m\u001B[0mactive_run\u001B[0m\u001B[0;34m(\u001B[0m\u001B[0;34m)\u001B[0m\u001B[0;34m.\u001B[0m\u001B[0minfo\u001B[0m\u001B[0;34m.\u001B[0m\u001B[0mrun_id\u001B[0m\u001B[0;34m\u001B[0m\u001B[0;34m\u001B[0m\u001B[0m\n",
        "\u001B[0;32m/databricks/python/lib/python3.11/site-packages/mlflow/sklearn/__init__.py\u001B[0m in \u001B[0;36m?\u001B[0;34m(original, self, *args, **kwargs)\u001B[0m\n\u001B[1;32m   1423\u001B[0m         \u001B[0;34m(\u001B[0m\u001B[0mX\u001B[0m\u001B[0;34m,\u001B[0m \u001B[0my_true\u001B[0m\u001B[0;34m,\u001B[0m \u001B[0msample_weight\u001B[0m\u001B[0;34m)\u001B[0m \u001B[0;34m=\u001B[0m \u001B[0m_get_X_y_and_sample_weight\u001B[0m\u001B[0;34m(\u001B[0m\u001B[0mself\u001B[0m\u001B[0;34m.\u001B[0m\u001B[0mfit\u001B[0m\u001B[0;34m,\u001B[0m \u001B[0margs\u001B[0m\u001B[0;34m,\u001B[0m \u001B[0mkwargs\u001B[0m\u001B[0;34m)\u001B[0m\u001B[0;34m\u001B[0m\u001B[0;34m\u001B[0m\u001B[0m\n\u001B[1;32m   1424\u001B[0m         \u001B[0mautologging_client\u001B[0m \u001B[0;34m=\u001B[0m \u001B[0mMlflowAutologgingQueueingClient\u001B[0m\u001B[0;34m(\u001B[0m\u001B[0;34m)\u001B[0m\u001B[0;34m\u001B[0m\u001B[0;34m\u001B[0m\u001B[0m\n\u001B[1;32m   1425\u001B[0m         \u001B[0m_log_pretraining_metadata\u001B[0m\u001B[0;34m(\u001B[0m\u001B[0mautologging_client\u001B[0m\u001B[0;34m,\u001B[0m \u001B[0mself\u001B[0m\u001B[0;34m,\u001B[0m \u001B[0mX\u001B[0m\u001B[0;34m,\u001B[0m \u001B[0my_true\u001B[0m\u001B[0;34m)\u001B[0m\u001B[0;34m\u001B[0m\u001B[0;34m\u001B[0m\u001B[0m\n\u001B[1;32m   1426\u001B[0m         \u001B[0mparams_logging_future\u001B[0m \u001B[0;34m=\u001B[0m \u001B[0mautologging_client\u001B[0m\u001B[0;34m.\u001B[0m\u001B[0mflush\u001B[0m\u001B[0;34m(\u001B[0m\u001B[0msynchronous\u001B[0m\u001B[0;34m=\u001B[0m\u001B[0;32mFalse\u001B[0m\u001B[0;34m)\u001B[0m\u001B[0;34m\u001B[0m\u001B[0;34m\u001B[0m\u001B[0m\n\u001B[0;32m-> 1427\u001B[0;31m         \u001B[0mfit_output\u001B[0m \u001B[0;34m=\u001B[0m \u001B[0moriginal\u001B[0m\u001B[0;34m(\u001B[0m\u001B[0mself\u001B[0m\u001B[0;34m,\u001B[0m \u001B[0;34m*\u001B[0m\u001B[0margs\u001B[0m\u001B[0;34m,\u001B[0m \u001B[0;34m**\u001B[0m\u001B[0mkwargs\u001B[0m\u001B[0;34m)\u001B[0m\u001B[0;34m\u001B[0m\u001B[0;34m\u001B[0m\u001B[0m\n\u001B[0m\u001B[1;32m   1428\u001B[0m         \u001B[0m_log_posttraining_metadata\u001B[0m\u001B[0;34m(\u001B[0m\u001B[0mautologging_client\u001B[0m\u001B[0;34m,\u001B[0m \u001B[0mself\u001B[0m\u001B[0;34m,\u001B[0m \u001B[0mX\u001B[0m\u001B[0;34m,\u001B[0m \u001B[0my_true\u001B[0m\u001B[0;34m,\u001B[0m \u001B[0msample_weight\u001B[0m\u001B[0;34m)\u001B[0m\u001B[0;34m\u001B[0m\u001B[0;34m\u001B[0m\u001B[0m\n\u001B[1;32m   1429\u001B[0m         \u001B[0mautologging_client\u001B[0m\u001B[0;34m.\u001B[0m\u001B[0mflush\u001B[0m\u001B[0;34m(\u001B[0m\u001B[0msynchronous\u001B[0m\u001B[0;34m=\u001B[0m\u001B[0;32mTrue\u001B[0m\u001B[0;34m)\u001B[0m\u001B[0;34m\u001B[0m\u001B[0;34m\u001B[0m\u001B[0m\n\u001B[1;32m   1430\u001B[0m         \u001B[0mparams_logging_future\u001B[0m\u001B[0;34m.\u001B[0m\u001B[0mawait_completion\u001B[0m\u001B[0;34m(\u001B[0m\u001B[0;34m)\u001B[0m\u001B[0;34m\u001B[0m\u001B[0;34m\u001B[0m\u001B[0m\n",
        "\u001B[0;32m/databricks/python/lib/python3.11/site-packages/mlflow/utils/autologging_utils/safety.py\u001B[0m in \u001B[0;36m?\u001B[0;34m(*og_args, **og_kwargs)\u001B[0m\n\u001B[1;32m    555\u001B[0m                             ):\n\u001B[1;32m    556\u001B[0m                                 \u001B[0moriginal_result\u001B[0m \u001B[0;34m=\u001B[0m \u001B[0moriginal\u001B[0m\u001B[0;34m(\u001B[0m\u001B[0;34m*\u001B[0m\u001B[0m_og_args\u001B[0m\u001B[0;34m,\u001B[0m \u001B[0;34m**\u001B[0m\u001B[0m_og_kwargs\u001B[0m\u001B[0;34m)\u001B[0m\u001B[0;34m\u001B[0m\u001B[0;34m\u001B[0m\u001B[0m\n\u001B[1;32m    557\u001B[0m                                 \u001B[0;32mreturn\u001B[0m \u001B[0moriginal_result\u001B[0m\u001B[0;34m\u001B[0m\u001B[0;34m\u001B[0m\u001B[0m\n\u001B[1;32m    558\u001B[0m \u001B[0;34m\u001B[0m\u001B[0m\n\u001B[0;32m--> 559\u001B[0;31m                         \u001B[0;32mreturn\u001B[0m \u001B[0mcall_original_fn_with_event_logging\u001B[0m\u001B[0;34m(\u001B[0m\u001B[0m_original_fn\u001B[0m\u001B[0;34m,\u001B[0m \u001B[0mog_args\u001B[0m\u001B[0;34m,\u001B[0m \u001B[0mog_kwargs\u001B[0m\u001B[0;34m)\u001B[0m\u001B[0;34m\u001B[0m\u001B[0;34m\u001B[0m\u001B[0m\n\u001B[0m",
        "\u001B[0;32m/databricks/python/lib/python3.11/site-packages/mlflow/utils/autologging_utils/safety.py\u001B[0m in \u001B[0;36m?\u001B[0;34m(original_fn, og_args, og_kwargs)\u001B[0m\n\u001B[1;32m    514\u001B[0m                     )\n\u001B[1;32m    515\u001B[0m \u001B[0;34m\u001B[0m\u001B[0m\n\u001B[1;32m    516\u001B[0m                     \u001B[0;32mnonlocal\u001B[0m \u001B[0mfailed_during_original\u001B[0m\u001B[0;34m\u001B[0m\u001B[0;34m\u001B[0m\u001B[0m\n\u001B[1;32m    517\u001B[0m                     \u001B[0mfailed_during_original\u001B[0m \u001B[0;34m=\u001B[0m \u001B[0;32mTrue\u001B[0m\u001B[0;34m\u001B[0m\u001B[0;34m\u001B[0m\u001B[0m\n\u001B[0;32m--> 518\u001B[0;31m                     \u001B[0;32mraise\u001B[0m\u001B[0;34m\u001B[0m\u001B[0;34m\u001B[0m\u001B[0m\n\u001B[0m",
        "\u001B[0;32m/databricks/python/lib/python3.11/site-packages/mlflow/utils/autologging_utils/safety.py\u001B[0m in \u001B[0;36m?\u001B[0;34m(*_og_args, **_og_kwargs)\u001B[0m\n\u001B[1;32m    552\u001B[0m                             with set_non_mlflow_warnings_behavior_for_current_thread(\n\u001B[1;32m    553\u001B[0m                                 \u001B[0mdisable_warnings\u001B[0m\u001B[0;34m=\u001B[0m\u001B[0;32mFalse\u001B[0m\u001B[0;34m,\u001B[0m\u001B[0;34m\u001B[0m\u001B[0;34m\u001B[0m\u001B[0m\n\u001B[1;32m    554\u001B[0m                                 \u001B[0mreroute_warnings\u001B[0m\u001B[0;34m=\u001B[0m\u001B[0;32mFalse\u001B[0m\u001B[0;34m,\u001B[0m\u001B[0;34m\u001B[0m\u001B[0;34m\u001B[0m\u001B[0m\n\u001B[1;32m    555\u001B[0m                             ):\n\u001B[0;32m--> 556\u001B[0;31m                                 \u001B[0moriginal_result\u001B[0m \u001B[0;34m=\u001B[0m \u001B[0moriginal\u001B[0m\u001B[0;34m(\u001B[0m\u001B[0;34m*\u001B[0m\u001B[0m_og_args\u001B[0m\u001B[0;34m,\u001B[0m \u001B[0;34m**\u001B[0m\u001B[0m_og_kwargs\u001B[0m\u001B[0;34m)\u001B[0m\u001B[0;34m\u001B[0m\u001B[0;34m\u001B[0m\u001B[0m\n\u001B[0m\u001B[1;32m    557\u001B[0m                                 \u001B[0;32mreturn\u001B[0m \u001B[0moriginal_result\u001B[0m\u001B[0;34m\u001B[0m\u001B[0;34m\u001B[0m\u001B[0m\n",
        "\u001B[0;32m/databricks/python_shell/lib/dbruntime/MLWorkloadsInstrumentation/_sklearn.py\u001B[0m in \u001B[0;36m?\u001B[0;34m(self, *args, **kwargs)\u001B[0m\n\u001B[1;32m     31\u001B[0m                 \u001B[0;32mreturn\u001B[0m \u001B[0moriginal_result\u001B[0m\u001B[0;34m\u001B[0m\u001B[0;34m\u001B[0m\u001B[0m\n\u001B[1;32m     32\u001B[0m             \u001B[0;32mfinally\u001B[0m\u001B[0;34m:\u001B[0m\u001B[0;34m\u001B[0m\u001B[0;34m\u001B[0m\u001B[0m\n\u001B[1;32m     33\u001B[0m                 \u001B[0;32mtry\u001B[0m\u001B[0;34m:\u001B[0m\u001B[0;34m\u001B[0m\u001B[0;34m\u001B[0m\u001B[0m\n\u001B[1;32m     34\u001B[0m                     \u001B[0;32mif\u001B[0m \u001B[0msess\u001B[0m\u001B[0;34m.\u001B[0m\u001B[0mshould_log\u001B[0m\u001B[0;34m(\u001B[0m\u001B[0;34m)\u001B[0m \u001B[0;32mand\u001B[0m \u001B[0m_is_allowlisted\u001B[0m\u001B[0;34m(\u001B[0m\u001B[0mself\u001B[0m\u001B[0;34m,\u001B[0m \u001B[0mallowlist\u001B[0m\u001B[0;34m)\u001B[0m\u001B[0;34m:\u001B[0m\u001B[0;34m\u001B[0m\u001B[0;34m\u001B[0m\u001B[0m\n\u001B[0;32m---> 35\u001B[0;31m                         func_call_logger.log(\n\u001B[0m\u001B[1;32m     36\u001B[0m                             \u001B[0mmodel_class\u001B[0m\u001B[0;34m=\u001B[0m\u001B[0m_get_fully_qualified_class_name\u001B[0m\u001B[0;34m(\u001B[0m\u001B[0mself\u001B[0m\u001B[0;34m)\u001B[0m\u001B[0;34m,\u001B[0m\u001B[0;34m\u001B[0m\u001B[0;34m\u001B[0m\u001B[0m\n\u001B[1;32m     37\u001B[0m                             \u001B[0mmodel_function\u001B[0m\u001B[0;34m=\u001B[0m\u001B[0mfunction_name\u001B[0m\u001B[0;34m,\u001B[0m\u001B[0;34m\u001B[0m\u001B[0;34m\u001B[0m\u001B[0m\n\u001B[1;32m     38\u001B[0m                             \u001B[0mworkload_type\u001B[0m\u001B[0;34m=\u001B[0m\u001B[0m_map_func_to_ml_workload_type\u001B[0m\u001B[0;34m(\u001B[0m\u001B[0mfunction_name\u001B[0m\u001B[0;34m)\u001B[0m\u001B[0;34m,\u001B[0m\u001B[0;34m\u001B[0m\u001B[0;34m\u001B[0m\u001B[0m\n",
        "\u001B[0;32m/databricks/python/lib/python3.11/site-packages/sklearn/base.py\u001B[0m in \u001B[0;36m?\u001B[0;34m(estimator, *args, **kwargs)\u001B[0m\n\u001B[1;32m   1147\u001B[0m                 skip_parameter_validation=(\n\u001B[1;32m   1148\u001B[0m                     \u001B[0mprefer_skip_nested_validation\u001B[0m \u001B[0;32mor\u001B[0m \u001B[0mglobal_skip_validation\u001B[0m\u001B[0;34m\u001B[0m\u001B[0;34m\u001B[0m\u001B[0m\n\u001B[1;32m   1149\u001B[0m                 )\n\u001B[1;32m   1150\u001B[0m             ):\n\u001B[0;32m-> 1151\u001B[0;31m                 \u001B[0;32mreturn\u001B[0m \u001B[0mfit_method\u001B[0m\u001B[0;34m(\u001B[0m\u001B[0mestimator\u001B[0m\u001B[0;34m,\u001B[0m \u001B[0;34m*\u001B[0m\u001B[0margs\u001B[0m\u001B[0;34m,\u001B[0m \u001B[0;34m**\u001B[0m\u001B[0mkwargs\u001B[0m\u001B[0;34m)\u001B[0m\u001B[0;34m\u001B[0m\u001B[0;34m\u001B[0m\u001B[0m\n\u001B[0m",
        "\u001B[0;32m/databricks/python/lib/python3.11/site-packages/sklearn/linear_model/_base.py\u001B[0m in \u001B[0;36m?\u001B[0;34m(self, X, y, sample_weight)\u001B[0m\n\u001B[1;32m    674\u001B[0m         \u001B[0mn_jobs_\u001B[0m \u001B[0;34m=\u001B[0m \u001B[0mself\u001B[0m\u001B[0;34m.\u001B[0m\u001B[0mn_jobs\u001B[0m\u001B[0;34m\u001B[0m\u001B[0;34m\u001B[0m\u001B[0m\n\u001B[1;32m    675\u001B[0m \u001B[0;34m\u001B[0m\u001B[0m\n\u001B[1;32m    676\u001B[0m         \u001B[0maccept_sparse\u001B[0m \u001B[0;34m=\u001B[0m \u001B[0;32mFalse\u001B[0m \u001B[0;32mif\u001B[0m \u001B[0mself\u001B[0m\u001B[0;34m.\u001B[0m\u001B[0mpositive\u001B[0m \u001B[0;32melse\u001B[0m \u001B[0;34m[\u001B[0m\u001B[0;34m\"csr\"\u001B[0m\u001B[0;34m,\u001B[0m \u001B[0;34m\"csc\"\u001B[0m\u001B[0;34m,\u001B[0m \u001B[0;34m\"coo\"\u001B[0m\u001B[0;34m]\u001B[0m\u001B[0;34m\u001B[0m\u001B[0;34m\u001B[0m\u001B[0m\n\u001B[1;32m    677\u001B[0m \u001B[0;34m\u001B[0m\u001B[0m\n\u001B[0;32m--> 678\u001B[0;31m         X, y = self._validate_data(\n\u001B[0m\u001B[1;32m    679\u001B[0m             \u001B[0mX\u001B[0m\u001B[0;34m,\u001B[0m \u001B[0my\u001B[0m\u001B[0;34m,\u001B[0m \u001B[0maccept_sparse\u001B[0m\u001B[0;34m=\u001B[0m\u001B[0maccept_sparse\u001B[0m\u001B[0;34m,\u001B[0m \u001B[0my_numeric\u001B[0m\u001B[0;34m=\u001B[0m\u001B[0;32mTrue\u001B[0m\u001B[0;34m,\u001B[0m \u001B[0mmulti_output\u001B[0m\u001B[0;34m=\u001B[0m\u001B[0;32mTrue\u001B[0m\u001B[0;34m\u001B[0m\u001B[0;34m\u001B[0m\u001B[0m\n\u001B[1;32m    680\u001B[0m         )\n\u001B[1;32m    681\u001B[0m \u001B[0;34m\u001B[0m\u001B[0m\n",
        "\u001B[0;32m/databricks/python/lib/python3.11/site-packages/sklearn/base.py\u001B[0m in \u001B[0;36m?\u001B[0;34m(self, X, y, reset, validate_separately, cast_to_ndarray, **check_params)\u001B[0m\n\u001B[1;32m    617\u001B[0m                 \u001B[0;32mif\u001B[0m \u001B[0;34m\"estimator\"\u001B[0m \u001B[0;32mnot\u001B[0m \u001B[0;32min\u001B[0m \u001B[0mcheck_y_params\u001B[0m\u001B[0;34m:\u001B[0m\u001B[0;34m\u001B[0m\u001B[0;34m\u001B[0m\u001B[0m\n\u001B[1;32m    618\u001B[0m                     \u001B[0mcheck_y_params\u001B[0m \u001B[0;34m=\u001B[0m \u001B[0;34m{\u001B[0m\u001B[0;34m**\u001B[0m\u001B[0mdefault_check_params\u001B[0m\u001B[0;34m,\u001B[0m \u001B[0;34m**\u001B[0m\u001B[0mcheck_y_params\u001B[0m\u001B[0;34m}\u001B[0m\u001B[0;34m\u001B[0m\u001B[0;34m\u001B[0m\u001B[0m\n\u001B[1;32m    619\u001B[0m                 \u001B[0my\u001B[0m \u001B[0;34m=\u001B[0m \u001B[0mcheck_array\u001B[0m\u001B[0;34m(\u001B[0m\u001B[0my\u001B[0m\u001B[0;34m,\u001B[0m \u001B[0minput_name\u001B[0m\u001B[0;34m=\u001B[0m\u001B[0;34m\"y\"\u001B[0m\u001B[0;34m,\u001B[0m \u001B[0;34m**\u001B[0m\u001B[0mcheck_y_params\u001B[0m\u001B[0;34m)\u001B[0m\u001B[0;34m\u001B[0m\u001B[0;34m\u001B[0m\u001B[0m\n\u001B[1;32m    620\u001B[0m             \u001B[0;32melse\u001B[0m\u001B[0;34m:\u001B[0m\u001B[0;34m\u001B[0m\u001B[0;34m\u001B[0m\u001B[0m\n\u001B[0;32m--> 621\u001B[0;31m                 \u001B[0mX\u001B[0m\u001B[0;34m,\u001B[0m \u001B[0my\u001B[0m \u001B[0;34m=\u001B[0m \u001B[0mcheck_X_y\u001B[0m\u001B[0;34m(\u001B[0m\u001B[0mX\u001B[0m\u001B[0;34m,\u001B[0m \u001B[0my\u001B[0m\u001B[0;34m,\u001B[0m \u001B[0;34m**\u001B[0m\u001B[0mcheck_params\u001B[0m\u001B[0;34m)\u001B[0m\u001B[0;34m\u001B[0m\u001B[0;34m\u001B[0m\u001B[0m\n\u001B[0m\u001B[1;32m    622\u001B[0m             \u001B[0mout\u001B[0m \u001B[0;34m=\u001B[0m \u001B[0mX\u001B[0m\u001B[0;34m,\u001B[0m \u001B[0my\u001B[0m\u001B[0;34m\u001B[0m\u001B[0;34m\u001B[0m\u001B[0m\n\u001B[1;32m    623\u001B[0m \u001B[0;34m\u001B[0m\u001B[0m\n\u001B[1;32m    624\u001B[0m         \u001B[0;32mif\u001B[0m \u001B[0;32mnot\u001B[0m \u001B[0mno_val_X\u001B[0m \u001B[0;32mand\u001B[0m \u001B[0mcheck_params\u001B[0m\u001B[0;34m.\u001B[0m\u001B[0mget\u001B[0m\u001B[0;34m(\u001B[0m\u001B[0;34m\"ensure_2d\"\u001B[0m\u001B[0;34m,\u001B[0m \u001B[0;32mTrue\u001B[0m\u001B[0;34m)\u001B[0m\u001B[0;34m:\u001B[0m\u001B[0;34m\u001B[0m\u001B[0;34m\u001B[0m\u001B[0m\n",
        "\u001B[0;32m/databricks/python/lib/python3.11/site-packages/sklearn/utils/validation.py\u001B[0m in \u001B[0;36m?\u001B[0;34m(X, y, accept_sparse, accept_large_sparse, dtype, order, copy, force_all_finite, ensure_2d, allow_nd, multi_output, ensure_min_samples, ensure_min_features, y_numeric, estimator)\u001B[0m\n\u001B[1;32m   1143\u001B[0m         raise ValueError(\n\u001B[1;32m   1144\u001B[0m             \u001B[0;34mf\"{estimator_name} requires y to be passed, but the target y is None\"\u001B[0m\u001B[0;34m\u001B[0m\u001B[0;34m\u001B[0m\u001B[0m\n\u001B[1;32m   1145\u001B[0m         )\n\u001B[1;32m   1146\u001B[0m \u001B[0;34m\u001B[0m\u001B[0m\n\u001B[0;32m-> 1147\u001B[0;31m     X = check_array(\n\u001B[0m\u001B[1;32m   1148\u001B[0m         \u001B[0mX\u001B[0m\u001B[0;34m,\u001B[0m\u001B[0;34m\u001B[0m\u001B[0;34m\u001B[0m\u001B[0m\n\u001B[1;32m   1149\u001B[0m         \u001B[0maccept_sparse\u001B[0m\u001B[0;34m=\u001B[0m\u001B[0maccept_sparse\u001B[0m\u001B[0;34m,\u001B[0m\u001B[0;34m\u001B[0m\u001B[0;34m\u001B[0m\u001B[0m\n\u001B[1;32m   1150\u001B[0m         \u001B[0maccept_large_sparse\u001B[0m\u001B[0;34m=\u001B[0m\u001B[0maccept_large_sparse\u001B[0m\u001B[0;34m,\u001B[0m\u001B[0;34m\u001B[0m\u001B[0;34m\u001B[0m\u001B[0m\n",
        "\u001B[0;32m/databricks/python/lib/python3.11/site-packages/sklearn/utils/validation.py\u001B[0m in \u001B[0;36m?\u001B[0;34m(array, accept_sparse, accept_large_sparse, dtype, order, copy, force_all_finite, ensure_2d, allow_nd, ensure_min_samples, ensure_min_features, estimator, input_name)\u001B[0m\n\u001B[1;32m    914\u001B[0m                         )\n\u001B[1;32m    915\u001B[0m                     \u001B[0marray\u001B[0m \u001B[0;34m=\u001B[0m \u001B[0mxp\u001B[0m\u001B[0;34m.\u001B[0m\u001B[0mastype\u001B[0m\u001B[0;34m(\u001B[0m\u001B[0marray\u001B[0m\u001B[0;34m,\u001B[0m \u001B[0mdtype\u001B[0m\u001B[0;34m,\u001B[0m \u001B[0mcopy\u001B[0m\u001B[0;34m=\u001B[0m\u001B[0;32mFalse\u001B[0m\u001B[0;34m)\u001B[0m\u001B[0;34m\u001B[0m\u001B[0;34m\u001B[0m\u001B[0m\n\u001B[1;32m    916\u001B[0m                 \u001B[0;32melse\u001B[0m\u001B[0;34m:\u001B[0m\u001B[0;34m\u001B[0m\u001B[0;34m\u001B[0m\u001B[0m\n\u001B[1;32m    917\u001B[0m                     \u001B[0marray\u001B[0m \u001B[0;34m=\u001B[0m \u001B[0m_asarray_with_order\u001B[0m\u001B[0;34m(\u001B[0m\u001B[0marray\u001B[0m\u001B[0;34m,\u001B[0m \u001B[0morder\u001B[0m\u001B[0;34m=\u001B[0m\u001B[0morder\u001B[0m\u001B[0;34m,\u001B[0m \u001B[0mdtype\u001B[0m\u001B[0;34m=\u001B[0m\u001B[0mdtype\u001B[0m\u001B[0;34m,\u001B[0m \u001B[0mxp\u001B[0m\u001B[0;34m=\u001B[0m\u001B[0mxp\u001B[0m\u001B[0;34m)\u001B[0m\u001B[0;34m\u001B[0m\u001B[0;34m\u001B[0m\u001B[0m\n\u001B[0;32m--> 918\u001B[0;31m             \u001B[0;32mexcept\u001B[0m \u001B[0mComplexWarning\u001B[0m \u001B[0;32mas\u001B[0m \u001B[0mcomplex_warning\u001B[0m\u001B[0;34m:\u001B[0m\u001B[0;34m\u001B[0m\u001B[0;34m\u001B[0m\u001B[0m\n\u001B[0m\u001B[1;32m    919\u001B[0m                 raise ValueError(\n\u001B[1;32m    920\u001B[0m                     \u001B[0;34m\"Complex data not supported\\n{}\\n\"\u001B[0m\u001B[0;34m.\u001B[0m\u001B[0mformat\u001B[0m\u001B[0;34m(\u001B[0m\u001B[0marray\u001B[0m\u001B[0;34m)\u001B[0m\u001B[0;34m\u001B[0m\u001B[0;34m\u001B[0m\u001B[0m\n\u001B[1;32m    921\u001B[0m                 ) from complex_warning\n",
        "\u001B[0;32m/databricks/python/lib/python3.11/site-packages/sklearn/utils/_array_api.py\u001B[0m in \u001B[0;36m?\u001B[0;34m(array, dtype, order, copy, xp)\u001B[0m\n\u001B[1;32m    376\u001B[0m         \u001B[0;31m# Use NumPy API to support order\u001B[0m\u001B[0;34m\u001B[0m\u001B[0;34m\u001B[0m\u001B[0m\n\u001B[1;32m    377\u001B[0m         \u001B[0;32mif\u001B[0m \u001B[0mcopy\u001B[0m \u001B[0;32mis\u001B[0m \u001B[0;32mTrue\u001B[0m\u001B[0;34m:\u001B[0m\u001B[0;34m\u001B[0m\u001B[0;34m\u001B[0m\u001B[0m\n\u001B[1;32m    378\u001B[0m             \u001B[0marray\u001B[0m \u001B[0;34m=\u001B[0m \u001B[0mnumpy\u001B[0m\u001B[0;34m.\u001B[0m\u001B[0marray\u001B[0m\u001B[0;34m(\u001B[0m\u001B[0marray\u001B[0m\u001B[0;34m,\u001B[0m \u001B[0morder\u001B[0m\u001B[0;34m=\u001B[0m\u001B[0morder\u001B[0m\u001B[0;34m,\u001B[0m \u001B[0mdtype\u001B[0m\u001B[0;34m=\u001B[0m\u001B[0mdtype\u001B[0m\u001B[0;34m)\u001B[0m\u001B[0;34m\u001B[0m\u001B[0;34m\u001B[0m\u001B[0m\n\u001B[1;32m    379\u001B[0m         \u001B[0;32melse\u001B[0m\u001B[0;34m:\u001B[0m\u001B[0;34m\u001B[0m\u001B[0;34m\u001B[0m\u001B[0m\n\u001B[0;32m--> 380\u001B[0;31m             \u001B[0marray\u001B[0m \u001B[0;34m=\u001B[0m \u001B[0mnumpy\u001B[0m\u001B[0;34m.\u001B[0m\u001B[0masarray\u001B[0m\u001B[0;34m(\u001B[0m\u001B[0marray\u001B[0m\u001B[0;34m,\u001B[0m \u001B[0morder\u001B[0m\u001B[0;34m=\u001B[0m\u001B[0morder\u001B[0m\u001B[0;34m,\u001B[0m \u001B[0mdtype\u001B[0m\u001B[0;34m=\u001B[0m\u001B[0mdtype\u001B[0m\u001B[0;34m)\u001B[0m\u001B[0;34m\u001B[0m\u001B[0;34m\u001B[0m\u001B[0m\n\u001B[0m\u001B[1;32m    381\u001B[0m \u001B[0;34m\u001B[0m\u001B[0m\n\u001B[1;32m    382\u001B[0m         \u001B[0;31m# At this point array is a NumPy ndarray. We convert it to an array\u001B[0m\u001B[0;34m\u001B[0m\u001B[0;34m\u001B[0m\u001B[0m\n\u001B[1;32m    383\u001B[0m         \u001B[0;31m# container that is consistent with the input's namespace.\u001B[0m\u001B[0;34m\u001B[0m\u001B[0;34m\u001B[0m\u001B[0m\n",
        "\u001B[0;32m/databricks/python/lib/python3.11/site-packages/pandas/core/generic.py\u001B[0m in \u001B[0;36m?\u001B[0;34m(self, dtype)\u001B[0m\n\u001B[1;32m   2069\u001B[0m     \u001B[0;32mdef\u001B[0m \u001B[0m__array__\u001B[0m\u001B[0;34m(\u001B[0m\u001B[0mself\u001B[0m\u001B[0;34m,\u001B[0m \u001B[0mdtype\u001B[0m\u001B[0;34m:\u001B[0m \u001B[0mnpt\u001B[0m\u001B[0;34m.\u001B[0m\u001B[0mDTypeLike\u001B[0m \u001B[0;34m|\u001B[0m \u001B[0;32mNone\u001B[0m \u001B[0;34m=\u001B[0m \u001B[0;32mNone\u001B[0m\u001B[0;34m)\u001B[0m \u001B[0;34m->\u001B[0m \u001B[0mnp\u001B[0m\u001B[0;34m.\u001B[0m\u001B[0mndarray\u001B[0m\u001B[0;34m:\u001B[0m\u001B[0;34m\u001B[0m\u001B[0;34m\u001B[0m\u001B[0m\n\u001B[0;32m-> 2070\u001B[0;31m         \u001B[0;32mreturn\u001B[0m \u001B[0mnp\u001B[0m\u001B[0;34m.\u001B[0m\u001B[0masarray\u001B[0m\u001B[0;34m(\u001B[0m\u001B[0mself\u001B[0m\u001B[0;34m.\u001B[0m\u001B[0m_values\u001B[0m\u001B[0;34m,\u001B[0m \u001B[0mdtype\u001B[0m\u001B[0;34m=\u001B[0m\u001B[0mdtype\u001B[0m\u001B[0;34m)\u001B[0m\u001B[0;34m\u001B[0m\u001B[0;34m\u001B[0m\u001B[0m\n\u001B[0m",
        "\u001B[0;31mValueError\u001B[0m: could not convert string to float: 'N'"
       ],
       "type": "baseError"
      }
     },
     "output_type": "display_data"
    }
   ],
   "source": [
    "from sklearn.linear_model import LinearRegression\n",
    "\n",
    "# Create the Linear Regression model\n",
    "lr_model = LinearRegression()\n",
    "\n",
    "# Train the model\n",
    "lr_model.fit(X_train, y_train)\n"
   ]
  },
  {
   "cell_type": "code",
   "execution_count": 0,
   "metadata": {
    "application/vnd.databricks.v1+cell": {
     "cellMetadata": {
      "byteLimit": 2048000,
      "rowLimit": 10000
     },
     "inputWidgets": {},
     "nuid": "a10b9cad-b68d-4014-ad89-e5a480eb82bc",
     "showTitle": false,
     "tableResultSettingsMap": {},
     "title": ""
    }
   },
   "outputs": [
    {
     "output_type": "execute_result",
     "data": {
      "text/html": [
       "<style>#sk-container-id-2 {color: black;}#sk-container-id-2 pre{padding: 0;}#sk-container-id-2 div.sk-toggleable {background-color: white;}#sk-container-id-2 label.sk-toggleable__label {cursor: pointer;display: block;width: 100%;margin-bottom: 0;padding: 0.3em;box-sizing: border-box;text-align: center;}#sk-container-id-2 label.sk-toggleable__label-arrow:before {content: \"▸\";float: left;margin-right: 0.25em;color: #696969;}#sk-container-id-2 label.sk-toggleable__label-arrow:hover:before {color: black;}#sk-container-id-2 div.sk-estimator:hover label.sk-toggleable__label-arrow:before {color: black;}#sk-container-id-2 div.sk-toggleable__content {max-height: 0;max-width: 0;overflow: hidden;text-align: left;background-color: #f0f8ff;}#sk-container-id-2 div.sk-toggleable__content pre {margin: 0.2em;color: black;border-radius: 0.25em;background-color: #f0f8ff;}#sk-container-id-2 input.sk-toggleable__control:checked~div.sk-toggleable__content {max-height: 200px;max-width: 100%;overflow: auto;}#sk-container-id-2 input.sk-toggleable__control:checked~label.sk-toggleable__label-arrow:before {content: \"▾\";}#sk-container-id-2 div.sk-estimator input.sk-toggleable__control:checked~label.sk-toggleable__label {background-color: #d4ebff;}#sk-container-id-2 div.sk-label input.sk-toggleable__control:checked~label.sk-toggleable__label {background-color: #d4ebff;}#sk-container-id-2 input.sk-hidden--visually {border: 0;clip: rect(1px 1px 1px 1px);clip: rect(1px, 1px, 1px, 1px);height: 1px;margin: -1px;overflow: hidden;padding: 0;position: absolute;width: 1px;}#sk-container-id-2 div.sk-estimator {font-family: monospace;background-color: #f0f8ff;border: 1px dotted black;border-radius: 0.25em;box-sizing: border-box;margin-bottom: 0.5em;}#sk-container-id-2 div.sk-estimator:hover {background-color: #d4ebff;}#sk-container-id-2 div.sk-parallel-item::after {content: \"\";width: 100%;border-bottom: 1px solid gray;flex-grow: 1;}#sk-container-id-2 div.sk-label:hover label.sk-toggleable__label {background-color: #d4ebff;}#sk-container-id-2 div.sk-serial::before {content: \"\";position: absolute;border-left: 1px solid gray;box-sizing: border-box;top: 0;bottom: 0;left: 50%;z-index: 0;}#sk-container-id-2 div.sk-serial {display: flex;flex-direction: column;align-items: center;background-color: white;padding-right: 0.2em;padding-left: 0.2em;position: relative;}#sk-container-id-2 div.sk-item {position: relative;z-index: 1;}#sk-container-id-2 div.sk-parallel {display: flex;align-items: stretch;justify-content: center;background-color: white;position: relative;}#sk-container-id-2 div.sk-item::before, #sk-container-id-2 div.sk-parallel-item::before {content: \"\";position: absolute;border-left: 1px solid gray;box-sizing: border-box;top: 0;bottom: 0;left: 50%;z-index: -1;}#sk-container-id-2 div.sk-parallel-item {display: flex;flex-direction: column;z-index: 1;position: relative;background-color: white;}#sk-container-id-2 div.sk-parallel-item:first-child::after {align-self: flex-end;width: 50%;}#sk-container-id-2 div.sk-parallel-item:last-child::after {align-self: flex-start;width: 50%;}#sk-container-id-2 div.sk-parallel-item:only-child::after {width: 0;}#sk-container-id-2 div.sk-dashed-wrapped {border: 1px dashed gray;margin: 0 0.4em 0.5em 0.4em;box-sizing: border-box;padding-bottom: 0.4em;background-color: white;}#sk-container-id-2 div.sk-label label {font-family: monospace;font-weight: bold;display: inline-block;line-height: 1.2em;}#sk-container-id-2 div.sk-label-container {text-align: center;}#sk-container-id-2 div.sk-container {/* jupyter's `normalize.less` sets `[hidden] { display: none; }` but bootstrap.min.css set `[hidden] { display: none !important; }` so we also need the `!important` here to be able to override the default hidden behavior on the sphinx rendered scikit-learn.org. See: https://github.com/scikit-learn/scikit-learn/issues/21755 */display: inline-block !important;position: relative;}#sk-container-id-2 div.sk-text-repr-fallback {display: none;}</style><div id=\"sk-container-id-2\" class=\"sk-top-container\"><div class=\"sk-text-repr-fallback\"><pre>LinearRegression()</pre><b>In a Jupyter environment, please rerun this cell to show the HTML representation or trust the notebook. <br />On GitHub, the HTML representation is unable to render, please try loading this page with nbviewer.org.</b></div><div class=\"sk-container\" hidden><div class=\"sk-item\"><div class=\"sk-estimator sk-toggleable\"><input class=\"sk-toggleable__control sk-hidden--visually\" id=\"sk-estimator-id-2\" type=\"checkbox\" checked><label for=\"sk-estimator-id-2\" class=\"sk-toggleable__label sk-toggleable__label-arrow\">LinearRegression</label><div class=\"sk-toggleable__content\"><pre>LinearRegression()</pre></div></div></div></div></div>"
      ],
      "text/plain": [
       "LinearRegression()"
      ]
     },
     "execution_count": 87,
     "metadata": {},
     "output_type": "execute_result"
    }
   ],
   "source": [
    "# Drop any columns with object (string) type\n",
    "X_numeric = X.select_dtypes(include=['int64', 'float64'])\n",
    "\n",
    "# Now redo the train/test split with numeric features only\n",
    "X_train, X_test, y_train, y_test = train_test_split(\n",
    "    X_numeric, y, test_size=0.2, random_state=42\n",
    ")\n",
    "\n",
    "# Train again\n",
    "lr_model = LinearRegression()\n",
    "lr_model.fit(X_train, y_train)\n"
   ]
  },
  {
   "cell_type": "code",
   "execution_count": 0,
   "metadata": {
    "application/vnd.databricks.v1+cell": {
     "cellMetadata": {
      "byteLimit": 2048000,
      "rowLimit": 10000
     },
     "inputWidgets": {},
     "nuid": "b3d3fb42-7837-4482-9365-3d5b074bdd57",
     "showTitle": false,
     "tableResultSettingsMap": {},
     "title": ""
    }
   },
   "outputs": [],
   "source": [
    "y_pred = lr_model.predict(X_test)\n"
   ]
  },
  {
   "cell_type": "code",
   "execution_count": 0,
   "metadata": {
    "application/vnd.databricks.v1+cell": {
     "cellMetadata": {
      "byteLimit": 2048000,
      "rowLimit": 10000
     },
     "inputWidgets": {},
     "nuid": "ed98c964-e757-4886-8c18-7d0c2705c399",
     "showTitle": false,
     "tableResultSettingsMap": {},
     "title": ""
    }
   },
   "outputs": [
    {
     "output_type": "stream",
     "name": "stdout",
     "output_type": "stream",
     "text": [
      "MAE: 6.57\nRMSE: 28.69\nR² Score: 0.07\n"
     ]
    }
   ],
   "source": [
    "from sklearn.metrics import mean_absolute_error, mean_squared_error, r2_score\n",
    "import numpy as np\n",
    "\n",
    "mae = mean_absolute_error(y_test, y_pred)\n",
    "rmse = np.sqrt(mean_squared_error(y_test, y_pred))\n",
    "r2 = r2_score(y_test, y_pred)\n",
    "\n",
    "print(f\"MAE: {mae:.2f}\")\n",
    "print(f\"RMSE: {rmse:.2f}\")\n",
    "print(f\"R² Score: {r2:.2f}\")\n"
   ]
  },
  {
   "cell_type": "code",
   "execution_count": 0,
   "metadata": {
    "application/vnd.databricks.v1+cell": {
     "cellMetadata": {
      "byteLimit": 2048000,
      "rowLimit": 10000
     },
     "inputWidgets": {},
     "nuid": "69ce0c07-86d6-494b-b892-f246c2e9b615",
     "showTitle": false,
     "tableResultSettingsMap": {},
     "title": ""
    }
   },
   "outputs": [
    {
     "output_type": "display_data",
     "data": {
      "image/png": "[encoded data removed]",
      "text/plain": [
       "<Figure size 800x600 with 1 Axes>"
      ]
     },
     "metadata": {},
     "output_type": "display_data"
    }
   ],
   "source": [
    "import matplotlib.pyplot as plt\n",
    "\n",
    "plt.figure(figsize=(8, 6))\n",
    "plt.scatter(y_test, y_pred, alpha=0.5)\n",
    "plt.plot([0, max(y_test)], [0, max(y_test)], color='red', linestyle='--', label='Perfect Prediction')\n",
    "plt.xlabel(\"Actual Trip Duration\")\n",
    "plt.ylabel(\"Predicted Trip Duration\")\n",
    "plt.title(\"Actual vs. Predicted Trip Duration\")\n",
    "plt.legend()\n",
    "plt.grid(True)\n",
    "plt.show()\n"
   ]
  },
  {
   "cell_type": "code",
   "execution_count": 0,
   "metadata": {
    "application/vnd.databricks.v1+cell": {
     "cellMetadata": {
      "byteLimit": 2048000,
      "rowLimit": 10000
     },
     "inputWidgets": {},
     "nuid": "d373a831-3179-4d30-9a0e-78e4bddef4fa",
     "showTitle": false,
     "tableResultSettingsMap": {},
     "title": ""
    }
   },
   "outputs": [
    {
     "output_type": "stream",
     "name": "stdout",
     "output_type": "stream",
     "text": [
      "+-------+-------------------+\n|summary|      trip_duration|\n+-------+-------------------+\n|  count|            2935077|\n|   mean| 14.955576173982823|\n| stddev|  41.91287837060689|\n|    min|-51472.316666666666|\n|    max|  5626.316666666667|\n+-------+-------------------+\n\n"
     ]
    }
   ],
   "source": [
    "df.select(\"trip_duration\").describe().show()\n"
   ]
  },
  {
   "cell_type": "code",
   "execution_count": 0,
   "metadata": {
    "application/vnd.databricks.v1+cell": {
     "cellMetadata": {
      "byteLimit": 2048000,
      "rowLimit": 10000
     },
     "inputWidgets": {},
     "nuid": "3022c37b-955a-4997-9440-08951a880bf0",
     "showTitle": false,
     "tableResultSettingsMap": {},
     "title": ""
    }
   },
   "outputs": [
    {
     "output_type": "display_data",
     "data": {
      "image/png": "[encoded data removed]",
      "text/plain": [
       "<Figure size 800x600 with 1 Axes>"
      ]
     },
     "metadata": {},
     "output_type": "display_data"
    }
   ],
   "source": [
    "plt.figure(figsize=(8, 6))\n",
    "plt.scatter(y_test, y_pred, alpha=0.5)\n",
    "plt.plot([0, max(y_test)], [0, max(y_test)], color='red', linestyle='--', label='Perfect Prediction')\n",
    "plt.xlabel(\"Actual Trip Duration\")\n",
    "plt.ylabel(\"Predicted Trip Duration\")\n",
    "plt.title(\"Actual vs. Predicted Trip Duration (Zoomed In)\")\n",
    "plt.xlim(0, 1000)\n",
    "plt.ylim(0, 1000)\n",
    "plt.legend()\n",
    "plt.grid(True)\n",
    "plt.show()\n"
   ]
  },
  {
   "cell_type": "code",
   "execution_count": 0,
   "metadata": {
    "application/vnd.databricks.v1+cell": {
     "cellMetadata": {
      "byteLimit": 2048000,
      "rowLimit": 10000
     },
     "inputWidgets": {},
     "nuid": "54e526ae-c647-44b7-820b-cf850bf037f1",
     "showTitle": false,
     "tableResultSettingsMap": {},
     "title": ""
    }
   },
   "outputs": [],
   "source": [
    "df = df.withColumn(\"trip_duration_minutes\", df[\"trip_duration\"] / 60)\n"
   ]
  },
  {
   "cell_type": "code",
   "execution_count": 0,
   "metadata": {
    "application/vnd.databricks.v1+cell": {
     "cellMetadata": {
      "byteLimit": 2048000,
      "rowLimit": 10000
     },
     "inputWidgets": {},
     "nuid": "3186ce33-cb94-4907-9746-f4197bc5aceb",
     "showTitle": false,
     "tableResultSettingsMap": {},
     "title": ""
    }
   },
   "outputs": [
    {
     "output_type": "stream",
     "name": "stdout",
     "output_type": "stream",
     "text": [
      "MAE: 6.573900915068937\nRMSE: 28.694321196835052\nR²: 0.07104465350548028\n"
     ]
    }
   ],
   "source": [
    "from sklearn.metrics import mean_absolute_error, mean_squared_error, r2_score\n",
    "import numpy as np\n",
    "\n",
    "print(\"MAE:\", mean_absolute_error(y_test, y_pred))\n",
    "print(\"RMSE:\", np.sqrt(mean_squared_error(y_test, y_pred)))\n",
    "print(\"R²:\", r2_score(y_test, y_pred))\n"
   ]
  },
  {
   "cell_type": "code",
   "execution_count": 0,
   "metadata": {
    "application/vnd.databricks.v1+cell": {
     "cellMetadata": {
      "byteLimit": 2048000,
      "rowLimit": 10000
     },
     "inputWidgets": {},
     "nuid": "0b2b8e80-6921-4fd6-82c6-3ca4cc1c7e0c",
     "showTitle": false,
     "tableResultSettingsMap": {},
     "title": ""
    }
   },
   "outputs": [],
   "source": [
    "from pyspark.sql.functions import hour, dayofweek\n"
   ]
  },
  {
   "cell_type": "code",
   "execution_count": 0,
   "metadata": {
    "application/vnd.databricks.v1+cell": {
     "cellMetadata": {
      "byteLimit": 2048000,
      "rowLimit": 10000
     },
     "inputWidgets": {},
     "nuid": "ddc3e394-d310-4a20-bd92-82db85213f8e",
     "showTitle": false,
     "tableResultSettingsMap": {},
     "title": ""
    }
   },
   "outputs": [],
   "source": [
    "df = df.withColumn(\"pickup_hour\", hour(df[\"pickup_datetime\"]))\n",
    "df = df.withColumn(\"pickup_day\", dayofweek(df[\"pickup_datetime\"]))\n"
   ]
  },
  {
   "cell_type": "code",
   "execution_count": 0,
   "metadata": {
    "application/vnd.databricks.v1+cell": {
     "cellMetadata": {
      "byteLimit": 2048000,
      "rowLimit": 10000
     },
     "inputWidgets": {},
     "nuid": "8e2ada04-182f-4811-917e-7861281dcfec",
     "showTitle": false,
     "tableResultSettingsMap": {},
     "title": ""
    }
   },
   "outputs": [],
   "source": [
    "df = df.withColumn(\"pickup_hour\", hour(df[\"pickup_datetime\"]))\n",
    "df = df.withColumn(\"pickup_day\", dayofweek(df[\"pickup_datetime\"]))\n"
   ]
  },
  {
   "cell_type": "code",
   "execution_count": 0,
   "metadata": {
    "application/vnd.databricks.v1+cell": {
     "cellMetadata": {
      "byteLimit": 2048000,
      "rowLimit": 10000
     },
     "inputWidgets": {},
     "nuid": "d83d1e48-4e14-4eb2-bfea-d88fb7dd9de4",
     "showTitle": false,
     "tableResultSettingsMap": {},
     "title": ""
    }
   },
   "outputs": [],
   "source": [
    "df = df.filter((df[\"trip_duration_minutes\"] > 0) & (df[\"trip_duration_minutes\"] < 120))\n"
   ]
  },
  {
   "cell_type": "code",
   "execution_count": 0,
   "metadata": {
    "application/vnd.databricks.v1+cell": {
     "cellMetadata": {
      "byteLimit": 2048000,
      "rowLimit": 10000
     },
     "inputWidgets": {},
     "nuid": "3c3b0fce-7f36-4f7e-b94f-0bcb178d4946",
     "showTitle": false,
     "tableResultSettingsMap": {},
     "title": ""
    }
   },
   "outputs": [
    {
     "output_type": "stream",
     "name": "stdout",
     "output_type": "stream",
     "text": [
      "MAE: 6.573900915068937\nRMSE: 28.694321196835052\nR²: 0.07104465350548028\n"
     ]
    }
   ],
   "source": [
    "print(\"MAE:\", mean_absolute_error(y_test, y_pred))\n",
    "print(\"RMSE:\", np.sqrt(mean_squared_error(y_test, y_pred)))\n",
    "print(\"R²:\", r2_score(y_test, y_pred))\n"
   ]
  }
 ],
 "metadata": {
  "application/vnd.databricks.v1+notebook": {
   "computePreferences": null,
   "dashboards": [],
   "environmentMetadata": null,
   "inputWidgetPreferences": null,
   "language": "python",
   "notebookMetadata": {
    "mostRecentlyExecutedCommandWithImplicitDF": {
     "commandId": 577823363366981,
     "dataframes": [
      "_sqldf"
     ]
    },
    "pythonIndentUnit": 4
   },
   "notebookName": "NYC Taxi Data Jan 2025",
   "widgets": {}
  }
 },
 "nbformat": 4,
 "nbformat_minor": 0
}